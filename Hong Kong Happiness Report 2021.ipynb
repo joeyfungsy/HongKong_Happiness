{
 "cells": [
  {
   "cell_type": "code",
   "execution_count": 57,
   "metadata": {},
   "outputs": [
    {
     "name": "stdout",
     "output_type": "stream",
     "text": [
      "Collecting pycountry-convert\n",
      "  Downloading pycountry_convert-0.7.2-py3-none-any.whl (13 kB)\n",
      "Collecting pprintpp>=0.3.0\n",
      "  Downloading pprintpp-0.4.0-py2.py3-none-any.whl (16 kB)\n",
      "Collecting pytest>=3.4.0\n",
      "  Downloading pytest-6.2.4-py3-none-any.whl (280 kB)\n",
      "\u001b[K     |████████████████████████████████| 280 kB 3.0 MB/s eta 0:00:01\n",
      "\u001b[?25hRequirement already satisfied: pycountry>=16.11.27.1 in /Users/joeysyfung/opt/anaconda3/lib/python3.8/site-packages (from pycountry-convert) (20.7.3)\n",
      "Collecting pytest-mock>=1.6.3\n",
      "  Downloading pytest_mock-3.6.1-py3-none-any.whl (12 kB)\n",
      "Requirement already satisfied: wheel>=0.30.0 in /Users/joeysyfung/opt/anaconda3/lib/python3.8/site-packages (from pycountry-convert) (0.35.1)\n",
      "Collecting repoze.lru>=0.7\n",
      "  Downloading repoze.lru-0.7-py3-none-any.whl (10 kB)\n",
      "Collecting pytest-cov>=2.5.1\n",
      "  Downloading pytest_cov-2.12.0-py2.py3-none-any.whl (20 kB)\n",
      "Requirement already satisfied: packaging in /Users/joeysyfung/opt/anaconda3/lib/python3.8/site-packages (from pytest>=3.4.0->pycountry-convert) (20.4)\n",
      "Requirement already satisfied: attrs>=19.2.0 in /Users/joeysyfung/opt/anaconda3/lib/python3.8/site-packages (from pytest>=3.4.0->pycountry-convert) (20.3.0)\n",
      "Requirement already satisfied: pluggy<1.0.0a1,>=0.12 in /Users/joeysyfung/opt/anaconda3/lib/python3.8/site-packages (from pytest>=3.4.0->pycountry-convert) (0.13.1)\n",
      "Requirement already satisfied: iniconfig in /Users/joeysyfung/opt/anaconda3/lib/python3.8/site-packages (from pytest>=3.4.0->pycountry-convert) (1.1.1)\n",
      "Requirement already satisfied: py>=1.8.2 in /Users/joeysyfung/opt/anaconda3/lib/python3.8/site-packages (from pytest>=3.4.0->pycountry-convert) (1.9.0)\n",
      "Requirement already satisfied: toml in /Users/joeysyfung/opt/anaconda3/lib/python3.8/site-packages (from pytest>=3.4.0->pycountry-convert) (0.10.1)\n",
      "Collecting coverage[toml]>=5.2.1\n",
      "  Downloading coverage-5.5-cp38-cp38-macosx_10_9_x86_64.whl (207 kB)\n",
      "\u001b[K     |████████████████████████████████| 207 kB 28.0 MB/s eta 0:00:01\n",
      "\u001b[?25hRequirement already satisfied: six in /Users/joeysyfung/opt/anaconda3/lib/python3.8/site-packages (from packaging->pytest>=3.4.0->pycountry-convert) (1.15.0)\n",
      "Requirement already satisfied: pyparsing>=2.0.2 in /Users/joeysyfung/opt/anaconda3/lib/python3.8/site-packages (from packaging->pytest>=3.4.0->pycountry-convert) (2.4.7)\n",
      "Installing collected packages: pprintpp, pytest, pytest-mock, repoze.lru, coverage, pytest-cov, pycountry-convert\n",
      "  Attempting uninstall: pytest\n",
      "    Found existing installation: pytest 0.0.0\n",
      "    Uninstalling pytest-0.0.0:\n",
      "      Successfully uninstalled pytest-0.0.0\n",
      "Successfully installed coverage-5.5 pprintpp-0.4.0 pycountry-convert-0.7.2 pytest-6.2.4 pytest-cov-2.12.0 pytest-mock-3.6.1 repoze.lru-0.7\n",
      "Note: you may need to restart the kernel to use updated packages.\n"
     ]
    }
   ],
   "source": [
    "# pip install pycountry-convert"
   ]
  },
  {
   "cell_type": "code",
   "execution_count": 58,
   "metadata": {},
   "outputs": [],
   "source": [
    "import pandas as pd\n",
    "import numpy as np\n",
    "import matplotlib.pyplot as plt\n",
    "import seaborn as sns\n",
    "import matplotlib as mpl\n",
    "from matplotlib.colors import LinearSegmentedColormap\n",
    "import plotly.express as px\n",
    "import pycountry_convert as pc\n",
    "import plotly.graph_objects as go\n",
    "from plotly.subplots import make_subplots"
   ]
  },
  {
   "cell_type": "markdown",
   "metadata": {},
   "source": [
    "## Overlook of the Dataset"
   ]
  },
  {
   "cell_type": "code",
   "execution_count": 2,
   "metadata": {},
   "outputs": [
    {
     "data": {
      "text/html": [
       "<div>\n",
       "<style scoped>\n",
       "    .dataframe tbody tr th:only-of-type {\n",
       "        vertical-align: middle;\n",
       "    }\n",
       "\n",
       "    .dataframe tbody tr th {\n",
       "        vertical-align: top;\n",
       "    }\n",
       "\n",
       "    .dataframe thead th {\n",
       "        text-align: right;\n",
       "    }\n",
       "</style>\n",
       "<table border=\"1\" class=\"dataframe\">\n",
       "  <thead>\n",
       "    <tr style=\"text-align: right;\">\n",
       "      <th></th>\n",
       "      <th>Country name</th>\n",
       "      <th>Regional indicator</th>\n",
       "      <th>Ladder score</th>\n",
       "      <th>Standard error of ladder score</th>\n",
       "      <th>upperwhisker</th>\n",
       "      <th>lowerwhisker</th>\n",
       "      <th>Logged GDP per capita</th>\n",
       "      <th>Social support</th>\n",
       "      <th>Healthy life expectancy</th>\n",
       "      <th>Freedom to make life choices</th>\n",
       "      <th>Generosity</th>\n",
       "      <th>Perceptions of corruption</th>\n",
       "      <th>Ladder score in Dystopia</th>\n",
       "      <th>Explained by: Log GDP per capita</th>\n",
       "      <th>Explained by: Social support</th>\n",
       "      <th>Explained by: Healthy life expectancy</th>\n",
       "      <th>Explained by: Freedom to make life choices</th>\n",
       "      <th>Explained by: Generosity</th>\n",
       "      <th>Explained by: Perceptions of corruption</th>\n",
       "      <th>Dystopia + residual</th>\n",
       "    </tr>\n",
       "  </thead>\n",
       "  <tbody>\n",
       "    <tr>\n",
       "      <th>0</th>\n",
       "      <td>Finland</td>\n",
       "      <td>Western Europe</td>\n",
       "      <td>7.842</td>\n",
       "      <td>0.032</td>\n",
       "      <td>7.904</td>\n",
       "      <td>7.780</td>\n",
       "      <td>10.775</td>\n",
       "      <td>0.954</td>\n",
       "      <td>72.000</td>\n",
       "      <td>0.949</td>\n",
       "      <td>-0.098</td>\n",
       "      <td>0.186</td>\n",
       "      <td>2.43</td>\n",
       "      <td>1.446</td>\n",
       "      <td>1.106</td>\n",
       "      <td>0.741</td>\n",
       "      <td>0.691</td>\n",
       "      <td>0.124</td>\n",
       "      <td>0.481</td>\n",
       "      <td>3.253</td>\n",
       "    </tr>\n",
       "    <tr>\n",
       "      <th>1</th>\n",
       "      <td>Denmark</td>\n",
       "      <td>Western Europe</td>\n",
       "      <td>7.620</td>\n",
       "      <td>0.035</td>\n",
       "      <td>7.687</td>\n",
       "      <td>7.552</td>\n",
       "      <td>10.933</td>\n",
       "      <td>0.954</td>\n",
       "      <td>72.700</td>\n",
       "      <td>0.946</td>\n",
       "      <td>0.030</td>\n",
       "      <td>0.179</td>\n",
       "      <td>2.43</td>\n",
       "      <td>1.502</td>\n",
       "      <td>1.108</td>\n",
       "      <td>0.763</td>\n",
       "      <td>0.686</td>\n",
       "      <td>0.208</td>\n",
       "      <td>0.485</td>\n",
       "      <td>2.868</td>\n",
       "    </tr>\n",
       "    <tr>\n",
       "      <th>2</th>\n",
       "      <td>Switzerland</td>\n",
       "      <td>Western Europe</td>\n",
       "      <td>7.571</td>\n",
       "      <td>0.036</td>\n",
       "      <td>7.643</td>\n",
       "      <td>7.500</td>\n",
       "      <td>11.117</td>\n",
       "      <td>0.942</td>\n",
       "      <td>74.400</td>\n",
       "      <td>0.919</td>\n",
       "      <td>0.025</td>\n",
       "      <td>0.292</td>\n",
       "      <td>2.43</td>\n",
       "      <td>1.566</td>\n",
       "      <td>1.079</td>\n",
       "      <td>0.816</td>\n",
       "      <td>0.653</td>\n",
       "      <td>0.204</td>\n",
       "      <td>0.413</td>\n",
       "      <td>2.839</td>\n",
       "    </tr>\n",
       "    <tr>\n",
       "      <th>3</th>\n",
       "      <td>Iceland</td>\n",
       "      <td>Western Europe</td>\n",
       "      <td>7.554</td>\n",
       "      <td>0.059</td>\n",
       "      <td>7.670</td>\n",
       "      <td>7.438</td>\n",
       "      <td>10.878</td>\n",
       "      <td>0.983</td>\n",
       "      <td>73.000</td>\n",
       "      <td>0.955</td>\n",
       "      <td>0.160</td>\n",
       "      <td>0.673</td>\n",
       "      <td>2.43</td>\n",
       "      <td>1.482</td>\n",
       "      <td>1.172</td>\n",
       "      <td>0.772</td>\n",
       "      <td>0.698</td>\n",
       "      <td>0.293</td>\n",
       "      <td>0.170</td>\n",
       "      <td>2.967</td>\n",
       "    </tr>\n",
       "    <tr>\n",
       "      <th>4</th>\n",
       "      <td>Netherlands</td>\n",
       "      <td>Western Europe</td>\n",
       "      <td>7.464</td>\n",
       "      <td>0.027</td>\n",
       "      <td>7.518</td>\n",
       "      <td>7.410</td>\n",
       "      <td>10.932</td>\n",
       "      <td>0.942</td>\n",
       "      <td>72.400</td>\n",
       "      <td>0.913</td>\n",
       "      <td>0.175</td>\n",
       "      <td>0.338</td>\n",
       "      <td>2.43</td>\n",
       "      <td>1.501</td>\n",
       "      <td>1.079</td>\n",
       "      <td>0.753</td>\n",
       "      <td>0.647</td>\n",
       "      <td>0.302</td>\n",
       "      <td>0.384</td>\n",
       "      <td>2.798</td>\n",
       "    </tr>\n",
       "    <tr>\n",
       "      <th>...</th>\n",
       "      <td>...</td>\n",
       "      <td>...</td>\n",
       "      <td>...</td>\n",
       "      <td>...</td>\n",
       "      <td>...</td>\n",
       "      <td>...</td>\n",
       "      <td>...</td>\n",
       "      <td>...</td>\n",
       "      <td>...</td>\n",
       "      <td>...</td>\n",
       "      <td>...</td>\n",
       "      <td>...</td>\n",
       "      <td>...</td>\n",
       "      <td>...</td>\n",
       "      <td>...</td>\n",
       "      <td>...</td>\n",
       "      <td>...</td>\n",
       "      <td>...</td>\n",
       "      <td>...</td>\n",
       "      <td>...</td>\n",
       "    </tr>\n",
       "    <tr>\n",
       "      <th>144</th>\n",
       "      <td>Lesotho</td>\n",
       "      <td>Sub-Saharan Africa</td>\n",
       "      <td>3.512</td>\n",
       "      <td>0.120</td>\n",
       "      <td>3.748</td>\n",
       "      <td>3.276</td>\n",
       "      <td>7.926</td>\n",
       "      <td>0.787</td>\n",
       "      <td>48.700</td>\n",
       "      <td>0.715</td>\n",
       "      <td>-0.131</td>\n",
       "      <td>0.915</td>\n",
       "      <td>2.43</td>\n",
       "      <td>0.451</td>\n",
       "      <td>0.731</td>\n",
       "      <td>0.007</td>\n",
       "      <td>0.405</td>\n",
       "      <td>0.103</td>\n",
       "      <td>0.015</td>\n",
       "      <td>1.800</td>\n",
       "    </tr>\n",
       "    <tr>\n",
       "      <th>145</th>\n",
       "      <td>Botswana</td>\n",
       "      <td>Sub-Saharan Africa</td>\n",
       "      <td>3.467</td>\n",
       "      <td>0.074</td>\n",
       "      <td>3.611</td>\n",
       "      <td>3.322</td>\n",
       "      <td>9.782</td>\n",
       "      <td>0.784</td>\n",
       "      <td>59.269</td>\n",
       "      <td>0.824</td>\n",
       "      <td>-0.246</td>\n",
       "      <td>0.801</td>\n",
       "      <td>2.43</td>\n",
       "      <td>1.099</td>\n",
       "      <td>0.724</td>\n",
       "      <td>0.340</td>\n",
       "      <td>0.539</td>\n",
       "      <td>0.027</td>\n",
       "      <td>0.088</td>\n",
       "      <td>0.648</td>\n",
       "    </tr>\n",
       "    <tr>\n",
       "      <th>146</th>\n",
       "      <td>Rwanda</td>\n",
       "      <td>Sub-Saharan Africa</td>\n",
       "      <td>3.415</td>\n",
       "      <td>0.068</td>\n",
       "      <td>3.548</td>\n",
       "      <td>3.282</td>\n",
       "      <td>7.676</td>\n",
       "      <td>0.552</td>\n",
       "      <td>61.400</td>\n",
       "      <td>0.897</td>\n",
       "      <td>0.061</td>\n",
       "      <td>0.167</td>\n",
       "      <td>2.43</td>\n",
       "      <td>0.364</td>\n",
       "      <td>0.202</td>\n",
       "      <td>0.407</td>\n",
       "      <td>0.627</td>\n",
       "      <td>0.227</td>\n",
       "      <td>0.493</td>\n",
       "      <td>1.095</td>\n",
       "    </tr>\n",
       "    <tr>\n",
       "      <th>147</th>\n",
       "      <td>Zimbabwe</td>\n",
       "      <td>Sub-Saharan Africa</td>\n",
       "      <td>3.145</td>\n",
       "      <td>0.058</td>\n",
       "      <td>3.259</td>\n",
       "      <td>3.030</td>\n",
       "      <td>7.943</td>\n",
       "      <td>0.750</td>\n",
       "      <td>56.201</td>\n",
       "      <td>0.677</td>\n",
       "      <td>-0.047</td>\n",
       "      <td>0.821</td>\n",
       "      <td>2.43</td>\n",
       "      <td>0.457</td>\n",
       "      <td>0.649</td>\n",
       "      <td>0.243</td>\n",
       "      <td>0.359</td>\n",
       "      <td>0.157</td>\n",
       "      <td>0.075</td>\n",
       "      <td>1.205</td>\n",
       "    </tr>\n",
       "    <tr>\n",
       "      <th>148</th>\n",
       "      <td>Afghanistan</td>\n",
       "      <td>South Asia</td>\n",
       "      <td>2.523</td>\n",
       "      <td>0.038</td>\n",
       "      <td>2.596</td>\n",
       "      <td>2.449</td>\n",
       "      <td>7.695</td>\n",
       "      <td>0.463</td>\n",
       "      <td>52.493</td>\n",
       "      <td>0.382</td>\n",
       "      <td>-0.102</td>\n",
       "      <td>0.924</td>\n",
       "      <td>2.43</td>\n",
       "      <td>0.370</td>\n",
       "      <td>0.000</td>\n",
       "      <td>0.126</td>\n",
       "      <td>0.000</td>\n",
       "      <td>0.122</td>\n",
       "      <td>0.010</td>\n",
       "      <td>1.895</td>\n",
       "    </tr>\n",
       "  </tbody>\n",
       "</table>\n",
       "<p>149 rows × 20 columns</p>\n",
       "</div>"
      ],
      "text/plain": [
       "    Country name  Regional indicator  Ladder score  \\\n",
       "0        Finland      Western Europe         7.842   \n",
       "1        Denmark      Western Europe         7.620   \n",
       "2    Switzerland      Western Europe         7.571   \n",
       "3        Iceland      Western Europe         7.554   \n",
       "4    Netherlands      Western Europe         7.464   \n",
       "..           ...                 ...           ...   \n",
       "144      Lesotho  Sub-Saharan Africa         3.512   \n",
       "145     Botswana  Sub-Saharan Africa         3.467   \n",
       "146       Rwanda  Sub-Saharan Africa         3.415   \n",
       "147     Zimbabwe  Sub-Saharan Africa         3.145   \n",
       "148  Afghanistan          South Asia         2.523   \n",
       "\n",
       "     Standard error of ladder score  upperwhisker  lowerwhisker  \\\n",
       "0                             0.032         7.904         7.780   \n",
       "1                             0.035         7.687         7.552   \n",
       "2                             0.036         7.643         7.500   \n",
       "3                             0.059         7.670         7.438   \n",
       "4                             0.027         7.518         7.410   \n",
       "..                              ...           ...           ...   \n",
       "144                           0.120         3.748         3.276   \n",
       "145                           0.074         3.611         3.322   \n",
       "146                           0.068         3.548         3.282   \n",
       "147                           0.058         3.259         3.030   \n",
       "148                           0.038         2.596         2.449   \n",
       "\n",
       "     Logged GDP per capita  Social support  Healthy life expectancy  \\\n",
       "0                   10.775           0.954                   72.000   \n",
       "1                   10.933           0.954                   72.700   \n",
       "2                   11.117           0.942                   74.400   \n",
       "3                   10.878           0.983                   73.000   \n",
       "4                   10.932           0.942                   72.400   \n",
       "..                     ...             ...                      ...   \n",
       "144                  7.926           0.787                   48.700   \n",
       "145                  9.782           0.784                   59.269   \n",
       "146                  7.676           0.552                   61.400   \n",
       "147                  7.943           0.750                   56.201   \n",
       "148                  7.695           0.463                   52.493   \n",
       "\n",
       "     Freedom to make life choices  Generosity  Perceptions of corruption  \\\n",
       "0                           0.949      -0.098                      0.186   \n",
       "1                           0.946       0.030                      0.179   \n",
       "2                           0.919       0.025                      0.292   \n",
       "3                           0.955       0.160                      0.673   \n",
       "4                           0.913       0.175                      0.338   \n",
       "..                            ...         ...                        ...   \n",
       "144                         0.715      -0.131                      0.915   \n",
       "145                         0.824      -0.246                      0.801   \n",
       "146                         0.897       0.061                      0.167   \n",
       "147                         0.677      -0.047                      0.821   \n",
       "148                         0.382      -0.102                      0.924   \n",
       "\n",
       "     Ladder score in Dystopia  Explained by: Log GDP per capita  \\\n",
       "0                        2.43                             1.446   \n",
       "1                        2.43                             1.502   \n",
       "2                        2.43                             1.566   \n",
       "3                        2.43                             1.482   \n",
       "4                        2.43                             1.501   \n",
       "..                        ...                               ...   \n",
       "144                      2.43                             0.451   \n",
       "145                      2.43                             1.099   \n",
       "146                      2.43                             0.364   \n",
       "147                      2.43                             0.457   \n",
       "148                      2.43                             0.370   \n",
       "\n",
       "     Explained by: Social support  Explained by: Healthy life expectancy  \\\n",
       "0                           1.106                                  0.741   \n",
       "1                           1.108                                  0.763   \n",
       "2                           1.079                                  0.816   \n",
       "3                           1.172                                  0.772   \n",
       "4                           1.079                                  0.753   \n",
       "..                            ...                                    ...   \n",
       "144                         0.731                                  0.007   \n",
       "145                         0.724                                  0.340   \n",
       "146                         0.202                                  0.407   \n",
       "147                         0.649                                  0.243   \n",
       "148                         0.000                                  0.126   \n",
       "\n",
       "     Explained by: Freedom to make life choices  Explained by: Generosity  \\\n",
       "0                                         0.691                     0.124   \n",
       "1                                         0.686                     0.208   \n",
       "2                                         0.653                     0.204   \n",
       "3                                         0.698                     0.293   \n",
       "4                                         0.647                     0.302   \n",
       "..                                          ...                       ...   \n",
       "144                                       0.405                     0.103   \n",
       "145                                       0.539                     0.027   \n",
       "146                                       0.627                     0.227   \n",
       "147                                       0.359                     0.157   \n",
       "148                                       0.000                     0.122   \n",
       "\n",
       "     Explained by: Perceptions of corruption  Dystopia + residual  \n",
       "0                                      0.481                3.253  \n",
       "1                                      0.485                2.868  \n",
       "2                                      0.413                2.839  \n",
       "3                                      0.170                2.967  \n",
       "4                                      0.384                2.798  \n",
       "..                                       ...                  ...  \n",
       "144                                    0.015                1.800  \n",
       "145                                    0.088                0.648  \n",
       "146                                    0.493                1.095  \n",
       "147                                    0.075                1.205  \n",
       "148                                    0.010                1.895  \n",
       "\n",
       "[149 rows x 20 columns]"
      ]
     },
     "execution_count": 2,
     "metadata": {},
     "output_type": "execute_result"
    }
   ],
   "source": [
    "df_data_21 = pd.read_csv('world-happiness-report-2021.csv')\n",
    "df_data_21"
   ]
  },
  {
   "cell_type": "code",
   "execution_count": 3,
   "metadata": {},
   "outputs": [
    {
     "data": {
      "text/html": [
       "<div>\n",
       "<style scoped>\n",
       "    .dataframe tbody tr th:only-of-type {\n",
       "        vertical-align: middle;\n",
       "    }\n",
       "\n",
       "    .dataframe tbody tr th {\n",
       "        vertical-align: top;\n",
       "    }\n",
       "\n",
       "    .dataframe thead th {\n",
       "        text-align: right;\n",
       "    }\n",
       "</style>\n",
       "<table border=\"1\" class=\"dataframe\">\n",
       "  <thead>\n",
       "    <tr style=\"text-align: right;\">\n",
       "      <th></th>\n",
       "      <th>Country name</th>\n",
       "      <th>year</th>\n",
       "      <th>Life Ladder</th>\n",
       "      <th>Log GDP per capita</th>\n",
       "      <th>Social support</th>\n",
       "      <th>Healthy life expectancy at birth</th>\n",
       "      <th>Freedom to make life choices</th>\n",
       "      <th>Generosity</th>\n",
       "      <th>Perceptions of corruption</th>\n",
       "      <th>Positive affect</th>\n",
       "      <th>Negative affect</th>\n",
       "    </tr>\n",
       "  </thead>\n",
       "  <tbody>\n",
       "    <tr>\n",
       "      <th>0</th>\n",
       "      <td>Afghanistan</td>\n",
       "      <td>2008</td>\n",
       "      <td>3.724</td>\n",
       "      <td>7.370</td>\n",
       "      <td>0.451</td>\n",
       "      <td>50.80</td>\n",
       "      <td>0.718</td>\n",
       "      <td>0.168</td>\n",
       "      <td>0.882</td>\n",
       "      <td>0.518</td>\n",
       "      <td>0.258</td>\n",
       "    </tr>\n",
       "    <tr>\n",
       "      <th>1</th>\n",
       "      <td>Afghanistan</td>\n",
       "      <td>2009</td>\n",
       "      <td>4.402</td>\n",
       "      <td>7.540</td>\n",
       "      <td>0.552</td>\n",
       "      <td>51.20</td>\n",
       "      <td>0.679</td>\n",
       "      <td>0.190</td>\n",
       "      <td>0.850</td>\n",
       "      <td>0.584</td>\n",
       "      <td>0.237</td>\n",
       "    </tr>\n",
       "    <tr>\n",
       "      <th>2</th>\n",
       "      <td>Afghanistan</td>\n",
       "      <td>2010</td>\n",
       "      <td>4.758</td>\n",
       "      <td>7.647</td>\n",
       "      <td>0.539</td>\n",
       "      <td>51.60</td>\n",
       "      <td>0.600</td>\n",
       "      <td>0.121</td>\n",
       "      <td>0.707</td>\n",
       "      <td>0.618</td>\n",
       "      <td>0.275</td>\n",
       "    </tr>\n",
       "    <tr>\n",
       "      <th>3</th>\n",
       "      <td>Afghanistan</td>\n",
       "      <td>2011</td>\n",
       "      <td>3.832</td>\n",
       "      <td>7.620</td>\n",
       "      <td>0.521</td>\n",
       "      <td>51.92</td>\n",
       "      <td>0.496</td>\n",
       "      <td>0.162</td>\n",
       "      <td>0.731</td>\n",
       "      <td>0.611</td>\n",
       "      <td>0.267</td>\n",
       "    </tr>\n",
       "    <tr>\n",
       "      <th>4</th>\n",
       "      <td>Afghanistan</td>\n",
       "      <td>2012</td>\n",
       "      <td>3.783</td>\n",
       "      <td>7.705</td>\n",
       "      <td>0.521</td>\n",
       "      <td>52.24</td>\n",
       "      <td>0.531</td>\n",
       "      <td>0.236</td>\n",
       "      <td>0.776</td>\n",
       "      <td>0.710</td>\n",
       "      <td>0.268</td>\n",
       "    </tr>\n",
       "    <tr>\n",
       "      <th>...</th>\n",
       "      <td>...</td>\n",
       "      <td>...</td>\n",
       "      <td>...</td>\n",
       "      <td>...</td>\n",
       "      <td>...</td>\n",
       "      <td>...</td>\n",
       "      <td>...</td>\n",
       "      <td>...</td>\n",
       "      <td>...</td>\n",
       "      <td>...</td>\n",
       "      <td>...</td>\n",
       "    </tr>\n",
       "    <tr>\n",
       "      <th>1944</th>\n",
       "      <td>Zimbabwe</td>\n",
       "      <td>2016</td>\n",
       "      <td>3.735</td>\n",
       "      <td>7.984</td>\n",
       "      <td>0.768</td>\n",
       "      <td>54.40</td>\n",
       "      <td>0.733</td>\n",
       "      <td>-0.095</td>\n",
       "      <td>0.724</td>\n",
       "      <td>0.738</td>\n",
       "      <td>0.209</td>\n",
       "    </tr>\n",
       "    <tr>\n",
       "      <th>1945</th>\n",
       "      <td>Zimbabwe</td>\n",
       "      <td>2017</td>\n",
       "      <td>3.638</td>\n",
       "      <td>8.016</td>\n",
       "      <td>0.754</td>\n",
       "      <td>55.00</td>\n",
       "      <td>0.753</td>\n",
       "      <td>-0.098</td>\n",
       "      <td>0.751</td>\n",
       "      <td>0.806</td>\n",
       "      <td>0.224</td>\n",
       "    </tr>\n",
       "    <tr>\n",
       "      <th>1946</th>\n",
       "      <td>Zimbabwe</td>\n",
       "      <td>2018</td>\n",
       "      <td>3.616</td>\n",
       "      <td>8.049</td>\n",
       "      <td>0.775</td>\n",
       "      <td>55.60</td>\n",
       "      <td>0.763</td>\n",
       "      <td>-0.068</td>\n",
       "      <td>0.844</td>\n",
       "      <td>0.710</td>\n",
       "      <td>0.212</td>\n",
       "    </tr>\n",
       "    <tr>\n",
       "      <th>1947</th>\n",
       "      <td>Zimbabwe</td>\n",
       "      <td>2019</td>\n",
       "      <td>2.694</td>\n",
       "      <td>7.950</td>\n",
       "      <td>0.759</td>\n",
       "      <td>56.20</td>\n",
       "      <td>0.632</td>\n",
       "      <td>-0.064</td>\n",
       "      <td>0.831</td>\n",
       "      <td>0.716</td>\n",
       "      <td>0.235</td>\n",
       "    </tr>\n",
       "    <tr>\n",
       "      <th>1948</th>\n",
       "      <td>Zimbabwe</td>\n",
       "      <td>2020</td>\n",
       "      <td>3.160</td>\n",
       "      <td>7.829</td>\n",
       "      <td>0.717</td>\n",
       "      <td>56.80</td>\n",
       "      <td>0.643</td>\n",
       "      <td>-0.009</td>\n",
       "      <td>0.789</td>\n",
       "      <td>0.703</td>\n",
       "      <td>0.346</td>\n",
       "    </tr>\n",
       "  </tbody>\n",
       "</table>\n",
       "<p>1949 rows × 11 columns</p>\n",
       "</div>"
      ],
      "text/plain": [
       "     Country name  year  Life Ladder  Log GDP per capita  Social support  \\\n",
       "0     Afghanistan  2008        3.724               7.370           0.451   \n",
       "1     Afghanistan  2009        4.402               7.540           0.552   \n",
       "2     Afghanistan  2010        4.758               7.647           0.539   \n",
       "3     Afghanistan  2011        3.832               7.620           0.521   \n",
       "4     Afghanistan  2012        3.783               7.705           0.521   \n",
       "...           ...   ...          ...                 ...             ...   \n",
       "1944     Zimbabwe  2016        3.735               7.984           0.768   \n",
       "1945     Zimbabwe  2017        3.638               8.016           0.754   \n",
       "1946     Zimbabwe  2018        3.616               8.049           0.775   \n",
       "1947     Zimbabwe  2019        2.694               7.950           0.759   \n",
       "1948     Zimbabwe  2020        3.160               7.829           0.717   \n",
       "\n",
       "      Healthy life expectancy at birth  Freedom to make life choices  \\\n",
       "0                                50.80                         0.718   \n",
       "1                                51.20                         0.679   \n",
       "2                                51.60                         0.600   \n",
       "3                                51.92                         0.496   \n",
       "4                                52.24                         0.531   \n",
       "...                                ...                           ...   \n",
       "1944                             54.40                         0.733   \n",
       "1945                             55.00                         0.753   \n",
       "1946                             55.60                         0.763   \n",
       "1947                             56.20                         0.632   \n",
       "1948                             56.80                         0.643   \n",
       "\n",
       "      Generosity  Perceptions of corruption  Positive affect  Negative affect  \n",
       "0          0.168                      0.882            0.518            0.258  \n",
       "1          0.190                      0.850            0.584            0.237  \n",
       "2          0.121                      0.707            0.618            0.275  \n",
       "3          0.162                      0.731            0.611            0.267  \n",
       "4          0.236                      0.776            0.710            0.268  \n",
       "...          ...                        ...              ...              ...  \n",
       "1944      -0.095                      0.724            0.738            0.209  \n",
       "1945      -0.098                      0.751            0.806            0.224  \n",
       "1946      -0.068                      0.844            0.710            0.212  \n",
       "1947      -0.064                      0.831            0.716            0.235  \n",
       "1948      -0.009                      0.789            0.703            0.346  \n",
       "\n",
       "[1949 rows x 11 columns]"
      ]
     },
     "execution_count": 3,
     "metadata": {},
     "output_type": "execute_result"
    }
   ],
   "source": [
    "df_data_past = pd.read_csv('world-happiness-report.csv')\n",
    "df_data_past"
   ]
  },
  {
   "cell_type": "code",
   "execution_count": 4,
   "metadata": {},
   "outputs": [],
   "source": [
    "## List of Hong Kong's neightbor countries/provinces (East Asia)\n",
    "east_asia = df_data_21[df_data_21['Regional indicator'] == \"East Asia\"]['Country name'].to_list()"
   ]
  },
  {
   "cell_type": "code",
   "execution_count": 6,
   "metadata": {},
   "outputs": [],
   "source": [
    "## Dataset of Hong Kong's neightbor countries/provinces (East Asia)\n",
    "df_east_asia = pd.DataFrame(df_data_21[df_data_21['Country name'].isin(east_asia)])"
   ]
  },
  {
   "cell_type": "markdown",
   "metadata": {},
   "source": [
    "## Happiness Index  \n",
    "Comparing the Ladder score (Happiness Index) of some significant countries, the East Asian Country and Hong Kong with their means and median"
   ]
  },
  {
   "cell_type": "code",
   "execution_count": 9,
   "metadata": {},
   "outputs": [],
   "source": [
    "# The country in the world that has the highest ladder score: Finland\n",
    "data_21_top = df_data_21.iloc[0:1]\n",
    "# The country in the world that has the lowest ladder score: Afghanistan \n",
    "data_21_bottom = (df_data_21.iloc[-1])\n",
    "# The country (province) in East Asia that has the highest ladder score: Taiwan \n",
    "east_asia_top = df_east_asia.iloc[0:1]\n",
    "# The country (province) in East Asia that has the lowest ladder score: China\n",
    "east_asia_bottom = (df_east_asia.iloc[-1])\n",
    "# Hong Kong\n",
    "east_asia_HK = (df_east_asia.iloc[-2])"
   ]
  },
  {
   "cell_type": "code",
   "execution_count": 65,
   "metadata": {},
   "outputs": [],
   "source": [
    "# Means \n",
    "data_21_mean_score = float(round(df_data_21['Ladder score'].mean(),2))\n",
    "east_asia_mean_score = float(round(df_east_asia['Ladder score'].mean(),2))\n",
    "\n",
    "e_a_meanVStop = abs(east_asia_mean_score - float(round(east_asia_top['Ladder score'].mean(),2)))\n",
    "e_a_meanVSbottom = abs(east_asia_mean_score - float(round(east_asia_bottom['Ladder score'].mean(),2)))\n",
    "e_a_meanVSHK = abs(east_asia_mean_score - float(round(east_asia_HK['Ladder score'].mean(),2)))\n",
    "\n",
    "data_21_meanVStop = abs(data_21_mean_score - float(round(data_21_top['Ladder score'].mean(),2)))\n",
    "data_21_meanVSbottom = abs(data_21_mean_score - float(round(data_21_bottom['Ladder score'].mean(),2)))\n",
    "\n",
    "HK_mean = round(east_asia_HK['Ladder score'].mean(),2)\n",
    "\n",
    "# Median \n",
    "e_a_median = df_east_asia['Ladder score'].median()\n",
    "data_21_median = df_data_21['Ladder score'].median()"
   ]
  },
  {
   "cell_type": "code",
   "execution_count": 78,
   "metadata": {},
   "outputs": [],
   "source": [
    "# Make a copy of the dataset \n",
    "df_country = df_data_21.copy()\n",
    "\n",
    "# Covert/drop/rename some countries name that are not on pc\n",
    "df_country.loc[df_country['Country name'] == 'Taiwan Province of China', 'Country name'] = 'Taiwan, Province of China' \n",
    "df_country.loc[df_country['Country name'] == 'Hong Kong S.A.R. of China', 'Country name'] = 'Hong Kong' \n",
    "df_country.loc[df_country['Country name'] == 'Congo (Brazzaville)', 'Country name'] = 'Congo' \n",
    "df_country.loc[df_country['Country name'] == 'Palestinian Territories', 'Country name'] = 'Palestine, State of' \n",
    "df_country.drop(index=df_country[df_country['Country name'] == 'Kosovo'].index, inplace=True)\n",
    "df_country.drop(index=df_country[df_country['Country name'] == 'North Cyprus'].index, inplace=True)\n",
    "\n",
    "# Make colume with country code\n",
    "df_country['c_code']=df_country['Country name'].apply(lambda x: pc.country_name_to_country_alpha3(x,))\n",
    "col_code=[]\n",
    "\n",
    "for i in df_country['Ladder score']:\n",
    "    if i>=data_21_median :\n",
    "        col_code.append('#D35151') # if less than median then red\n",
    "    else:\n",
    "        col_code.append('#179E66') # if greater than median then green\n"
   ]
  },
  {
   "cell_type": "code",
   "execution_count": 82,
   "metadata": {},
   "outputs": [
    {
     "data": {
      "application/vnd.plotly.v1+json": {
       "config": {
        "plotlyServerURL": "https://plot.ly"
       },
       "data": [
        {
         "coloraxis": "coloraxis",
         "customdata": [
          [
           "FIN",
           10.775,
           72,
           0.9490000000000001
          ],
          [
           "DNK",
           10.933,
           72.7,
           0.946
          ],
          [
           "CHE",
           11.117,
           74.4,
           0.919
          ],
          [
           "ISL",
           10.878,
           73,
           0.955
          ],
          [
           "NLD",
           10.932,
           72.4,
           0.9129999999999999
          ],
          [
           "NOR",
           11.052999999999999,
           73.3,
           0.96
          ],
          [
           "SWE",
           10.867,
           72.7,
           0.945
          ],
          [
           "LUX",
           11.647,
           72.6,
           0.907
          ],
          [
           "NZL",
           10.642999999999999,
           73.4,
           0.929
          ],
          [
           "AUT",
           10.905999999999999,
           73.3,
           0.9079999999999999
          ],
          [
           "AUS",
           10.796,
           73.9,
           0.914
          ],
          [
           "ISR",
           10.575,
           73.503,
           0.8
          ],
          [
           "DEU",
           10.873,
           72.5,
           0.875
          ],
          [
           "CAN",
           10.776,
           73.8,
           0.915
          ],
          [
           "IRL",
           11.342,
           72.4,
           0.879
          ],
          [
           "CRI",
           9.88,
           71.4,
           0.934
          ],
          [
           "GBR",
           10.707,
           72.5,
           0.8590000000000001
          ],
          [
           "CZE",
           10.556,
           70.807,
           0.858
          ],
          [
           "USA",
           11.023,
           68.2,
           0.8370000000000001
          ],
          [
           "BEL",
           10.823,
           72.199,
           0.7829999999999999
          ],
          [
           "FRA",
           10.704,
           74,
           0.8220000000000001
          ],
          [
           "BHR",
           10.669,
           69.495,
           0.925
          ],
          [
           "MLT",
           10.674000000000001,
           72.2,
           0.927
          ],
          [
           "TWN",
           10.870999999999999,
           69.6,
           0.784
          ],
          [
           "ARE",
           11.085,
           67.333,
           0.932
          ],
          [
           "SAU",
           10.743,
           66.60300000000001,
           0.877
          ],
          [
           "ESP",
           10.571,
           74.7,
           0.7609999999999999
          ],
          [
           "ITA",
           10.623,
           73.8,
           0.693
          ],
          [
           "SVN",
           10.529000000000002,
           71.4,
           0.9490000000000001
          ],
          [
           "GTM",
           9.052999999999999,
           64.958,
           0.9059999999999999
          ],
          [
           "URY",
           9.966000000000001,
           69.1,
           0.8959999999999999
          ],
          [
           "SGP",
           11.488,
           76.953,
           0.927
          ],
          [
           "SVK",
           10.369000000000002,
           69.20100000000001,
           0.7659999999999999
          ],
          [
           "BRA",
           9.577,
           66.601,
           0.804
          ],
          [
           "MEX",
           9.859,
           68.597,
           0.862
          ],
          [
           "JAM",
           9.186,
           67.5,
           0.89
          ],
          [
           "LTU",
           10.499,
           67.906,
           0.773
          ],
          [
           "CYP",
           10.575999999999999,
           73.898,
           0.763
          ],
          [
           "EST",
           10.481,
           68.8,
           0.909
          ],
          [
           "PAN",
           10.35,
           69.652,
           0.872
          ],
          [
           "UZB",
           8.836,
           65.255,
           0.97
          ],
          [
           "CHL",
           10.071,
           70,
           0.742
          ],
          [
           "POL",
           10.382,
           69.702,
           0.841
          ],
          [
           "KAZ",
           10.155,
           65.2,
           0.853
          ],
          [
           "ROU",
           10.284,
           67.355,
           0.845
          ],
          [
           "KWT",
           10.817,
           66.9,
           0.867
          ],
          [
           "SRB",
           9.787,
           68.6,
           0.778
          ],
          [
           "SLV",
           9.054,
           66.402,
           0.888
          ],
          [
           "MUS",
           10.008,
           66.70100000000001,
           0.867
          ],
          [
           "LVA",
           10.315,
           67.1,
           0.715
          ],
          [
           "COL",
           9.557,
           68.001,
           0.8370000000000001
          ],
          [
           "HUN",
           10.357999999999999,
           68,
           0.755
          ],
          [
           "THA",
           9.805,
           67.40100000000001,
           0.884
          ],
          [
           "NIC",
           8.62,
           67.657,
           0.836
          ],
          [
           "JPN",
           10.610999999999999,
           75.1,
           0.7959999999999999
          ],
          [
           "ARG",
           9.962,
           69,
           0.828
          ],
          [
           "PRT",
           10.421,
           72.6,
           0.892
          ],
          [
           "HND",
           8.648,
           67.3,
           0.857
          ],
          [
           "HRV",
           10.217,
           70.79899999999999,
           0.754
          ],
          [
           "PHL",
           9.076,
           62,
           0.917
          ],
          [
           "KOR",
           10.651,
           73.9,
           0.672
          ],
          [
           "PER",
           9.458,
           68.25,
           0.8220000000000001
          ],
          [
           "BIH",
           9.59,
           68.098,
           0.706
          ],
          [
           "MDA",
           9.454,
           65.699,
           0.8220000000000001
          ],
          [
           "ECU",
           9.312999999999999,
           68.8,
           0.8420000000000001
          ],
          [
           "KGZ",
           8.538,
           64.40100000000001,
           0.935
          ],
          [
           "GRC",
           10.279000000000002,
           72.6,
           0.5820000000000001
          ],
          [
           "BOL",
           9.046,
           63.901,
           0.875
          ],
          [
           "MNG",
           9.4,
           62.5,
           0.708
          ],
          [
           "PRY",
           9.448,
           65.9,
           0.8759999999999999
          ],
          [
           "MNE",
           9.94,
           68.699,
           0.708
          ],
          [
           "DOM",
           9.802,
           66.102,
           0.86
          ],
          [
           "BLR",
           9.853,
           66.253,
           0.65
          ],
          [
           "RUS",
           10.189,
           64.703,
           0.718
          ],
          [
           "HKG",
           11,
           76.82,
           0.7170000000000001
          ],
          [
           "TJK",
           8.091000000000001,
           64.281,
           0.8320000000000001
          ],
          [
           "VNM",
           8.972999999999999,
           68.03399999999999,
           0.94
          ],
          [
           "LBY",
           9.622,
           62.3,
           0.7709999999999999
          ],
          [
           "MYS",
           10.238,
           67.102,
           0.895
          ],
          [
           "IDN",
           9.365,
           62.236000000000004,
           0.873
          ],
          [
           "COG",
           8.117,
           58.221000000000004,
           0.695
          ],
          [
           "CHN",
           9.673,
           69.593,
           0.904
          ],
          [
           "CIV",
           8.551,
           50.114,
           0.741
          ],
          [
           "ARM",
           9.487,
           67.055,
           0.825
          ],
          [
           "NPL",
           8.12,
           64.233,
           0.782
          ],
          [
           "BGR",
           10.016,
           67,
           0.7879999999999999
          ],
          [
           "MDV",
           9.826,
           70.6,
           0.8540000000000001
          ],
          [
           "AZE",
           9.568999999999999,
           65.656,
           0.8140000000000001
          ],
          [
           "CMR",
           8.189,
           53.515,
           0.731
          ],
          [
           "SEN",
           8.118,
           59.802,
           0.695
          ],
          [
           "ALB",
           9.52,
           68.999,
           0.785
          ],
          [
           "MKD",
           9.693,
           65.47399999999999,
           0.7509999999999999
          ],
          [
           "GHA",
           8.58,
           57.586000000000006,
           0.807
          ],
          [
           "NER",
           7.098,
           53.78,
           0.8059999999999999
          ],
          [
           "TKM",
           9.629,
           62.409,
           0.877
          ],
          [
           "GMB",
           7.686,
           55.16,
           0.6970000000000001
          ],
          [
           "BEN",
           8.087,
           54.713,
           0.757
          ],
          [
           "LAO",
           8.947000000000001,
           58.968,
           0.91
          ],
          [
           "BGD",
           8.454,
           64.8,
           0.877
          ],
          [
           "GIN",
           7.837999999999999,
           55.008,
           0.6970000000000001
          ],
          [
           "ZAF",
           9.402999999999999,
           56.903999999999996,
           0.7490000000000001
          ],
          [
           "TUR",
           10.24,
           67.199,
           0.5760000000000001
          ],
          [
           "PAK",
           8.458,
           58.708999999999996,
           0.726
          ],
          [
           "MAR",
           8.902999999999999,
           66.208,
           0.774
          ],
          [
           "VEN",
           9.073,
           66.7,
           0.615
          ],
          [
           "GEO",
           9.585,
           64.3,
           0.7829999999999999
          ],
          [
           "DZA",
           9.342,
           66.005,
           0.48
          ],
          [
           "UKR",
           9.436,
           64.902,
           0.7240000000000001
          ],
          [
           "IRQ",
           9.24,
           60.583,
           0.63
          ],
          [
           "GAB",
           9.603,
           59.961999999999996,
           0.731
          ],
          [
           "BFA",
           7.678,
           54.151,
           0.695
          ],
          [
           "KHM",
           8.36,
           62,
           0.9590000000000001
          ],
          [
           "MOZ",
           7.1579999999999995,
           54.706,
           0.882
          ],
          [
           "NGA",
           8.533,
           50.102,
           0.737
          ],
          [
           "MLI",
           7.744,
           51.968999999999994,
           0.6970000000000001
          ],
          [
           "IRN",
           9.584,
           66.3,
           0.608
          ],
          [
           "UGA",
           7.6770000000000005,
           56.101000000000006,
           0.7090000000000001
          ],
          [
           "LBR",
           7.287999999999999,
           56.498000000000005,
           0.735
          ],
          [
           "KEN",
           8.361,
           60.70399999999999,
           0.779
          ],
          [
           "TUN",
           9.266,
           67.20100000000001,
           0.6559999999999999
          ],
          [
           "LBN",
           9.626,
           67.355,
           0.525
          ],
          [
           "NAM",
           9.161,
           56.799,
           0.7190000000000001
          ],
          [
           "PSE",
           8.485,
           62.25,
           0.653
          ],
          [
           "MMR",
           8.541,
           59.302,
           0.8759999999999999
          ],
          [
           "JOR",
           9.182,
           67,
           0.755
          ],
          [
           "TCD",
           7.364,
           48.478,
           0.579
          ],
          [
           "LKA",
           9.47,
           67.29899999999999,
           0.841
          ],
          [
           "SWZ",
           9.065,
           50.833,
           0.647
          ],
          [
           "COM",
           8.031,
           57.349,
           0.5479999999999999
          ],
          [
           "EGY",
           9.367,
           61.998000000000005,
           0.7490000000000001
          ],
          [
           "ETH",
           7.694,
           59,
           0.752
          ],
          [
           "MRT",
           8.542,
           57.161,
           0.561
          ],
          [
           "MDG",
           7.396,
           59.305,
           0.552
          ],
          [
           "TGO",
           7.362,
           54.913999999999994,
           0.619
          ],
          [
           "ZMB",
           8.145,
           55.809,
           0.782
          ],
          [
           "SLE",
           7.434,
           51.651,
           0.7170000000000001
          ],
          [
           "IND",
           8.755,
           60.633,
           0.893
          ],
          [
           "BDI",
           6.635,
           53.4,
           0.626
          ],
          [
           "YEM",
           7.577999999999999,
           57.122,
           0.602
          ],
          [
           "TZA",
           7.876,
           57.998999999999995,
           0.833
          ],
          [
           "HTI",
           7.477,
           55.7,
           0.593
          ],
          [
           "MWI",
           6.957999999999999,
           57.948,
           0.78
          ],
          [
           "LSO",
           7.926,
           48.7,
           0.715
          ],
          [
           "BWA",
           9.782,
           59.269,
           0.8240000000000001
          ],
          [
           "RWA",
           7.676,
           61.4,
           0.897
          ],
          [
           "ZWE",
           7.943,
           56.201,
           0.677
          ],
          [
           "AFG",
           7.695,
           52.493,
           0.382
          ]
         ],
         "geo": "geo",
         "hovertemplate": "<b>%{hovertext}</b><br><br>Logged GDP per capita=%{customdata[1]}<br>Healthy life expectancy=%{customdata[2]}<br>Freedom to make life choices=%{customdata[3]}<br>Happiness Score=%{z}<extra></extra>",
         "hovertext": [
          "Finland",
          "Denmark",
          "Switzerland",
          "Iceland",
          "Netherlands",
          "Norway",
          "Sweden",
          "Luxembourg",
          "New Zealand",
          "Austria",
          "Australia",
          "Israel",
          "Germany",
          "Canada",
          "Ireland",
          "Costa Rica",
          "United Kingdom",
          "Czech Republic",
          "United States",
          "Belgium",
          "France",
          "Bahrain",
          "Malta",
          "Taiwan, Province of China",
          "United Arab Emirates",
          "Saudi Arabia",
          "Spain",
          "Italy",
          "Slovenia",
          "Guatemala",
          "Uruguay",
          "Singapore",
          "Slovakia",
          "Brazil",
          "Mexico",
          "Jamaica",
          "Lithuania",
          "Cyprus",
          "Estonia",
          "Panama",
          "Uzbekistan",
          "Chile",
          "Poland",
          "Kazakhstan",
          "Romania",
          "Kuwait",
          "Serbia",
          "El Salvador",
          "Mauritius",
          "Latvia",
          "Colombia",
          "Hungary",
          "Thailand",
          "Nicaragua",
          "Japan",
          "Argentina",
          "Portugal",
          "Honduras",
          "Croatia",
          "Philippines",
          "South Korea",
          "Peru",
          "Bosnia and Herzegovina",
          "Moldova",
          "Ecuador",
          "Kyrgyzstan",
          "Greece",
          "Bolivia",
          "Mongolia",
          "Paraguay",
          "Montenegro",
          "Dominican Republic",
          "Belarus",
          "Russia",
          "Hong Kong",
          "Tajikistan",
          "Vietnam",
          "Libya",
          "Malaysia",
          "Indonesia",
          "Congo",
          "China",
          "Ivory Coast",
          "Armenia",
          "Nepal",
          "Bulgaria",
          "Maldives",
          "Azerbaijan",
          "Cameroon",
          "Senegal",
          "Albania",
          "North Macedonia",
          "Ghana",
          "Niger",
          "Turkmenistan",
          "Gambia",
          "Benin",
          "Laos",
          "Bangladesh",
          "Guinea",
          "South Africa",
          "Turkey",
          "Pakistan",
          "Morocco",
          "Venezuela",
          "Georgia",
          "Algeria",
          "Ukraine",
          "Iraq",
          "Gabon",
          "Burkina Faso",
          "Cambodia",
          "Mozambique",
          "Nigeria",
          "Mali",
          "Iran",
          "Uganda",
          "Liberia",
          "Kenya",
          "Tunisia",
          "Lebanon",
          "Namibia",
          "Palestine, State of",
          "Myanmar",
          "Jordan",
          "Chad",
          "Sri Lanka",
          "Swaziland",
          "Comoros",
          "Egypt",
          "Ethiopia",
          "Mauritania",
          "Madagascar",
          "Togo",
          "Zambia",
          "Sierra Leone",
          "India",
          "Burundi",
          "Yemen",
          "Tanzania",
          "Haiti",
          "Malawi",
          "Lesotho",
          "Botswana",
          "Rwanda",
          "Zimbabwe",
          "Afghanistan"
         ],
         "locations": [
          "FIN",
          "DNK",
          "CHE",
          "ISL",
          "NLD",
          "NOR",
          "SWE",
          "LUX",
          "NZL",
          "AUT",
          "AUS",
          "ISR",
          "DEU",
          "CAN",
          "IRL",
          "CRI",
          "GBR",
          "CZE",
          "USA",
          "BEL",
          "FRA",
          "BHR",
          "MLT",
          "TWN",
          "ARE",
          "SAU",
          "ESP",
          "ITA",
          "SVN",
          "GTM",
          "URY",
          "SGP",
          "SVK",
          "BRA",
          "MEX",
          "JAM",
          "LTU",
          "CYP",
          "EST",
          "PAN",
          "UZB",
          "CHL",
          "POL",
          "KAZ",
          "ROU",
          "KWT",
          "SRB",
          "SLV",
          "MUS",
          "LVA",
          "COL",
          "HUN",
          "THA",
          "NIC",
          "JPN",
          "ARG",
          "PRT",
          "HND",
          "HRV",
          "PHL",
          "KOR",
          "PER",
          "BIH",
          "MDA",
          "ECU",
          "KGZ",
          "GRC",
          "BOL",
          "MNG",
          "PRY",
          "MNE",
          "DOM",
          "BLR",
          "RUS",
          "HKG",
          "TJK",
          "VNM",
          "LBY",
          "MYS",
          "IDN",
          "COG",
          "CHN",
          "CIV",
          "ARM",
          "NPL",
          "BGR",
          "MDV",
          "AZE",
          "CMR",
          "SEN",
          "ALB",
          "MKD",
          "GHA",
          "NER",
          "TKM",
          "GMB",
          "BEN",
          "LAO",
          "BGD",
          "GIN",
          "ZAF",
          "TUR",
          "PAK",
          "MAR",
          "VEN",
          "GEO",
          "DZA",
          "UKR",
          "IRQ",
          "GAB",
          "BFA",
          "KHM",
          "MOZ",
          "NGA",
          "MLI",
          "IRN",
          "UGA",
          "LBR",
          "KEN",
          "TUN",
          "LBN",
          "NAM",
          "PSE",
          "MMR",
          "JOR",
          "TCD",
          "LKA",
          "SWZ",
          "COM",
          "EGY",
          "ETH",
          "MRT",
          "MDG",
          "TGO",
          "ZMB",
          "SLE",
          "IND",
          "BDI",
          "YEM",
          "TZA",
          "HTI",
          "MWI",
          "LSO",
          "BWA",
          "RWA",
          "ZWE",
          "AFG"
         ],
         "name": "",
         "showlegend": false,
         "type": "choropleth",
         "z": [
          7.8420000000000005,
          7.62,
          7.571000000000001,
          7.553999999999999,
          7.4639999999999995,
          7.392,
          7.3629999999999995,
          7.324,
          7.277,
          7.268,
          7.183,
          7.157,
          7.155,
          7.103,
          7.085,
          7.069,
          7.064,
          6.965,
          6.9510000000000005,
          6.834,
          6.69,
          6.647,
          6.602,
          6.584,
          6.561,
          6.494,
          6.4910000000000005,
          6.483,
          6.461,
          6.435,
          6.431,
          6.377000000000001,
          6.331,
          6.33,
          6.317,
          6.309,
          6.255,
          6.223,
          6.189,
          6.18,
          6.178999999999999,
          6.172000000000001,
          6.166,
          6.152,
          6.14,
          6.106,
          6.077999999999999,
          6.061,
          6.0489999999999995,
          6.032,
          6.0120000000000005,
          5.992000000000001,
          5.985,
          5.972,
          5.94,
          5.928999999999999,
          5.928999999999999,
          5.919,
          5.882000000000001,
          5.88,
          5.845,
          5.84,
          5.813,
          5.766,
          5.763999999999999,
          5.744,
          5.723,
          5.716,
          5.6770000000000005,
          5.653,
          5.581,
          5.545,
          5.534,
          5.477,
          5.477,
          5.466,
          5.4110000000000005,
          5.41,
          5.3839999999999995,
          5.345,
          5.3420000000000005,
          5.3389999999999995,
          5.306,
          5.2829999999999995,
          5.269,
          5.266,
          5.1979999999999995,
          5.171,
          5.142,
          5.132000000000001,
          5.117,
          5.101,
          5.088,
          5.074,
          5.066,
          5.051,
          5.045,
          5.03,
          5.025,
          4.984,
          4.956,
          4.948,
          4.934,
          4.918,
          4.8919999999999995,
          4.891,
          4.887,
          4.875,
          4.854,
          4.852,
          4.834,
          4.83,
          4.794,
          4.7589999999999995,
          4.723,
          4.721,
          4.636,
          4.625,
          4.607,
          4.596,
          4.584,
          4.574,
          4.5169999999999995,
          4.426,
          4.395,
          4.355,
          4.325,
          4.308,
          4.289,
          4.283,
          4.275,
          4.227,
          4.208,
          4.107,
          4.073,
          3.8489999999999998,
          3.819,
          3.775,
          3.658,
          3.623,
          3.615,
          3.6,
          3.512,
          3.467,
          3.415,
          3.145,
          2.523
         ]
        }
       ],
       "layout": {
        "coloraxis": {
         "colorbar": {
          "title": {
           "text": "Happiness Score"
          }
         },
         "colorscale": [
          [
           0,
           "#D35151"
          ],
          [
           0.00684931506849315,
           "#D35151"
          ],
          [
           0.0136986301369863,
           "#D35151"
          ],
          [
           0.02054794520547945,
           "#D35151"
          ],
          [
           0.0273972602739726,
           "#D35151"
          ],
          [
           0.03424657534246575,
           "#D35151"
          ],
          [
           0.0410958904109589,
           "#D35151"
          ],
          [
           0.04794520547945205,
           "#D35151"
          ],
          [
           0.0547945205479452,
           "#D35151"
          ],
          [
           0.06164383561643835,
           "#D35151"
          ],
          [
           0.0684931506849315,
           "#D35151"
          ],
          [
           0.07534246575342465,
           "#D35151"
          ],
          [
           0.0821917808219178,
           "#D35151"
          ],
          [
           0.08904109589041095,
           "#D35151"
          ],
          [
           0.0958904109589041,
           "#D35151"
          ],
          [
           0.10273972602739725,
           "#D35151"
          ],
          [
           0.1095890410958904,
           "#D35151"
          ],
          [
           0.11643835616438356,
           "#D35151"
          ],
          [
           0.1232876712328767,
           "#D35151"
          ],
          [
           0.13013698630136986,
           "#D35151"
          ],
          [
           0.136986301369863,
           "#D35151"
          ],
          [
           0.14383561643835616,
           "#D35151"
          ],
          [
           0.1506849315068493,
           "#D35151"
          ],
          [
           0.15753424657534246,
           "#D35151"
          ],
          [
           0.1643835616438356,
           "#D35151"
          ],
          [
           0.17123287671232876,
           "#D35151"
          ],
          [
           0.1780821917808219,
           "#D35151"
          ],
          [
           0.18493150684931506,
           "#D35151"
          ],
          [
           0.1917808219178082,
           "#D35151"
          ],
          [
           0.19863013698630136,
           "#D35151"
          ],
          [
           0.2054794520547945,
           "#D35151"
          ],
          [
           0.21232876712328766,
           "#D35151"
          ],
          [
           0.2191780821917808,
           "#D35151"
          ],
          [
           0.22602739726027396,
           "#D35151"
          ],
          [
           0.2328767123287671,
           "#D35151"
          ],
          [
           0.23972602739726026,
           "#D35151"
          ],
          [
           0.2465753424657534,
           "#D35151"
          ],
          [
           0.2534246575342466,
           "#D35151"
          ],
          [
           0.2602739726027397,
           "#D35151"
          ],
          [
           0.2671232876712329,
           "#D35151"
          ],
          [
           0.273972602739726,
           "#D35151"
          ],
          [
           0.2808219178082192,
           "#D35151"
          ],
          [
           0.2876712328767123,
           "#D35151"
          ],
          [
           0.2945205479452055,
           "#D35151"
          ],
          [
           0.3013698630136986,
           "#D35151"
          ],
          [
           0.3082191780821918,
           "#D35151"
          ],
          [
           0.3150684931506849,
           "#D35151"
          ],
          [
           0.3219178082191781,
           "#D35151"
          ],
          [
           0.3287671232876712,
           "#D35151"
          ],
          [
           0.3356164383561644,
           "#D35151"
          ],
          [
           0.3424657534246575,
           "#D35151"
          ],
          [
           0.3493150684931507,
           "#D35151"
          ],
          [
           0.3561643835616438,
           "#D35151"
          ],
          [
           0.363013698630137,
           "#D35151"
          ],
          [
           0.3698630136986301,
           "#D35151"
          ],
          [
           0.3767123287671233,
           "#D35151"
          ],
          [
           0.3835616438356164,
           "#D35151"
          ],
          [
           0.3904109589041096,
           "#D35151"
          ],
          [
           0.3972602739726027,
           "#D35151"
          ],
          [
           0.4041095890410959,
           "#D35151"
          ],
          [
           0.410958904109589,
           "#D35151"
          ],
          [
           0.4178082191780822,
           "#D35151"
          ],
          [
           0.4246575342465753,
           "#D35151"
          ],
          [
           0.4315068493150685,
           "#D35151"
          ],
          [
           0.4383561643835616,
           "#D35151"
          ],
          [
           0.4452054794520548,
           "#D35151"
          ],
          [
           0.4520547945205479,
           "#D35151"
          ],
          [
           0.4589041095890411,
           "#D35151"
          ],
          [
           0.4657534246575342,
           "#D35151"
          ],
          [
           0.4726027397260274,
           "#D35151"
          ],
          [
           0.4794520547945205,
           "#D35151"
          ],
          [
           0.4863013698630137,
           "#D35151"
          ],
          [
           0.4931506849315068,
           "#D35151"
          ],
          [
           0.5,
           "#179E66"
          ],
          [
           0.5068493150684932,
           "#179E66"
          ],
          [
           0.5136986301369864,
           "#179E66"
          ],
          [
           0.5205479452054794,
           "#179E66"
          ],
          [
           0.5273972602739726,
           "#179E66"
          ],
          [
           0.5342465753424658,
           "#179E66"
          ],
          [
           0.541095890410959,
           "#179E66"
          ],
          [
           0.547945205479452,
           "#179E66"
          ],
          [
           0.5547945205479452,
           "#179E66"
          ],
          [
           0.5616438356164384,
           "#179E66"
          ],
          [
           0.5684931506849316,
           "#179E66"
          ],
          [
           0.5753424657534246,
           "#179E66"
          ],
          [
           0.5821917808219178,
           "#179E66"
          ],
          [
           0.589041095890411,
           "#179E66"
          ],
          [
           0.5958904109589042,
           "#179E66"
          ],
          [
           0.6027397260273972,
           "#179E66"
          ],
          [
           0.6095890410958904,
           "#179E66"
          ],
          [
           0.6164383561643836,
           "#179E66"
          ],
          [
           0.6232876712328768,
           "#179E66"
          ],
          [
           0.6301369863013698,
           "#179E66"
          ],
          [
           0.636986301369863,
           "#179E66"
          ],
          [
           0.6438356164383562,
           "#179E66"
          ],
          [
           0.6506849315068494,
           "#179E66"
          ],
          [
           0.6575342465753424,
           "#179E66"
          ],
          [
           0.6643835616438356,
           "#179E66"
          ],
          [
           0.6712328767123288,
           "#179E66"
          ],
          [
           0.678082191780822,
           "#179E66"
          ],
          [
           0.684931506849315,
           "#179E66"
          ],
          [
           0.6917808219178082,
           "#179E66"
          ],
          [
           0.6986301369863014,
           "#179E66"
          ],
          [
           0.7054794520547946,
           "#179E66"
          ],
          [
           0.7123287671232876,
           "#179E66"
          ],
          [
           0.7191780821917808,
           "#179E66"
          ],
          [
           0.726027397260274,
           "#179E66"
          ],
          [
           0.7328767123287672,
           "#179E66"
          ],
          [
           0.7397260273972602,
           "#179E66"
          ],
          [
           0.7465753424657534,
           "#179E66"
          ],
          [
           0.7534246575342466,
           "#179E66"
          ],
          [
           0.7602739726027398,
           "#179E66"
          ],
          [
           0.7671232876712328,
           "#179E66"
          ],
          [
           0.773972602739726,
           "#179E66"
          ],
          [
           0.7808219178082192,
           "#179E66"
          ],
          [
           0.7876712328767124,
           "#179E66"
          ],
          [
           0.7945205479452054,
           "#179E66"
          ],
          [
           0.8013698630136986,
           "#179E66"
          ],
          [
           0.8082191780821918,
           "#179E66"
          ],
          [
           0.815068493150685,
           "#179E66"
          ],
          [
           0.821917808219178,
           "#179E66"
          ],
          [
           0.8287671232876712,
           "#179E66"
          ],
          [
           0.8356164383561644,
           "#179E66"
          ],
          [
           0.8424657534246576,
           "#179E66"
          ],
          [
           0.8493150684931506,
           "#179E66"
          ],
          [
           0.8561643835616438,
           "#179E66"
          ],
          [
           0.863013698630137,
           "#179E66"
          ],
          [
           0.8698630136986302,
           "#179E66"
          ],
          [
           0.8767123287671232,
           "#179E66"
          ],
          [
           0.8835616438356164,
           "#179E66"
          ],
          [
           0.8904109589041096,
           "#179E66"
          ],
          [
           0.8972602739726028,
           "#179E66"
          ],
          [
           0.9041095890410958,
           "#179E66"
          ],
          [
           0.910958904109589,
           "#179E66"
          ],
          [
           0.9178082191780822,
           "#179E66"
          ],
          [
           0.9246575342465754,
           "#179E66"
          ],
          [
           0.9315068493150684,
           "#179E66"
          ],
          [
           0.9383561643835616,
           "#179E66"
          ],
          [
           0.9452054794520548,
           "#179E66"
          ],
          [
           0.952054794520548,
           "#179E66"
          ],
          [
           0.958904109589041,
           "#179E66"
          ],
          [
           0.9657534246575342,
           "#179E66"
          ],
          [
           0.9726027397260274,
           "#179E66"
          ],
          [
           0.9794520547945206,
           "#179E66"
          ],
          [
           0.9863013698630136,
           "#179E66"
          ],
          [
           0.9931506849315068,
           "#179E66"
          ],
          [
           1,
           "#179E66"
          ]
         ]
        },
        "geo": {
         "center": {},
         "domain": {
          "x": [
           0,
           1
          ],
          "y": [
           0,
           1
          ]
         }
        },
        "legend": {
         "tracegroupgap": 0
        },
        "template": {
         "data": {
          "bar": [
           {
            "error_x": {
             "color": "#2a3f5f"
            },
            "error_y": {
             "color": "#2a3f5f"
            },
            "marker": {
             "line": {
              "color": "#E5ECF6",
              "width": 0.5
             }
            },
            "type": "bar"
           }
          ],
          "barpolar": [
           {
            "marker": {
             "line": {
              "color": "#E5ECF6",
              "width": 0.5
             }
            },
            "type": "barpolar"
           }
          ],
          "carpet": [
           {
            "aaxis": {
             "endlinecolor": "#2a3f5f",
             "gridcolor": "white",
             "linecolor": "white",
             "minorgridcolor": "white",
             "startlinecolor": "#2a3f5f"
            },
            "baxis": {
             "endlinecolor": "#2a3f5f",
             "gridcolor": "white",
             "linecolor": "white",
             "minorgridcolor": "white",
             "startlinecolor": "#2a3f5f"
            },
            "type": "carpet"
           }
          ],
          "choropleth": [
           {
            "colorbar": {
             "outlinewidth": 0,
             "ticks": ""
            },
            "type": "choropleth"
           }
          ],
          "contour": [
           {
            "colorbar": {
             "outlinewidth": 0,
             "ticks": ""
            },
            "colorscale": [
             [
              0,
              "#0d0887"
             ],
             [
              0.1111111111111111,
              "#46039f"
             ],
             [
              0.2222222222222222,
              "#7201a8"
             ],
             [
              0.3333333333333333,
              "#9c179e"
             ],
             [
              0.4444444444444444,
              "#bd3786"
             ],
             [
              0.5555555555555556,
              "#d8576b"
             ],
             [
              0.6666666666666666,
              "#ed7953"
             ],
             [
              0.7777777777777778,
              "#fb9f3a"
             ],
             [
              0.8888888888888888,
              "#fdca26"
             ],
             [
              1,
              "#f0f921"
             ]
            ],
            "type": "contour"
           }
          ],
          "contourcarpet": [
           {
            "colorbar": {
             "outlinewidth": 0,
             "ticks": ""
            },
            "type": "contourcarpet"
           }
          ],
          "heatmap": [
           {
            "colorbar": {
             "outlinewidth": 0,
             "ticks": ""
            },
            "colorscale": [
             [
              0,
              "#0d0887"
             ],
             [
              0.1111111111111111,
              "#46039f"
             ],
             [
              0.2222222222222222,
              "#7201a8"
             ],
             [
              0.3333333333333333,
              "#9c179e"
             ],
             [
              0.4444444444444444,
              "#bd3786"
             ],
             [
              0.5555555555555556,
              "#d8576b"
             ],
             [
              0.6666666666666666,
              "#ed7953"
             ],
             [
              0.7777777777777778,
              "#fb9f3a"
             ],
             [
              0.8888888888888888,
              "#fdca26"
             ],
             [
              1,
              "#f0f921"
             ]
            ],
            "type": "heatmap"
           }
          ],
          "heatmapgl": [
           {
            "colorbar": {
             "outlinewidth": 0,
             "ticks": ""
            },
            "colorscale": [
             [
              0,
              "#0d0887"
             ],
             [
              0.1111111111111111,
              "#46039f"
             ],
             [
              0.2222222222222222,
              "#7201a8"
             ],
             [
              0.3333333333333333,
              "#9c179e"
             ],
             [
              0.4444444444444444,
              "#bd3786"
             ],
             [
              0.5555555555555556,
              "#d8576b"
             ],
             [
              0.6666666666666666,
              "#ed7953"
             ],
             [
              0.7777777777777778,
              "#fb9f3a"
             ],
             [
              0.8888888888888888,
              "#fdca26"
             ],
             [
              1,
              "#f0f921"
             ]
            ],
            "type": "heatmapgl"
           }
          ],
          "histogram": [
           {
            "marker": {
             "colorbar": {
              "outlinewidth": 0,
              "ticks": ""
             }
            },
            "type": "histogram"
           }
          ],
          "histogram2d": [
           {
            "colorbar": {
             "outlinewidth": 0,
             "ticks": ""
            },
            "colorscale": [
             [
              0,
              "#0d0887"
             ],
             [
              0.1111111111111111,
              "#46039f"
             ],
             [
              0.2222222222222222,
              "#7201a8"
             ],
             [
              0.3333333333333333,
              "#9c179e"
             ],
             [
              0.4444444444444444,
              "#bd3786"
             ],
             [
              0.5555555555555556,
              "#d8576b"
             ],
             [
              0.6666666666666666,
              "#ed7953"
             ],
             [
              0.7777777777777778,
              "#fb9f3a"
             ],
             [
              0.8888888888888888,
              "#fdca26"
             ],
             [
              1,
              "#f0f921"
             ]
            ],
            "type": "histogram2d"
           }
          ],
          "histogram2dcontour": [
           {
            "colorbar": {
             "outlinewidth": 0,
             "ticks": ""
            },
            "colorscale": [
             [
              0,
              "#0d0887"
             ],
             [
              0.1111111111111111,
              "#46039f"
             ],
             [
              0.2222222222222222,
              "#7201a8"
             ],
             [
              0.3333333333333333,
              "#9c179e"
             ],
             [
              0.4444444444444444,
              "#bd3786"
             ],
             [
              0.5555555555555556,
              "#d8576b"
             ],
             [
              0.6666666666666666,
              "#ed7953"
             ],
             [
              0.7777777777777778,
              "#fb9f3a"
             ],
             [
              0.8888888888888888,
              "#fdca26"
             ],
             [
              1,
              "#f0f921"
             ]
            ],
            "type": "histogram2dcontour"
           }
          ],
          "mesh3d": [
           {
            "colorbar": {
             "outlinewidth": 0,
             "ticks": ""
            },
            "type": "mesh3d"
           }
          ],
          "parcoords": [
           {
            "line": {
             "colorbar": {
              "outlinewidth": 0,
              "ticks": ""
             }
            },
            "type": "parcoords"
           }
          ],
          "pie": [
           {
            "automargin": true,
            "type": "pie"
           }
          ],
          "scatter": [
           {
            "marker": {
             "colorbar": {
              "outlinewidth": 0,
              "ticks": ""
             }
            },
            "type": "scatter"
           }
          ],
          "scatter3d": [
           {
            "line": {
             "colorbar": {
              "outlinewidth": 0,
              "ticks": ""
             }
            },
            "marker": {
             "colorbar": {
              "outlinewidth": 0,
              "ticks": ""
             }
            },
            "type": "scatter3d"
           }
          ],
          "scattercarpet": [
           {
            "marker": {
             "colorbar": {
              "outlinewidth": 0,
              "ticks": ""
             }
            },
            "type": "scattercarpet"
           }
          ],
          "scattergeo": [
           {
            "marker": {
             "colorbar": {
              "outlinewidth": 0,
              "ticks": ""
             }
            },
            "type": "scattergeo"
           }
          ],
          "scattergl": [
           {
            "marker": {
             "colorbar": {
              "outlinewidth": 0,
              "ticks": ""
             }
            },
            "type": "scattergl"
           }
          ],
          "scattermapbox": [
           {
            "marker": {
             "colorbar": {
              "outlinewidth": 0,
              "ticks": ""
             }
            },
            "type": "scattermapbox"
           }
          ],
          "scatterpolar": [
           {
            "marker": {
             "colorbar": {
              "outlinewidth": 0,
              "ticks": ""
             }
            },
            "type": "scatterpolar"
           }
          ],
          "scatterpolargl": [
           {
            "marker": {
             "colorbar": {
              "outlinewidth": 0,
              "ticks": ""
             }
            },
            "type": "scatterpolargl"
           }
          ],
          "scatterternary": [
           {
            "marker": {
             "colorbar": {
              "outlinewidth": 0,
              "ticks": ""
             }
            },
            "type": "scatterternary"
           }
          ],
          "surface": [
           {
            "colorbar": {
             "outlinewidth": 0,
             "ticks": ""
            },
            "colorscale": [
             [
              0,
              "#0d0887"
             ],
             [
              0.1111111111111111,
              "#46039f"
             ],
             [
              0.2222222222222222,
              "#7201a8"
             ],
             [
              0.3333333333333333,
              "#9c179e"
             ],
             [
              0.4444444444444444,
              "#bd3786"
             ],
             [
              0.5555555555555556,
              "#d8576b"
             ],
             [
              0.6666666666666666,
              "#ed7953"
             ],
             [
              0.7777777777777778,
              "#fb9f3a"
             ],
             [
              0.8888888888888888,
              "#fdca26"
             ],
             [
              1,
              "#f0f921"
             ]
            ],
            "type": "surface"
           }
          ],
          "table": [
           {
            "cells": {
             "fill": {
              "color": "#EBF0F8"
             },
             "line": {
              "color": "white"
             }
            },
            "header": {
             "fill": {
              "color": "#C8D4E3"
             },
             "line": {
              "color": "white"
             }
            },
            "type": "table"
           }
          ]
         },
         "layout": {
          "annotationdefaults": {
           "arrowcolor": "#2a3f5f",
           "arrowhead": 0,
           "arrowwidth": 1
          },
          "autotypenumbers": "strict",
          "coloraxis": {
           "colorbar": {
            "outlinewidth": 0,
            "ticks": ""
           }
          },
          "colorscale": {
           "diverging": [
            [
             0,
             "#8e0152"
            ],
            [
             0.1,
             "#c51b7d"
            ],
            [
             0.2,
             "#de77ae"
            ],
            [
             0.3,
             "#f1b6da"
            ],
            [
             0.4,
             "#fde0ef"
            ],
            [
             0.5,
             "#f7f7f7"
            ],
            [
             0.6,
             "#e6f5d0"
            ],
            [
             0.7,
             "#b8e186"
            ],
            [
             0.8,
             "#7fbc41"
            ],
            [
             0.9,
             "#4d9221"
            ],
            [
             1,
             "#276419"
            ]
           ],
           "sequential": [
            [
             0,
             "#0d0887"
            ],
            [
             0.1111111111111111,
             "#46039f"
            ],
            [
             0.2222222222222222,
             "#7201a8"
            ],
            [
             0.3333333333333333,
             "#9c179e"
            ],
            [
             0.4444444444444444,
             "#bd3786"
            ],
            [
             0.5555555555555556,
             "#d8576b"
            ],
            [
             0.6666666666666666,
             "#ed7953"
            ],
            [
             0.7777777777777778,
             "#fb9f3a"
            ],
            [
             0.8888888888888888,
             "#fdca26"
            ],
            [
             1,
             "#f0f921"
            ]
           ],
           "sequentialminus": [
            [
             0,
             "#0d0887"
            ],
            [
             0.1111111111111111,
             "#46039f"
            ],
            [
             0.2222222222222222,
             "#7201a8"
            ],
            [
             0.3333333333333333,
             "#9c179e"
            ],
            [
             0.4444444444444444,
             "#bd3786"
            ],
            [
             0.5555555555555556,
             "#d8576b"
            ],
            [
             0.6666666666666666,
             "#ed7953"
            ],
            [
             0.7777777777777778,
             "#fb9f3a"
            ],
            [
             0.8888888888888888,
             "#fdca26"
            ],
            [
             1,
             "#f0f921"
            ]
           ]
          },
          "colorway": [
           "#636efa",
           "#EF553B",
           "#00cc96",
           "#ab63fa",
           "#FFA15A",
           "#19d3f3",
           "#FF6692",
           "#B6E880",
           "#FF97FF",
           "#FECB52"
          ],
          "font": {
           "color": "#2a3f5f"
          },
          "geo": {
           "bgcolor": "white",
           "lakecolor": "white",
           "landcolor": "#E5ECF6",
           "showlakes": true,
           "showland": true,
           "subunitcolor": "white"
          },
          "hoverlabel": {
           "align": "left"
          },
          "hovermode": "closest",
          "mapbox": {
           "style": "light"
          },
          "paper_bgcolor": "white",
          "plot_bgcolor": "#E5ECF6",
          "polar": {
           "angularaxis": {
            "gridcolor": "white",
            "linecolor": "white",
            "ticks": ""
           },
           "bgcolor": "#E5ECF6",
           "radialaxis": {
            "gridcolor": "white",
            "linecolor": "white",
            "ticks": ""
           }
          },
          "scene": {
           "xaxis": {
            "backgroundcolor": "#E5ECF6",
            "gridcolor": "white",
            "gridwidth": 2,
            "linecolor": "white",
            "showbackground": true,
            "ticks": "",
            "zerolinecolor": "white"
           },
           "yaxis": {
            "backgroundcolor": "#E5ECF6",
            "gridcolor": "white",
            "gridwidth": 2,
            "linecolor": "white",
            "showbackground": true,
            "ticks": "",
            "zerolinecolor": "white"
           },
           "zaxis": {
            "backgroundcolor": "#E5ECF6",
            "gridcolor": "white",
            "gridwidth": 2,
            "linecolor": "white",
            "showbackground": true,
            "ticks": "",
            "zerolinecolor": "white"
           }
          },
          "shapedefaults": {
           "line": {
            "color": "#2a3f5f"
           }
          },
          "ternary": {
           "aaxis": {
            "gridcolor": "white",
            "linecolor": "white",
            "ticks": ""
           },
           "baxis": {
            "gridcolor": "white",
            "linecolor": "white",
            "ticks": ""
           },
           "bgcolor": "#E5ECF6",
           "caxis": {
            "gridcolor": "white",
            "linecolor": "white",
            "ticks": ""
           }
          },
          "title": {
           "x": 0.05
          },
          "xaxis": {
           "automargin": true,
           "gridcolor": "white",
           "linecolor": "white",
           "ticks": "",
           "title": {
            "standoff": 15
           },
           "zerolinecolor": "white",
           "zerolinewidth": 2
          },
          "yaxis": {
           "automargin": true,
           "gridcolor": "white",
           "linecolor": "white",
           "ticks": "",
           "title": {
            "standoff": 15
           },
           "zerolinecolor": "white",
           "zerolinewidth": 2
          }
         }
        },
        "title": {
         "text": "World Map View (Ladder Score) 2021"
        }
       }
      },
      "text/html": [
       "<div>                            <div id=\"2400b951-4eaf-4a22-991d-9c10ca254e20\" class=\"plotly-graph-div\" style=\"height:525px; width:100%;\"></div>            <script type=\"text/javascript\">                require([\"plotly\"], function(Plotly) {                    window.PLOTLYENV=window.PLOTLYENV || {};                                    if (document.getElementById(\"2400b951-4eaf-4a22-991d-9c10ca254e20\")) {                    Plotly.newPlot(                        \"2400b951-4eaf-4a22-991d-9c10ca254e20\",                        [{\"coloraxis\": \"coloraxis\", \"customdata\": [[\"FIN\", 10.775, 72.0, 0.9490000000000001], [\"DNK\", 10.933, 72.7, 0.946], [\"CHE\", 11.117, 74.4, 0.919], [\"ISL\", 10.878, 73.0, 0.955], [\"NLD\", 10.932, 72.4, 0.9129999999999999], [\"NOR\", 11.052999999999999, 73.3, 0.96], [\"SWE\", 10.867, 72.7, 0.945], [\"LUX\", 11.647, 72.6, 0.907], [\"NZL\", 10.642999999999999, 73.4, 0.929], [\"AUT\", 10.905999999999999, 73.3, 0.9079999999999999], [\"AUS\", 10.796, 73.9, 0.914], [\"ISR\", 10.575, 73.503, 0.8], [\"DEU\", 10.873, 72.5, 0.875], [\"CAN\", 10.776, 73.8, 0.915], [\"IRL\", 11.342, 72.4, 0.879], [\"CRI\", 9.88, 71.4, 0.934], [\"GBR\", 10.707, 72.5, 0.8590000000000001], [\"CZE\", 10.556, 70.807, 0.858], [\"USA\", 11.023, 68.2, 0.8370000000000001], [\"BEL\", 10.823, 72.199, 0.7829999999999999], [\"FRA\", 10.704, 74.0, 0.8220000000000001], [\"BHR\", 10.669, 69.495, 0.925], [\"MLT\", 10.674000000000001, 72.2, 0.927], [\"TWN\", 10.870999999999999, 69.6, 0.784], [\"ARE\", 11.085, 67.333, 0.932], [\"SAU\", 10.743, 66.60300000000001, 0.877], [\"ESP\", 10.571, 74.7, 0.7609999999999999], [\"ITA\", 10.623, 73.8, 0.693], [\"SVN\", 10.529000000000002, 71.4, 0.9490000000000001], [\"GTM\", 9.052999999999999, 64.958, 0.9059999999999999], [\"URY\", 9.966000000000001, 69.1, 0.8959999999999999], [\"SGP\", 11.488, 76.953, 0.927], [\"SVK\", 10.369000000000002, 69.20100000000001, 0.7659999999999999], [\"BRA\", 9.577, 66.601, 0.804], [\"MEX\", 9.859, 68.597, 0.862], [\"JAM\", 9.186, 67.5, 0.89], [\"LTU\", 10.499, 67.906, 0.773], [\"CYP\", 10.575999999999999, 73.898, 0.763], [\"EST\", 10.481, 68.8, 0.909], [\"PAN\", 10.35, 69.652, 0.872], [\"UZB\", 8.836, 65.255, 0.97], [\"CHL\", 10.071, 70.0, 0.742], [\"POL\", 10.382, 69.702, 0.841], [\"KAZ\", 10.155, 65.2, 0.853], [\"ROU\", 10.284, 67.355, 0.845], [\"KWT\", 10.817, 66.9, 0.867], [\"SRB\", 9.787, 68.6, 0.778], [\"SLV\", 9.054, 66.402, 0.888], [\"MUS\", 10.008, 66.70100000000001, 0.867], [\"LVA\", 10.315, 67.1, 0.715], [\"COL\", 9.557, 68.001, 0.8370000000000001], [\"HUN\", 10.357999999999999, 68.0, 0.755], [\"THA\", 9.805, 67.40100000000001, 0.884], [\"NIC\", 8.62, 67.657, 0.836], [\"JPN\", 10.610999999999999, 75.1, 0.7959999999999999], [\"ARG\", 9.962, 69.0, 0.828], [\"PRT\", 10.421, 72.6, 0.892], [\"HND\", 8.648, 67.3, 0.857], [\"HRV\", 10.217, 70.79899999999999, 0.754], [\"PHL\", 9.076, 62.0, 0.917], [\"KOR\", 10.651, 73.9, 0.672], [\"PER\", 9.458, 68.25, 0.8220000000000001], [\"BIH\", 9.59, 68.098, 0.706], [\"MDA\", 9.454, 65.699, 0.8220000000000001], [\"ECU\", 9.312999999999999, 68.8, 0.8420000000000001], [\"KGZ\", 8.538, 64.40100000000001, 0.935], [\"GRC\", 10.279000000000002, 72.6, 0.5820000000000001], [\"BOL\", 9.046, 63.901, 0.875], [\"MNG\", 9.4, 62.5, 0.708], [\"PRY\", 9.448, 65.9, 0.8759999999999999], [\"MNE\", 9.94, 68.699, 0.708], [\"DOM\", 9.802, 66.102, 0.86], [\"BLR\", 9.853, 66.253, 0.65], [\"RUS\", 10.189, 64.703, 0.718], [\"HKG\", 11.0, 76.82, 0.7170000000000001], [\"TJK\", 8.091000000000001, 64.281, 0.8320000000000001], [\"VNM\", 8.972999999999999, 68.03399999999999, 0.94], [\"LBY\", 9.622, 62.3, 0.7709999999999999], [\"MYS\", 10.238, 67.102, 0.895], [\"IDN\", 9.365, 62.236000000000004, 0.873], [\"COG\", 8.117, 58.221000000000004, 0.695], [\"CHN\", 9.673, 69.593, 0.904], [\"CIV\", 8.551, 50.114, 0.741], [\"ARM\", 9.487, 67.055, 0.825], [\"NPL\", 8.12, 64.233, 0.782], [\"BGR\", 10.016, 67.0, 0.7879999999999999], [\"MDV\", 9.826, 70.6, 0.8540000000000001], [\"AZE\", 9.568999999999999, 65.656, 0.8140000000000001], [\"CMR\", 8.189, 53.515, 0.731], [\"SEN\", 8.118, 59.802, 0.695], [\"ALB\", 9.52, 68.999, 0.785], [\"MKD\", 9.693, 65.47399999999999, 0.7509999999999999], [\"GHA\", 8.58, 57.586000000000006, 0.807], [\"NER\", 7.098, 53.78, 0.8059999999999999], [\"TKM\", 9.629, 62.409, 0.877], [\"GMB\", 7.686, 55.16, 0.6970000000000001], [\"BEN\", 8.087, 54.713, 0.757], [\"LAO\", 8.947000000000001, 58.968, 0.91], [\"BGD\", 8.454, 64.8, 0.877], [\"GIN\", 7.837999999999999, 55.008, 0.6970000000000001], [\"ZAF\", 9.402999999999999, 56.903999999999996, 0.7490000000000001], [\"TUR\", 10.24, 67.199, 0.5760000000000001], [\"PAK\", 8.458, 58.708999999999996, 0.726], [\"MAR\", 8.902999999999999, 66.208, 0.774], [\"VEN\", 9.073, 66.7, 0.615], [\"GEO\", 9.585, 64.3, 0.7829999999999999], [\"DZA\", 9.342, 66.005, 0.48], [\"UKR\", 9.436, 64.902, 0.7240000000000001], [\"IRQ\", 9.24, 60.583, 0.63], [\"GAB\", 9.603, 59.961999999999996, 0.731], [\"BFA\", 7.678, 54.151, 0.695], [\"KHM\", 8.36, 62.0, 0.9590000000000001], [\"MOZ\", 7.1579999999999995, 54.706, 0.882], [\"NGA\", 8.533, 50.102, 0.737], [\"MLI\", 7.744, 51.968999999999994, 0.6970000000000001], [\"IRN\", 9.584, 66.3, 0.608], [\"UGA\", 7.6770000000000005, 56.101000000000006, 0.7090000000000001], [\"LBR\", 7.287999999999999, 56.498000000000005, 0.735], [\"KEN\", 8.361, 60.70399999999999, 0.779], [\"TUN\", 9.266, 67.20100000000001, 0.6559999999999999], [\"LBN\", 9.626, 67.355, 0.525], [\"NAM\", 9.161, 56.799, 0.7190000000000001], [\"PSE\", 8.485, 62.25, 0.653], [\"MMR\", 8.541, 59.302, 0.8759999999999999], [\"JOR\", 9.182, 67.0, 0.755], [\"TCD\", 7.364, 48.478, 0.579], [\"LKA\", 9.47, 67.29899999999999, 0.841], [\"SWZ\", 9.065, 50.833, 0.647], [\"COM\", 8.031, 57.349, 0.5479999999999999], [\"EGY\", 9.367, 61.998000000000005, 0.7490000000000001], [\"ETH\", 7.694, 59.0, 0.752], [\"MRT\", 8.542, 57.161, 0.561], [\"MDG\", 7.396, 59.305, 0.552], [\"TGO\", 7.362, 54.913999999999994, 0.619], [\"ZMB\", 8.145, 55.809, 0.782], [\"SLE\", 7.434, 51.651, 0.7170000000000001], [\"IND\", 8.755, 60.633, 0.893], [\"BDI\", 6.635, 53.4, 0.626], [\"YEM\", 7.577999999999999, 57.122, 0.602], [\"TZA\", 7.876, 57.998999999999995, 0.833], [\"HTI\", 7.477, 55.7, 0.593], [\"MWI\", 6.957999999999999, 57.948, 0.78], [\"LSO\", 7.926, 48.7, 0.715], [\"BWA\", 9.782, 59.269, 0.8240000000000001], [\"RWA\", 7.676, 61.4, 0.897], [\"ZWE\", 7.943, 56.201, 0.677], [\"AFG\", 7.695, 52.493, 0.382]], \"geo\": \"geo\", \"hovertemplate\": \"<b>%{hovertext}</b><br><br>Logged GDP per capita=%{customdata[1]}<br>Healthy life expectancy=%{customdata[2]}<br>Freedom to make life choices=%{customdata[3]}<br>Happiness Score=%{z}<extra></extra>\", \"hovertext\": [\"Finland\", \"Denmark\", \"Switzerland\", \"Iceland\", \"Netherlands\", \"Norway\", \"Sweden\", \"Luxembourg\", \"New Zealand\", \"Austria\", \"Australia\", \"Israel\", \"Germany\", \"Canada\", \"Ireland\", \"Costa Rica\", \"United Kingdom\", \"Czech Republic\", \"United States\", \"Belgium\", \"France\", \"Bahrain\", \"Malta\", \"Taiwan, Province of China\", \"United Arab Emirates\", \"Saudi Arabia\", \"Spain\", \"Italy\", \"Slovenia\", \"Guatemala\", \"Uruguay\", \"Singapore\", \"Slovakia\", \"Brazil\", \"Mexico\", \"Jamaica\", \"Lithuania\", \"Cyprus\", \"Estonia\", \"Panama\", \"Uzbekistan\", \"Chile\", \"Poland\", \"Kazakhstan\", \"Romania\", \"Kuwait\", \"Serbia\", \"El Salvador\", \"Mauritius\", \"Latvia\", \"Colombia\", \"Hungary\", \"Thailand\", \"Nicaragua\", \"Japan\", \"Argentina\", \"Portugal\", \"Honduras\", \"Croatia\", \"Philippines\", \"South Korea\", \"Peru\", \"Bosnia and Herzegovina\", \"Moldova\", \"Ecuador\", \"Kyrgyzstan\", \"Greece\", \"Bolivia\", \"Mongolia\", \"Paraguay\", \"Montenegro\", \"Dominican Republic\", \"Belarus\", \"Russia\", \"Hong Kong\", \"Tajikistan\", \"Vietnam\", \"Libya\", \"Malaysia\", \"Indonesia\", \"Congo\", \"China\", \"Ivory Coast\", \"Armenia\", \"Nepal\", \"Bulgaria\", \"Maldives\", \"Azerbaijan\", \"Cameroon\", \"Senegal\", \"Albania\", \"North Macedonia\", \"Ghana\", \"Niger\", \"Turkmenistan\", \"Gambia\", \"Benin\", \"Laos\", \"Bangladesh\", \"Guinea\", \"South Africa\", \"Turkey\", \"Pakistan\", \"Morocco\", \"Venezuela\", \"Georgia\", \"Algeria\", \"Ukraine\", \"Iraq\", \"Gabon\", \"Burkina Faso\", \"Cambodia\", \"Mozambique\", \"Nigeria\", \"Mali\", \"Iran\", \"Uganda\", \"Liberia\", \"Kenya\", \"Tunisia\", \"Lebanon\", \"Namibia\", \"Palestine, State of\", \"Myanmar\", \"Jordan\", \"Chad\", \"Sri Lanka\", \"Swaziland\", \"Comoros\", \"Egypt\", \"Ethiopia\", \"Mauritania\", \"Madagascar\", \"Togo\", \"Zambia\", \"Sierra Leone\", \"India\", \"Burundi\", \"Yemen\", \"Tanzania\", \"Haiti\", \"Malawi\", \"Lesotho\", \"Botswana\", \"Rwanda\", \"Zimbabwe\", \"Afghanistan\"], \"locations\": [\"FIN\", \"DNK\", \"CHE\", \"ISL\", \"NLD\", \"NOR\", \"SWE\", \"LUX\", \"NZL\", \"AUT\", \"AUS\", \"ISR\", \"DEU\", \"CAN\", \"IRL\", \"CRI\", \"GBR\", \"CZE\", \"USA\", \"BEL\", \"FRA\", \"BHR\", \"MLT\", \"TWN\", \"ARE\", \"SAU\", \"ESP\", \"ITA\", \"SVN\", \"GTM\", \"URY\", \"SGP\", \"SVK\", \"BRA\", \"MEX\", \"JAM\", \"LTU\", \"CYP\", \"EST\", \"PAN\", \"UZB\", \"CHL\", \"POL\", \"KAZ\", \"ROU\", \"KWT\", \"SRB\", \"SLV\", \"MUS\", \"LVA\", \"COL\", \"HUN\", \"THA\", \"NIC\", \"JPN\", \"ARG\", \"PRT\", \"HND\", \"HRV\", \"PHL\", \"KOR\", \"PER\", \"BIH\", \"MDA\", \"ECU\", \"KGZ\", \"GRC\", \"BOL\", \"MNG\", \"PRY\", \"MNE\", \"DOM\", \"BLR\", \"RUS\", \"HKG\", \"TJK\", \"VNM\", \"LBY\", \"MYS\", \"IDN\", \"COG\", \"CHN\", \"CIV\", \"ARM\", \"NPL\", \"BGR\", \"MDV\", \"AZE\", \"CMR\", \"SEN\", \"ALB\", \"MKD\", \"GHA\", \"NER\", \"TKM\", \"GMB\", \"BEN\", \"LAO\", \"BGD\", \"GIN\", \"ZAF\", \"TUR\", \"PAK\", \"MAR\", \"VEN\", \"GEO\", \"DZA\", \"UKR\", \"IRQ\", \"GAB\", \"BFA\", \"KHM\", \"MOZ\", \"NGA\", \"MLI\", \"IRN\", \"UGA\", \"LBR\", \"KEN\", \"TUN\", \"LBN\", \"NAM\", \"PSE\", \"MMR\", \"JOR\", \"TCD\", \"LKA\", \"SWZ\", \"COM\", \"EGY\", \"ETH\", \"MRT\", \"MDG\", \"TGO\", \"ZMB\", \"SLE\", \"IND\", \"BDI\", \"YEM\", \"TZA\", \"HTI\", \"MWI\", \"LSO\", \"BWA\", \"RWA\", \"ZWE\", \"AFG\"], \"name\": \"\", \"showlegend\": false, \"type\": \"choropleth\", \"z\": [7.8420000000000005, 7.62, 7.571000000000001, 7.553999999999999, 7.4639999999999995, 7.392, 7.3629999999999995, 7.324, 7.277, 7.268, 7.183, 7.157, 7.155, 7.103, 7.085, 7.069, 7.064, 6.965, 6.9510000000000005, 6.834, 6.69, 6.647, 6.602, 6.584, 6.561, 6.494, 6.4910000000000005, 6.483, 6.461, 6.435, 6.431, 6.377000000000001, 6.331, 6.33, 6.317, 6.309, 6.255, 6.223, 6.189, 6.18, 6.178999999999999, 6.172000000000001, 6.166, 6.152, 6.14, 6.106, 6.077999999999999, 6.061, 6.0489999999999995, 6.032, 6.0120000000000005, 5.992000000000001, 5.985, 5.972, 5.94, 5.928999999999999, 5.928999999999999, 5.919, 5.882000000000001, 5.88, 5.845, 5.84, 5.813, 5.766, 5.763999999999999, 5.744, 5.723, 5.716, 5.6770000000000005, 5.653, 5.581, 5.545, 5.534, 5.477, 5.477, 5.466, 5.4110000000000005, 5.41, 5.3839999999999995, 5.345, 5.3420000000000005, 5.3389999999999995, 5.306, 5.2829999999999995, 5.269, 5.266, 5.1979999999999995, 5.171, 5.142, 5.132000000000001, 5.117, 5.101, 5.088, 5.074, 5.066, 5.051, 5.045, 5.03, 5.025, 4.984, 4.956, 4.948, 4.934, 4.918, 4.8919999999999995, 4.891, 4.887, 4.875, 4.854, 4.852, 4.834, 4.83, 4.794, 4.7589999999999995, 4.723, 4.721, 4.636, 4.625, 4.607, 4.596, 4.584, 4.574, 4.5169999999999995, 4.426, 4.395, 4.355, 4.325, 4.308, 4.289, 4.283, 4.275, 4.227, 4.208, 4.107, 4.073, 3.8489999999999998, 3.819, 3.775, 3.658, 3.623, 3.615, 3.6, 3.512, 3.467, 3.415, 3.145, 2.523]}],                        {\"coloraxis\": {\"colorbar\": {\"title\": {\"text\": \"Happiness Score\"}}, \"colorscale\": [[0.0, \"#D35151\"], [0.00684931506849315, \"#D35151\"], [0.0136986301369863, \"#D35151\"], [0.02054794520547945, \"#D35151\"], [0.0273972602739726, \"#D35151\"], [0.03424657534246575, \"#D35151\"], [0.0410958904109589, \"#D35151\"], [0.04794520547945205, \"#D35151\"], [0.0547945205479452, \"#D35151\"], [0.06164383561643835, \"#D35151\"], [0.0684931506849315, \"#D35151\"], [0.07534246575342465, \"#D35151\"], [0.0821917808219178, \"#D35151\"], [0.08904109589041095, \"#D35151\"], [0.0958904109589041, \"#D35151\"], [0.10273972602739725, \"#D35151\"], [0.1095890410958904, \"#D35151\"], [0.11643835616438356, \"#D35151\"], [0.1232876712328767, \"#D35151\"], [0.13013698630136986, \"#D35151\"], [0.136986301369863, \"#D35151\"], [0.14383561643835616, \"#D35151\"], [0.1506849315068493, \"#D35151\"], [0.15753424657534246, \"#D35151\"], [0.1643835616438356, \"#D35151\"], [0.17123287671232876, \"#D35151\"], [0.1780821917808219, \"#D35151\"], [0.18493150684931506, \"#D35151\"], [0.1917808219178082, \"#D35151\"], [0.19863013698630136, \"#D35151\"], [0.2054794520547945, \"#D35151\"], [0.21232876712328766, \"#D35151\"], [0.2191780821917808, \"#D35151\"], [0.22602739726027396, \"#D35151\"], [0.2328767123287671, \"#D35151\"], [0.23972602739726026, \"#D35151\"], [0.2465753424657534, \"#D35151\"], [0.2534246575342466, \"#D35151\"], [0.2602739726027397, \"#D35151\"], [0.2671232876712329, \"#D35151\"], [0.273972602739726, \"#D35151\"], [0.2808219178082192, \"#D35151\"], [0.2876712328767123, \"#D35151\"], [0.2945205479452055, \"#D35151\"], [0.3013698630136986, \"#D35151\"], [0.3082191780821918, \"#D35151\"], [0.3150684931506849, \"#D35151\"], [0.3219178082191781, \"#D35151\"], [0.3287671232876712, \"#D35151\"], [0.3356164383561644, \"#D35151\"], [0.3424657534246575, \"#D35151\"], [0.3493150684931507, \"#D35151\"], [0.3561643835616438, \"#D35151\"], [0.363013698630137, \"#D35151\"], [0.3698630136986301, \"#D35151\"], [0.3767123287671233, \"#D35151\"], [0.3835616438356164, \"#D35151\"], [0.3904109589041096, \"#D35151\"], [0.3972602739726027, \"#D35151\"], [0.4041095890410959, \"#D35151\"], [0.410958904109589, \"#D35151\"], [0.4178082191780822, \"#D35151\"], [0.4246575342465753, \"#D35151\"], [0.4315068493150685, \"#D35151\"], [0.4383561643835616, \"#D35151\"], [0.4452054794520548, \"#D35151\"], [0.4520547945205479, \"#D35151\"], [0.4589041095890411, \"#D35151\"], [0.4657534246575342, \"#D35151\"], [0.4726027397260274, \"#D35151\"], [0.4794520547945205, \"#D35151\"], [0.4863013698630137, \"#D35151\"], [0.4931506849315068, \"#D35151\"], [0.5, \"#179E66\"], [0.5068493150684932, \"#179E66\"], [0.5136986301369864, \"#179E66\"], [0.5205479452054794, \"#179E66\"], [0.5273972602739726, \"#179E66\"], [0.5342465753424658, \"#179E66\"], [0.541095890410959, \"#179E66\"], [0.547945205479452, \"#179E66\"], [0.5547945205479452, \"#179E66\"], [0.5616438356164384, \"#179E66\"], [0.5684931506849316, \"#179E66\"], [0.5753424657534246, \"#179E66\"], [0.5821917808219178, \"#179E66\"], [0.589041095890411, \"#179E66\"], [0.5958904109589042, \"#179E66\"], [0.6027397260273972, \"#179E66\"], [0.6095890410958904, \"#179E66\"], [0.6164383561643836, \"#179E66\"], [0.6232876712328768, \"#179E66\"], [0.6301369863013698, \"#179E66\"], [0.636986301369863, \"#179E66\"], [0.6438356164383562, \"#179E66\"], [0.6506849315068494, \"#179E66\"], [0.6575342465753424, \"#179E66\"], [0.6643835616438356, \"#179E66\"], [0.6712328767123288, \"#179E66\"], [0.678082191780822, \"#179E66\"], [0.684931506849315, \"#179E66\"], [0.6917808219178082, \"#179E66\"], [0.6986301369863014, \"#179E66\"], [0.7054794520547946, \"#179E66\"], [0.7123287671232876, \"#179E66\"], [0.7191780821917808, \"#179E66\"], [0.726027397260274, \"#179E66\"], [0.7328767123287672, \"#179E66\"], [0.7397260273972602, \"#179E66\"], [0.7465753424657534, \"#179E66\"], [0.7534246575342466, \"#179E66\"], [0.7602739726027398, \"#179E66\"], [0.7671232876712328, \"#179E66\"], [0.773972602739726, \"#179E66\"], [0.7808219178082192, \"#179E66\"], [0.7876712328767124, \"#179E66\"], [0.7945205479452054, \"#179E66\"], [0.8013698630136986, \"#179E66\"], [0.8082191780821918, \"#179E66\"], [0.815068493150685, \"#179E66\"], [0.821917808219178, \"#179E66\"], [0.8287671232876712, \"#179E66\"], [0.8356164383561644, \"#179E66\"], [0.8424657534246576, \"#179E66\"], [0.8493150684931506, \"#179E66\"], [0.8561643835616438, \"#179E66\"], [0.863013698630137, \"#179E66\"], [0.8698630136986302, \"#179E66\"], [0.8767123287671232, \"#179E66\"], [0.8835616438356164, \"#179E66\"], [0.8904109589041096, \"#179E66\"], [0.8972602739726028, \"#179E66\"], [0.9041095890410958, \"#179E66\"], [0.910958904109589, \"#179E66\"], [0.9178082191780822, \"#179E66\"], [0.9246575342465754, \"#179E66\"], [0.9315068493150684, \"#179E66\"], [0.9383561643835616, \"#179E66\"], [0.9452054794520548, \"#179E66\"], [0.952054794520548, \"#179E66\"], [0.958904109589041, \"#179E66\"], [0.9657534246575342, \"#179E66\"], [0.9726027397260274, \"#179E66\"], [0.9794520547945206, \"#179E66\"], [0.9863013698630136, \"#179E66\"], [0.9931506849315068, \"#179E66\"], [1.0, \"#179E66\"]]}, \"geo\": {\"center\": {}, \"domain\": {\"x\": [0.0, 1.0], \"y\": [0.0, 1.0]}}, \"legend\": {\"tracegroupgap\": 0}, \"template\": {\"data\": {\"bar\": [{\"error_x\": {\"color\": \"#2a3f5f\"}, \"error_y\": {\"color\": \"#2a3f5f\"}, \"marker\": {\"line\": {\"color\": \"#E5ECF6\", \"width\": 0.5}}, \"type\": \"bar\"}], \"barpolar\": [{\"marker\": {\"line\": {\"color\": \"#E5ECF6\", \"width\": 0.5}}, \"type\": \"barpolar\"}], \"carpet\": [{\"aaxis\": {\"endlinecolor\": \"#2a3f5f\", \"gridcolor\": \"white\", \"linecolor\": \"white\", \"minorgridcolor\": \"white\", \"startlinecolor\": \"#2a3f5f\"}, \"baxis\": {\"endlinecolor\": \"#2a3f5f\", \"gridcolor\": \"white\", \"linecolor\": \"white\", \"minorgridcolor\": \"white\", \"startlinecolor\": \"#2a3f5f\"}, \"type\": \"carpet\"}], \"choropleth\": [{\"colorbar\": {\"outlinewidth\": 0, \"ticks\": \"\"}, \"type\": \"choropleth\"}], \"contour\": [{\"colorbar\": {\"outlinewidth\": 0, \"ticks\": \"\"}, \"colorscale\": [[0.0, \"#0d0887\"], [0.1111111111111111, \"#46039f\"], [0.2222222222222222, \"#7201a8\"], [0.3333333333333333, \"#9c179e\"], [0.4444444444444444, \"#bd3786\"], [0.5555555555555556, \"#d8576b\"], [0.6666666666666666, \"#ed7953\"], [0.7777777777777778, \"#fb9f3a\"], [0.8888888888888888, \"#fdca26\"], [1.0, \"#f0f921\"]], \"type\": \"contour\"}], \"contourcarpet\": [{\"colorbar\": {\"outlinewidth\": 0, \"ticks\": \"\"}, \"type\": \"contourcarpet\"}], \"heatmap\": [{\"colorbar\": {\"outlinewidth\": 0, \"ticks\": \"\"}, \"colorscale\": [[0.0, \"#0d0887\"], [0.1111111111111111, \"#46039f\"], [0.2222222222222222, \"#7201a8\"], [0.3333333333333333, \"#9c179e\"], [0.4444444444444444, \"#bd3786\"], [0.5555555555555556, \"#d8576b\"], [0.6666666666666666, \"#ed7953\"], [0.7777777777777778, \"#fb9f3a\"], [0.8888888888888888, \"#fdca26\"], [1.0, \"#f0f921\"]], \"type\": \"heatmap\"}], \"heatmapgl\": [{\"colorbar\": {\"outlinewidth\": 0, \"ticks\": \"\"}, \"colorscale\": [[0.0, \"#0d0887\"], [0.1111111111111111, \"#46039f\"], [0.2222222222222222, \"#7201a8\"], [0.3333333333333333, \"#9c179e\"], [0.4444444444444444, \"#bd3786\"], [0.5555555555555556, \"#d8576b\"], [0.6666666666666666, \"#ed7953\"], [0.7777777777777778, \"#fb9f3a\"], [0.8888888888888888, \"#fdca26\"], [1.0, \"#f0f921\"]], \"type\": \"heatmapgl\"}], \"histogram\": [{\"marker\": {\"colorbar\": {\"outlinewidth\": 0, \"ticks\": \"\"}}, \"type\": \"histogram\"}], \"histogram2d\": [{\"colorbar\": {\"outlinewidth\": 0, \"ticks\": \"\"}, \"colorscale\": [[0.0, \"#0d0887\"], [0.1111111111111111, \"#46039f\"], [0.2222222222222222, \"#7201a8\"], [0.3333333333333333, \"#9c179e\"], [0.4444444444444444, \"#bd3786\"], [0.5555555555555556, \"#d8576b\"], [0.6666666666666666, \"#ed7953\"], [0.7777777777777778, \"#fb9f3a\"], [0.8888888888888888, \"#fdca26\"], [1.0, \"#f0f921\"]], \"type\": \"histogram2d\"}], \"histogram2dcontour\": [{\"colorbar\": {\"outlinewidth\": 0, \"ticks\": \"\"}, \"colorscale\": [[0.0, \"#0d0887\"], [0.1111111111111111, \"#46039f\"], [0.2222222222222222, \"#7201a8\"], [0.3333333333333333, \"#9c179e\"], [0.4444444444444444, \"#bd3786\"], [0.5555555555555556, \"#d8576b\"], [0.6666666666666666, \"#ed7953\"], [0.7777777777777778, \"#fb9f3a\"], [0.8888888888888888, \"#fdca26\"], [1.0, \"#f0f921\"]], \"type\": \"histogram2dcontour\"}], \"mesh3d\": [{\"colorbar\": {\"outlinewidth\": 0, \"ticks\": \"\"}, \"type\": \"mesh3d\"}], \"parcoords\": [{\"line\": {\"colorbar\": {\"outlinewidth\": 0, \"ticks\": \"\"}}, \"type\": \"parcoords\"}], \"pie\": [{\"automargin\": true, \"type\": \"pie\"}], \"scatter\": [{\"marker\": {\"colorbar\": {\"outlinewidth\": 0, \"ticks\": \"\"}}, \"type\": \"scatter\"}], \"scatter3d\": [{\"line\": {\"colorbar\": {\"outlinewidth\": 0, \"ticks\": \"\"}}, \"marker\": {\"colorbar\": {\"outlinewidth\": 0, \"ticks\": \"\"}}, \"type\": \"scatter3d\"}], \"scattercarpet\": [{\"marker\": {\"colorbar\": {\"outlinewidth\": 0, \"ticks\": \"\"}}, \"type\": \"scattercarpet\"}], \"scattergeo\": [{\"marker\": {\"colorbar\": {\"outlinewidth\": 0, \"ticks\": \"\"}}, \"type\": \"scattergeo\"}], \"scattergl\": [{\"marker\": {\"colorbar\": {\"outlinewidth\": 0, \"ticks\": \"\"}}, \"type\": \"scattergl\"}], \"scattermapbox\": [{\"marker\": {\"colorbar\": {\"outlinewidth\": 0, \"ticks\": \"\"}}, \"type\": \"scattermapbox\"}], \"scatterpolar\": [{\"marker\": {\"colorbar\": {\"outlinewidth\": 0, \"ticks\": \"\"}}, \"type\": \"scatterpolar\"}], \"scatterpolargl\": [{\"marker\": {\"colorbar\": {\"outlinewidth\": 0, \"ticks\": \"\"}}, \"type\": \"scatterpolargl\"}], \"scatterternary\": [{\"marker\": {\"colorbar\": {\"outlinewidth\": 0, \"ticks\": \"\"}}, \"type\": \"scatterternary\"}], \"surface\": [{\"colorbar\": {\"outlinewidth\": 0, \"ticks\": \"\"}, \"colorscale\": [[0.0, \"#0d0887\"], [0.1111111111111111, \"#46039f\"], [0.2222222222222222, \"#7201a8\"], [0.3333333333333333, \"#9c179e\"], [0.4444444444444444, \"#bd3786\"], [0.5555555555555556, \"#d8576b\"], [0.6666666666666666, \"#ed7953\"], [0.7777777777777778, \"#fb9f3a\"], [0.8888888888888888, \"#fdca26\"], [1.0, \"#f0f921\"]], \"type\": \"surface\"}], \"table\": [{\"cells\": {\"fill\": {\"color\": \"#EBF0F8\"}, \"line\": {\"color\": \"white\"}}, \"header\": {\"fill\": {\"color\": \"#C8D4E3\"}, \"line\": {\"color\": \"white\"}}, \"type\": \"table\"}]}, \"layout\": {\"annotationdefaults\": {\"arrowcolor\": \"#2a3f5f\", \"arrowhead\": 0, \"arrowwidth\": 1}, \"autotypenumbers\": \"strict\", \"coloraxis\": {\"colorbar\": {\"outlinewidth\": 0, \"ticks\": \"\"}}, \"colorscale\": {\"diverging\": [[0, \"#8e0152\"], [0.1, \"#c51b7d\"], [0.2, \"#de77ae\"], [0.3, \"#f1b6da\"], [0.4, \"#fde0ef\"], [0.5, \"#f7f7f7\"], [0.6, \"#e6f5d0\"], [0.7, \"#b8e186\"], [0.8, \"#7fbc41\"], [0.9, \"#4d9221\"], [1, \"#276419\"]], \"sequential\": [[0.0, \"#0d0887\"], [0.1111111111111111, \"#46039f\"], [0.2222222222222222, \"#7201a8\"], [0.3333333333333333, \"#9c179e\"], [0.4444444444444444, \"#bd3786\"], [0.5555555555555556, \"#d8576b\"], [0.6666666666666666, \"#ed7953\"], [0.7777777777777778, \"#fb9f3a\"], [0.8888888888888888, \"#fdca26\"], [1.0, \"#f0f921\"]], \"sequentialminus\": [[0.0, \"#0d0887\"], [0.1111111111111111, \"#46039f\"], [0.2222222222222222, \"#7201a8\"], [0.3333333333333333, \"#9c179e\"], [0.4444444444444444, \"#bd3786\"], [0.5555555555555556, \"#d8576b\"], [0.6666666666666666, \"#ed7953\"], [0.7777777777777778, \"#fb9f3a\"], [0.8888888888888888, \"#fdca26\"], [1.0, \"#f0f921\"]]}, \"colorway\": [\"#636efa\", \"#EF553B\", \"#00cc96\", \"#ab63fa\", \"#FFA15A\", \"#19d3f3\", \"#FF6692\", \"#B6E880\", \"#FF97FF\", \"#FECB52\"], \"font\": {\"color\": \"#2a3f5f\"}, \"geo\": {\"bgcolor\": \"white\", \"lakecolor\": \"white\", \"landcolor\": \"#E5ECF6\", \"showlakes\": true, \"showland\": true, \"subunitcolor\": \"white\"}, \"hoverlabel\": {\"align\": \"left\"}, \"hovermode\": \"closest\", \"mapbox\": {\"style\": \"light\"}, \"paper_bgcolor\": \"white\", \"plot_bgcolor\": \"#E5ECF6\", \"polar\": {\"angularaxis\": {\"gridcolor\": \"white\", \"linecolor\": \"white\", \"ticks\": \"\"}, \"bgcolor\": \"#E5ECF6\", \"radialaxis\": {\"gridcolor\": \"white\", \"linecolor\": \"white\", \"ticks\": \"\"}}, \"scene\": {\"xaxis\": {\"backgroundcolor\": \"#E5ECF6\", \"gridcolor\": \"white\", \"gridwidth\": 2, \"linecolor\": \"white\", \"showbackground\": true, \"ticks\": \"\", \"zerolinecolor\": \"white\"}, \"yaxis\": {\"backgroundcolor\": \"#E5ECF6\", \"gridcolor\": \"white\", \"gridwidth\": 2, \"linecolor\": \"white\", \"showbackground\": true, \"ticks\": \"\", \"zerolinecolor\": \"white\"}, \"zaxis\": {\"backgroundcolor\": \"#E5ECF6\", \"gridcolor\": \"white\", \"gridwidth\": 2, \"linecolor\": \"white\", \"showbackground\": true, \"ticks\": \"\", \"zerolinecolor\": \"white\"}}, \"shapedefaults\": {\"line\": {\"color\": \"#2a3f5f\"}}, \"ternary\": {\"aaxis\": {\"gridcolor\": \"white\", \"linecolor\": \"white\", \"ticks\": \"\"}, \"baxis\": {\"gridcolor\": \"white\", \"linecolor\": \"white\", \"ticks\": \"\"}, \"bgcolor\": \"#E5ECF6\", \"caxis\": {\"gridcolor\": \"white\", \"linecolor\": \"white\", \"ticks\": \"\"}}, \"title\": {\"x\": 0.05}, \"xaxis\": {\"automargin\": true, \"gridcolor\": \"white\", \"linecolor\": \"white\", \"ticks\": \"\", \"title\": {\"standoff\": 15}, \"zerolinecolor\": \"white\", \"zerolinewidth\": 2}, \"yaxis\": {\"automargin\": true, \"gridcolor\": \"white\", \"linecolor\": \"white\", \"ticks\": \"\", \"title\": {\"standoff\": 15}, \"zerolinecolor\": \"white\", \"zerolinewidth\": 2}}}, \"title\": {\"text\": \"World Map View (Ladder Score) 2021\"}},                        {\"responsive\": true}                    ).then(function(){\n",
       "                            \n",
       "var gd = document.getElementById('2400b951-4eaf-4a22-991d-9c10ca254e20');\n",
       "var x = new MutationObserver(function (mutations, observer) {{\n",
       "        var display = window.getComputedStyle(gd).display;\n",
       "        if (!display || display === 'none') {{\n",
       "            console.log([gd, 'removed!']);\n",
       "            Plotly.purge(gd);\n",
       "            observer.disconnect();\n",
       "        }}\n",
       "}});\n",
       "\n",
       "// Listen for the removal of the full notebook cells\n",
       "var notebookContainer = gd.closest('#notebook-container');\n",
       "if (notebookContainer) {{\n",
       "    x.observe(notebookContainer, {childList: true});\n",
       "}}\n",
       "\n",
       "// Listen for the clearing of the current output cell\n",
       "var outputEl = gd.closest('.output');\n",
       "if (outputEl) {{\n",
       "    x.observe(outputEl, {childList: true});\n",
       "}}\n",
       "\n",
       "                        })                };                });            </script>        </div>"
      ]
     },
     "metadata": {},
     "output_type": "display_data"
    }
   ],
   "source": [
    "# Build the world map\n",
    "fig = px.choropleth(df_country, locations='c_code',\n",
    "                    color='Ladder score',\n",
    "                    hover_name='Country name',\n",
    "                    hover_data={'c_code':False,\n",
    "                               'Logged GDP per capita': True,\n",
    "                               'Healthy life expectancy': True,\n",
    "                               'Freedom to make life choices': True},\n",
    "                    color_continuous_scale=col_code,\n",
    "                    labels={'Ladder score': 'Happiness Score'},\n",
    "                    title='World Map View (Ladder Score) 2021'\n",
    "                   )\n",
    "\n",
    "fig.update_traces(showlegend=False)\n",
    "fig.show()"
   ]
  },
  {
   "cell_type": "markdown",
   "metadata": {},
   "source": [
    "### Summary\n",
    "\n",
    "The mean of ladder score of the world: 5.53 and the mean of the East Asia Country: 5.81\n",
    "\n",
    "Hong Kong has a 5.48/10 ladder score, which comes in the 77th place in the world and 5th place among the 6 East-Asian Country. The difference between the mean and its ladder score (East Asia only) is: 0.33\n",
    "\n",
    "The country in the world that has the highest ladder score (index): Finland. The difference between the mean and its ladder score is: 2.31.\n",
    "\n",
    "The country in the world that has the lowest ladder score (index): Afghanistan. The difference between the mean and its ladder score is: 3.01.\n",
    "\n",
    "The country in the East Asia that has the highest ladder score (index): Taiwan Province of China. The difference between the mean and its ladder score (East Asia only) is: 0.77.\n",
    "\n",
    "The country in the East Asia that has the lowest ladder score (index): China. The difference between the mean and its ladder score (East Asia only) is: 0.47\n",
    "\n"
   ]
  },
  {
   "cell_type": "code",
   "execution_count": 81,
   "metadata": {},
   "outputs": [
    {
     "data": {
      "application/vnd.plotly.v1+json": {
       "config": {
        "plotlyServerURL": "https://plot.ly"
       },
       "data": [
        {
         "alignmentgroup": "True",
         "hovertemplate": "Happiness Score=%{x}<extra></extra>",
         "legendgroup": "",
         "marker": {
          "color": "#636efa"
         },
         "name": "",
         "notched": false,
         "offsetgroup": "",
         "orientation": "h",
         "showlegend": false,
         "type": "box",
         "x": [
          6.584,
          5.94,
          5.845,
          5.6770000000000005,
          5.477,
          5.3389999999999995
         ],
         "x0": " ",
         "xaxis": "x",
         "y0": " ",
         "yaxis": "y"
        }
       ],
       "layout": {
        "boxmode": "group",
        "height": 300,
        "legend": {
         "tracegroupgap": 0
        },
        "margin": {
         "t": 60
        },
        "template": {
         "data": {
          "bar": [
           {
            "error_x": {
             "color": "#2a3f5f"
            },
            "error_y": {
             "color": "#2a3f5f"
            },
            "marker": {
             "line": {
              "color": "#E5ECF6",
              "width": 0.5
             }
            },
            "type": "bar"
           }
          ],
          "barpolar": [
           {
            "marker": {
             "line": {
              "color": "#E5ECF6",
              "width": 0.5
             }
            },
            "type": "barpolar"
           }
          ],
          "carpet": [
           {
            "aaxis": {
             "endlinecolor": "#2a3f5f",
             "gridcolor": "white",
             "linecolor": "white",
             "minorgridcolor": "white",
             "startlinecolor": "#2a3f5f"
            },
            "baxis": {
             "endlinecolor": "#2a3f5f",
             "gridcolor": "white",
             "linecolor": "white",
             "minorgridcolor": "white",
             "startlinecolor": "#2a3f5f"
            },
            "type": "carpet"
           }
          ],
          "choropleth": [
           {
            "colorbar": {
             "outlinewidth": 0,
             "ticks": ""
            },
            "type": "choropleth"
           }
          ],
          "contour": [
           {
            "colorbar": {
             "outlinewidth": 0,
             "ticks": ""
            },
            "colorscale": [
             [
              0,
              "#0d0887"
             ],
             [
              0.1111111111111111,
              "#46039f"
             ],
             [
              0.2222222222222222,
              "#7201a8"
             ],
             [
              0.3333333333333333,
              "#9c179e"
             ],
             [
              0.4444444444444444,
              "#bd3786"
             ],
             [
              0.5555555555555556,
              "#d8576b"
             ],
             [
              0.6666666666666666,
              "#ed7953"
             ],
             [
              0.7777777777777778,
              "#fb9f3a"
             ],
             [
              0.8888888888888888,
              "#fdca26"
             ],
             [
              1,
              "#f0f921"
             ]
            ],
            "type": "contour"
           }
          ],
          "contourcarpet": [
           {
            "colorbar": {
             "outlinewidth": 0,
             "ticks": ""
            },
            "type": "contourcarpet"
           }
          ],
          "heatmap": [
           {
            "colorbar": {
             "outlinewidth": 0,
             "ticks": ""
            },
            "colorscale": [
             [
              0,
              "#0d0887"
             ],
             [
              0.1111111111111111,
              "#46039f"
             ],
             [
              0.2222222222222222,
              "#7201a8"
             ],
             [
              0.3333333333333333,
              "#9c179e"
             ],
             [
              0.4444444444444444,
              "#bd3786"
             ],
             [
              0.5555555555555556,
              "#d8576b"
             ],
             [
              0.6666666666666666,
              "#ed7953"
             ],
             [
              0.7777777777777778,
              "#fb9f3a"
             ],
             [
              0.8888888888888888,
              "#fdca26"
             ],
             [
              1,
              "#f0f921"
             ]
            ],
            "type": "heatmap"
           }
          ],
          "heatmapgl": [
           {
            "colorbar": {
             "outlinewidth": 0,
             "ticks": ""
            },
            "colorscale": [
             [
              0,
              "#0d0887"
             ],
             [
              0.1111111111111111,
              "#46039f"
             ],
             [
              0.2222222222222222,
              "#7201a8"
             ],
             [
              0.3333333333333333,
              "#9c179e"
             ],
             [
              0.4444444444444444,
              "#bd3786"
             ],
             [
              0.5555555555555556,
              "#d8576b"
             ],
             [
              0.6666666666666666,
              "#ed7953"
             ],
             [
              0.7777777777777778,
              "#fb9f3a"
             ],
             [
              0.8888888888888888,
              "#fdca26"
             ],
             [
              1,
              "#f0f921"
             ]
            ],
            "type": "heatmapgl"
           }
          ],
          "histogram": [
           {
            "marker": {
             "colorbar": {
              "outlinewidth": 0,
              "ticks": ""
             }
            },
            "type": "histogram"
           }
          ],
          "histogram2d": [
           {
            "colorbar": {
             "outlinewidth": 0,
             "ticks": ""
            },
            "colorscale": [
             [
              0,
              "#0d0887"
             ],
             [
              0.1111111111111111,
              "#46039f"
             ],
             [
              0.2222222222222222,
              "#7201a8"
             ],
             [
              0.3333333333333333,
              "#9c179e"
             ],
             [
              0.4444444444444444,
              "#bd3786"
             ],
             [
              0.5555555555555556,
              "#d8576b"
             ],
             [
              0.6666666666666666,
              "#ed7953"
             ],
             [
              0.7777777777777778,
              "#fb9f3a"
             ],
             [
              0.8888888888888888,
              "#fdca26"
             ],
             [
              1,
              "#f0f921"
             ]
            ],
            "type": "histogram2d"
           }
          ],
          "histogram2dcontour": [
           {
            "colorbar": {
             "outlinewidth": 0,
             "ticks": ""
            },
            "colorscale": [
             [
              0,
              "#0d0887"
             ],
             [
              0.1111111111111111,
              "#46039f"
             ],
             [
              0.2222222222222222,
              "#7201a8"
             ],
             [
              0.3333333333333333,
              "#9c179e"
             ],
             [
              0.4444444444444444,
              "#bd3786"
             ],
             [
              0.5555555555555556,
              "#d8576b"
             ],
             [
              0.6666666666666666,
              "#ed7953"
             ],
             [
              0.7777777777777778,
              "#fb9f3a"
             ],
             [
              0.8888888888888888,
              "#fdca26"
             ],
             [
              1,
              "#f0f921"
             ]
            ],
            "type": "histogram2dcontour"
           }
          ],
          "mesh3d": [
           {
            "colorbar": {
             "outlinewidth": 0,
             "ticks": ""
            },
            "type": "mesh3d"
           }
          ],
          "parcoords": [
           {
            "line": {
             "colorbar": {
              "outlinewidth": 0,
              "ticks": ""
             }
            },
            "type": "parcoords"
           }
          ],
          "pie": [
           {
            "automargin": true,
            "type": "pie"
           }
          ],
          "scatter": [
           {
            "marker": {
             "colorbar": {
              "outlinewidth": 0,
              "ticks": ""
             }
            },
            "type": "scatter"
           }
          ],
          "scatter3d": [
           {
            "line": {
             "colorbar": {
              "outlinewidth": 0,
              "ticks": ""
             }
            },
            "marker": {
             "colorbar": {
              "outlinewidth": 0,
              "ticks": ""
             }
            },
            "type": "scatter3d"
           }
          ],
          "scattercarpet": [
           {
            "marker": {
             "colorbar": {
              "outlinewidth": 0,
              "ticks": ""
             }
            },
            "type": "scattercarpet"
           }
          ],
          "scattergeo": [
           {
            "marker": {
             "colorbar": {
              "outlinewidth": 0,
              "ticks": ""
             }
            },
            "type": "scattergeo"
           }
          ],
          "scattergl": [
           {
            "marker": {
             "colorbar": {
              "outlinewidth": 0,
              "ticks": ""
             }
            },
            "type": "scattergl"
           }
          ],
          "scattermapbox": [
           {
            "marker": {
             "colorbar": {
              "outlinewidth": 0,
              "ticks": ""
             }
            },
            "type": "scattermapbox"
           }
          ],
          "scatterpolar": [
           {
            "marker": {
             "colorbar": {
              "outlinewidth": 0,
              "ticks": ""
             }
            },
            "type": "scatterpolar"
           }
          ],
          "scatterpolargl": [
           {
            "marker": {
             "colorbar": {
              "outlinewidth": 0,
              "ticks": ""
             }
            },
            "type": "scatterpolargl"
           }
          ],
          "scatterternary": [
           {
            "marker": {
             "colorbar": {
              "outlinewidth": 0,
              "ticks": ""
             }
            },
            "type": "scatterternary"
           }
          ],
          "surface": [
           {
            "colorbar": {
             "outlinewidth": 0,
             "ticks": ""
            },
            "colorscale": [
             [
              0,
              "#0d0887"
             ],
             [
              0.1111111111111111,
              "#46039f"
             ],
             [
              0.2222222222222222,
              "#7201a8"
             ],
             [
              0.3333333333333333,
              "#9c179e"
             ],
             [
              0.4444444444444444,
              "#bd3786"
             ],
             [
              0.5555555555555556,
              "#d8576b"
             ],
             [
              0.6666666666666666,
              "#ed7953"
             ],
             [
              0.7777777777777778,
              "#fb9f3a"
             ],
             [
              0.8888888888888888,
              "#fdca26"
             ],
             [
              1,
              "#f0f921"
             ]
            ],
            "type": "surface"
           }
          ],
          "table": [
           {
            "cells": {
             "fill": {
              "color": "#EBF0F8"
             },
             "line": {
              "color": "white"
             }
            },
            "header": {
             "fill": {
              "color": "#C8D4E3"
             },
             "line": {
              "color": "white"
             }
            },
            "type": "table"
           }
          ]
         },
         "layout": {
          "annotationdefaults": {
           "arrowcolor": "#2a3f5f",
           "arrowhead": 0,
           "arrowwidth": 1
          },
          "autotypenumbers": "strict",
          "coloraxis": {
           "colorbar": {
            "outlinewidth": 0,
            "ticks": ""
           }
          },
          "colorscale": {
           "diverging": [
            [
             0,
             "#8e0152"
            ],
            [
             0.1,
             "#c51b7d"
            ],
            [
             0.2,
             "#de77ae"
            ],
            [
             0.3,
             "#f1b6da"
            ],
            [
             0.4,
             "#fde0ef"
            ],
            [
             0.5,
             "#f7f7f7"
            ],
            [
             0.6,
             "#e6f5d0"
            ],
            [
             0.7,
             "#b8e186"
            ],
            [
             0.8,
             "#7fbc41"
            ],
            [
             0.9,
             "#4d9221"
            ],
            [
             1,
             "#276419"
            ]
           ],
           "sequential": [
            [
             0,
             "#0d0887"
            ],
            [
             0.1111111111111111,
             "#46039f"
            ],
            [
             0.2222222222222222,
             "#7201a8"
            ],
            [
             0.3333333333333333,
             "#9c179e"
            ],
            [
             0.4444444444444444,
             "#bd3786"
            ],
            [
             0.5555555555555556,
             "#d8576b"
            ],
            [
             0.6666666666666666,
             "#ed7953"
            ],
            [
             0.7777777777777778,
             "#fb9f3a"
            ],
            [
             0.8888888888888888,
             "#fdca26"
            ],
            [
             1,
             "#f0f921"
            ]
           ],
           "sequentialminus": [
            [
             0,
             "#0d0887"
            ],
            [
             0.1111111111111111,
             "#46039f"
            ],
            [
             0.2222222222222222,
             "#7201a8"
            ],
            [
             0.3333333333333333,
             "#9c179e"
            ],
            [
             0.4444444444444444,
             "#bd3786"
            ],
            [
             0.5555555555555556,
             "#d8576b"
            ],
            [
             0.6666666666666666,
             "#ed7953"
            ],
            [
             0.7777777777777778,
             "#fb9f3a"
            ],
            [
             0.8888888888888888,
             "#fdca26"
            ],
            [
             1,
             "#f0f921"
            ]
           ]
          },
          "colorway": [
           "#636efa",
           "#EF553B",
           "#00cc96",
           "#ab63fa",
           "#FFA15A",
           "#19d3f3",
           "#FF6692",
           "#B6E880",
           "#FF97FF",
           "#FECB52"
          ],
          "font": {
           "color": "#2a3f5f"
          },
          "geo": {
           "bgcolor": "white",
           "lakecolor": "white",
           "landcolor": "#E5ECF6",
           "showlakes": true,
           "showland": true,
           "subunitcolor": "white"
          },
          "hoverlabel": {
           "align": "left"
          },
          "hovermode": "closest",
          "mapbox": {
           "style": "light"
          },
          "paper_bgcolor": "white",
          "plot_bgcolor": "#E5ECF6",
          "polar": {
           "angularaxis": {
            "gridcolor": "white",
            "linecolor": "white",
            "ticks": ""
           },
           "bgcolor": "#E5ECF6",
           "radialaxis": {
            "gridcolor": "white",
            "linecolor": "white",
            "ticks": ""
           }
          },
          "scene": {
           "xaxis": {
            "backgroundcolor": "#E5ECF6",
            "gridcolor": "white",
            "gridwidth": 2,
            "linecolor": "white",
            "showbackground": true,
            "ticks": "",
            "zerolinecolor": "white"
           },
           "yaxis": {
            "backgroundcolor": "#E5ECF6",
            "gridcolor": "white",
            "gridwidth": 2,
            "linecolor": "white",
            "showbackground": true,
            "ticks": "",
            "zerolinecolor": "white"
           },
           "zaxis": {
            "backgroundcolor": "#E5ECF6",
            "gridcolor": "white",
            "gridwidth": 2,
            "linecolor": "white",
            "showbackground": true,
            "ticks": "",
            "zerolinecolor": "white"
           }
          },
          "shapedefaults": {
           "line": {
            "color": "#2a3f5f"
           }
          },
          "ternary": {
           "aaxis": {
            "gridcolor": "white",
            "linecolor": "white",
            "ticks": ""
           },
           "baxis": {
            "gridcolor": "white",
            "linecolor": "white",
            "ticks": ""
           },
           "bgcolor": "#E5ECF6",
           "caxis": {
            "gridcolor": "white",
            "linecolor": "white",
            "ticks": ""
           }
          },
          "title": {
           "x": 0.05
          },
          "xaxis": {
           "automargin": true,
           "gridcolor": "white",
           "linecolor": "white",
           "ticks": "",
           "title": {
            "standoff": 15
           },
           "zerolinecolor": "white",
           "zerolinewidth": 2
          },
          "yaxis": {
           "automargin": true,
           "gridcolor": "white",
           "linecolor": "white",
           "ticks": "",
           "title": {
            "standoff": 15
           },
           "zerolinecolor": "white",
           "zerolinewidth": 2
          }
         }
        },
        "title": {
         "font": {
          "size": 24
         },
         "text": "Box Plot of Ladder Score 2021 (East Asian Countries)"
        },
        "width": 800,
        "xaxis": {
         "anchor": "y",
         "domain": [
          0,
          1
         ],
         "title": {
          "text": "Happiness Score"
         }
        },
        "yaxis": {
         "anchor": "x",
         "domain": [
          0,
          1
         ]
        }
       }
      },
      "text/html": [
       "<div>                            <div id=\"0ec1a5ce-4efa-4c95-bb36-e7c846b8bec2\" class=\"plotly-graph-div\" style=\"height:300px; width:800px;\"></div>            <script type=\"text/javascript\">                require([\"plotly\"], function(Plotly) {                    window.PLOTLYENV=window.PLOTLYENV || {};                                    if (document.getElementById(\"0ec1a5ce-4efa-4c95-bb36-e7c846b8bec2\")) {                    Plotly.newPlot(                        \"0ec1a5ce-4efa-4c95-bb36-e7c846b8bec2\",                        [{\"alignmentgroup\": \"True\", \"hovertemplate\": \"Happiness Score=%{x}<extra></extra>\", \"legendgroup\": \"\", \"marker\": {\"color\": \"#636efa\"}, \"name\": \"\", \"notched\": false, \"offsetgroup\": \"\", \"orientation\": \"h\", \"showlegend\": false, \"type\": \"box\", \"x\": [6.584, 5.94, 5.845, 5.6770000000000005, 5.477, 5.3389999999999995], \"x0\": \" \", \"xaxis\": \"x\", \"y0\": \" \", \"yaxis\": \"y\"}],                        {\"boxmode\": \"group\", \"height\": 300, \"legend\": {\"tracegroupgap\": 0}, \"margin\": {\"t\": 60}, \"template\": {\"data\": {\"bar\": [{\"error_x\": {\"color\": \"#2a3f5f\"}, \"error_y\": {\"color\": \"#2a3f5f\"}, \"marker\": {\"line\": {\"color\": \"#E5ECF6\", \"width\": 0.5}}, \"type\": \"bar\"}], \"barpolar\": [{\"marker\": {\"line\": {\"color\": \"#E5ECF6\", \"width\": 0.5}}, \"type\": \"barpolar\"}], \"carpet\": [{\"aaxis\": {\"endlinecolor\": \"#2a3f5f\", \"gridcolor\": \"white\", \"linecolor\": \"white\", \"minorgridcolor\": \"white\", \"startlinecolor\": \"#2a3f5f\"}, \"baxis\": {\"endlinecolor\": \"#2a3f5f\", \"gridcolor\": \"white\", \"linecolor\": \"white\", \"minorgridcolor\": \"white\", \"startlinecolor\": \"#2a3f5f\"}, \"type\": \"carpet\"}], \"choropleth\": [{\"colorbar\": {\"outlinewidth\": 0, \"ticks\": \"\"}, \"type\": \"choropleth\"}], \"contour\": [{\"colorbar\": {\"outlinewidth\": 0, \"ticks\": \"\"}, \"colorscale\": [[0.0, \"#0d0887\"], [0.1111111111111111, \"#46039f\"], [0.2222222222222222, \"#7201a8\"], [0.3333333333333333, \"#9c179e\"], [0.4444444444444444, \"#bd3786\"], [0.5555555555555556, \"#d8576b\"], [0.6666666666666666, \"#ed7953\"], [0.7777777777777778, \"#fb9f3a\"], [0.8888888888888888, \"#fdca26\"], [1.0, \"#f0f921\"]], \"type\": \"contour\"}], \"contourcarpet\": [{\"colorbar\": {\"outlinewidth\": 0, \"ticks\": \"\"}, \"type\": \"contourcarpet\"}], \"heatmap\": [{\"colorbar\": {\"outlinewidth\": 0, \"ticks\": \"\"}, \"colorscale\": [[0.0, \"#0d0887\"], [0.1111111111111111, \"#46039f\"], [0.2222222222222222, \"#7201a8\"], [0.3333333333333333, \"#9c179e\"], [0.4444444444444444, \"#bd3786\"], [0.5555555555555556, \"#d8576b\"], [0.6666666666666666, \"#ed7953\"], [0.7777777777777778, \"#fb9f3a\"], [0.8888888888888888, \"#fdca26\"], [1.0, \"#f0f921\"]], \"type\": \"heatmap\"}], \"heatmapgl\": [{\"colorbar\": {\"outlinewidth\": 0, \"ticks\": \"\"}, \"colorscale\": [[0.0, \"#0d0887\"], [0.1111111111111111, \"#46039f\"], [0.2222222222222222, \"#7201a8\"], [0.3333333333333333, \"#9c179e\"], [0.4444444444444444, \"#bd3786\"], [0.5555555555555556, \"#d8576b\"], [0.6666666666666666, \"#ed7953\"], [0.7777777777777778, \"#fb9f3a\"], [0.8888888888888888, \"#fdca26\"], [1.0, \"#f0f921\"]], \"type\": \"heatmapgl\"}], \"histogram\": [{\"marker\": {\"colorbar\": {\"outlinewidth\": 0, \"ticks\": \"\"}}, \"type\": \"histogram\"}], \"histogram2d\": [{\"colorbar\": {\"outlinewidth\": 0, \"ticks\": \"\"}, \"colorscale\": [[0.0, \"#0d0887\"], [0.1111111111111111, \"#46039f\"], [0.2222222222222222, \"#7201a8\"], [0.3333333333333333, \"#9c179e\"], [0.4444444444444444, \"#bd3786\"], [0.5555555555555556, \"#d8576b\"], [0.6666666666666666, \"#ed7953\"], [0.7777777777777778, \"#fb9f3a\"], [0.8888888888888888, \"#fdca26\"], [1.0, \"#f0f921\"]], \"type\": \"histogram2d\"}], \"histogram2dcontour\": [{\"colorbar\": {\"outlinewidth\": 0, \"ticks\": \"\"}, \"colorscale\": [[0.0, \"#0d0887\"], [0.1111111111111111, \"#46039f\"], [0.2222222222222222, \"#7201a8\"], [0.3333333333333333, \"#9c179e\"], [0.4444444444444444, \"#bd3786\"], [0.5555555555555556, \"#d8576b\"], [0.6666666666666666, \"#ed7953\"], [0.7777777777777778, \"#fb9f3a\"], [0.8888888888888888, \"#fdca26\"], [1.0, \"#f0f921\"]], \"type\": \"histogram2dcontour\"}], \"mesh3d\": [{\"colorbar\": {\"outlinewidth\": 0, \"ticks\": \"\"}, \"type\": \"mesh3d\"}], \"parcoords\": [{\"line\": {\"colorbar\": {\"outlinewidth\": 0, \"ticks\": \"\"}}, \"type\": \"parcoords\"}], \"pie\": [{\"automargin\": true, \"type\": \"pie\"}], \"scatter\": [{\"marker\": {\"colorbar\": {\"outlinewidth\": 0, \"ticks\": \"\"}}, \"type\": \"scatter\"}], \"scatter3d\": [{\"line\": {\"colorbar\": {\"outlinewidth\": 0, \"ticks\": \"\"}}, \"marker\": {\"colorbar\": {\"outlinewidth\": 0, \"ticks\": \"\"}}, \"type\": \"scatter3d\"}], \"scattercarpet\": [{\"marker\": {\"colorbar\": {\"outlinewidth\": 0, \"ticks\": \"\"}}, \"type\": \"scattercarpet\"}], \"scattergeo\": [{\"marker\": {\"colorbar\": {\"outlinewidth\": 0, \"ticks\": \"\"}}, \"type\": \"scattergeo\"}], \"scattergl\": [{\"marker\": {\"colorbar\": {\"outlinewidth\": 0, \"ticks\": \"\"}}, \"type\": \"scattergl\"}], \"scattermapbox\": [{\"marker\": {\"colorbar\": {\"outlinewidth\": 0, \"ticks\": \"\"}}, \"type\": \"scattermapbox\"}], \"scatterpolar\": [{\"marker\": {\"colorbar\": {\"outlinewidth\": 0, \"ticks\": \"\"}}, \"type\": \"scatterpolar\"}], \"scatterpolargl\": [{\"marker\": {\"colorbar\": {\"outlinewidth\": 0, \"ticks\": \"\"}}, \"type\": \"scatterpolargl\"}], \"scatterternary\": [{\"marker\": {\"colorbar\": {\"outlinewidth\": 0, \"ticks\": \"\"}}, \"type\": \"scatterternary\"}], \"surface\": [{\"colorbar\": {\"outlinewidth\": 0, \"ticks\": \"\"}, \"colorscale\": [[0.0, \"#0d0887\"], [0.1111111111111111, \"#46039f\"], [0.2222222222222222, \"#7201a8\"], [0.3333333333333333, \"#9c179e\"], [0.4444444444444444, \"#bd3786\"], [0.5555555555555556, \"#d8576b\"], [0.6666666666666666, \"#ed7953\"], [0.7777777777777778, \"#fb9f3a\"], [0.8888888888888888, \"#fdca26\"], [1.0, \"#f0f921\"]], \"type\": \"surface\"}], \"table\": [{\"cells\": {\"fill\": {\"color\": \"#EBF0F8\"}, \"line\": {\"color\": \"white\"}}, \"header\": {\"fill\": {\"color\": \"#C8D4E3\"}, \"line\": {\"color\": \"white\"}}, \"type\": \"table\"}]}, \"layout\": {\"annotationdefaults\": {\"arrowcolor\": \"#2a3f5f\", \"arrowhead\": 0, \"arrowwidth\": 1}, \"autotypenumbers\": \"strict\", \"coloraxis\": {\"colorbar\": {\"outlinewidth\": 0, \"ticks\": \"\"}}, \"colorscale\": {\"diverging\": [[0, \"#8e0152\"], [0.1, \"#c51b7d\"], [0.2, \"#de77ae\"], [0.3, \"#f1b6da\"], [0.4, \"#fde0ef\"], [0.5, \"#f7f7f7\"], [0.6, \"#e6f5d0\"], [0.7, \"#b8e186\"], [0.8, \"#7fbc41\"], [0.9, \"#4d9221\"], [1, \"#276419\"]], \"sequential\": [[0.0, \"#0d0887\"], [0.1111111111111111, \"#46039f\"], [0.2222222222222222, \"#7201a8\"], [0.3333333333333333, \"#9c179e\"], [0.4444444444444444, \"#bd3786\"], [0.5555555555555556, \"#d8576b\"], [0.6666666666666666, \"#ed7953\"], [0.7777777777777778, \"#fb9f3a\"], [0.8888888888888888, \"#fdca26\"], [1.0, \"#f0f921\"]], \"sequentialminus\": [[0.0, \"#0d0887\"], [0.1111111111111111, \"#46039f\"], [0.2222222222222222, \"#7201a8\"], [0.3333333333333333, \"#9c179e\"], [0.4444444444444444, \"#bd3786\"], [0.5555555555555556, \"#d8576b\"], [0.6666666666666666, \"#ed7953\"], [0.7777777777777778, \"#fb9f3a\"], [0.8888888888888888, \"#fdca26\"], [1.0, \"#f0f921\"]]}, \"colorway\": [\"#636efa\", \"#EF553B\", \"#00cc96\", \"#ab63fa\", \"#FFA15A\", \"#19d3f3\", \"#FF6692\", \"#B6E880\", \"#FF97FF\", \"#FECB52\"], \"font\": {\"color\": \"#2a3f5f\"}, \"geo\": {\"bgcolor\": \"white\", \"lakecolor\": \"white\", \"landcolor\": \"#E5ECF6\", \"showlakes\": true, \"showland\": true, \"subunitcolor\": \"white\"}, \"hoverlabel\": {\"align\": \"left\"}, \"hovermode\": \"closest\", \"mapbox\": {\"style\": \"light\"}, \"paper_bgcolor\": \"white\", \"plot_bgcolor\": \"#E5ECF6\", \"polar\": {\"angularaxis\": {\"gridcolor\": \"white\", \"linecolor\": \"white\", \"ticks\": \"\"}, \"bgcolor\": \"#E5ECF6\", \"radialaxis\": {\"gridcolor\": \"white\", \"linecolor\": \"white\", \"ticks\": \"\"}}, \"scene\": {\"xaxis\": {\"backgroundcolor\": \"#E5ECF6\", \"gridcolor\": \"white\", \"gridwidth\": 2, \"linecolor\": \"white\", \"showbackground\": true, \"ticks\": \"\", \"zerolinecolor\": \"white\"}, \"yaxis\": {\"backgroundcolor\": \"#E5ECF6\", \"gridcolor\": \"white\", \"gridwidth\": 2, \"linecolor\": \"white\", \"showbackground\": true, \"ticks\": \"\", \"zerolinecolor\": \"white\"}, \"zaxis\": {\"backgroundcolor\": \"#E5ECF6\", \"gridcolor\": \"white\", \"gridwidth\": 2, \"linecolor\": \"white\", \"showbackground\": true, \"ticks\": \"\", \"zerolinecolor\": \"white\"}}, \"shapedefaults\": {\"line\": {\"color\": \"#2a3f5f\"}}, \"ternary\": {\"aaxis\": {\"gridcolor\": \"white\", \"linecolor\": \"white\", \"ticks\": \"\"}, \"baxis\": {\"gridcolor\": \"white\", \"linecolor\": \"white\", \"ticks\": \"\"}, \"bgcolor\": \"#E5ECF6\", \"caxis\": {\"gridcolor\": \"white\", \"linecolor\": \"white\", \"ticks\": \"\"}}, \"title\": {\"x\": 0.05}, \"xaxis\": {\"automargin\": true, \"gridcolor\": \"white\", \"linecolor\": \"white\", \"ticks\": \"\", \"title\": {\"standoff\": 15}, \"zerolinecolor\": \"white\", \"zerolinewidth\": 2}, \"yaxis\": {\"automargin\": true, \"gridcolor\": \"white\", \"linecolor\": \"white\", \"ticks\": \"\", \"title\": {\"standoff\": 15}, \"zerolinecolor\": \"white\", \"zerolinewidth\": 2}}}, \"title\": {\"font\": {\"size\": 24}, \"text\": \"Box Plot of Ladder Score 2021 (East Asian Countries)\"}, \"width\": 800, \"xaxis\": {\"anchor\": \"y\", \"domain\": [0.0, 1.0], \"title\": {\"text\": \"Happiness Score\"}}, \"yaxis\": {\"anchor\": \"x\", \"domain\": [0.0, 1.0]}},                        {\"responsive\": true}                    ).then(function(){\n",
       "                            \n",
       "var gd = document.getElementById('0ec1a5ce-4efa-4c95-bb36-e7c846b8bec2');\n",
       "var x = new MutationObserver(function (mutations, observer) {{\n",
       "        var display = window.getComputedStyle(gd).display;\n",
       "        if (!display || display === 'none') {{\n",
       "            console.log([gd, 'removed!']);\n",
       "            Plotly.purge(gd);\n",
       "            observer.disconnect();\n",
       "        }}\n",
       "}});\n",
       "\n",
       "// Listen for the removal of the full notebook cells\n",
       "var notebookContainer = gd.closest('#notebook-container');\n",
       "if (notebookContainer) {{\n",
       "    x.observe(notebookContainer, {childList: true});\n",
       "}}\n",
       "\n",
       "// Listen for the clearing of the current output cell\n",
       "var outputEl = gd.closest('.output');\n",
       "if (outputEl) {{\n",
       "    x.observe(outputEl, {childList: true});\n",
       "}}\n",
       "\n",
       "                        })                };                });            </script>        </div>"
      ]
     },
     "metadata": {},
     "output_type": "display_data"
    },
    {
     "data": {
      "application/vnd.plotly.v1+json": {
       "config": {
        "plotlyServerURL": "https://plot.ly"
       },
       "data": [
        {
         "alignmentgroup": "True",
         "hovertemplate": "Happiness Score=%{x}<extra></extra>",
         "legendgroup": "",
         "marker": {
          "color": "#636efa"
         },
         "name": "",
         "notched": false,
         "offsetgroup": "",
         "orientation": "h",
         "showlegend": false,
         "type": "box",
         "x": [
          7.8420000000000005,
          7.62,
          7.571000000000001,
          7.553999999999999,
          7.4639999999999995,
          7.392,
          7.3629999999999995,
          7.324,
          7.277,
          7.268,
          7.183,
          7.157,
          7.155,
          7.103,
          7.085,
          7.069,
          7.064,
          6.965,
          6.9510000000000005,
          6.834,
          6.69,
          6.647,
          6.602,
          6.584,
          6.561,
          6.494,
          6.4910000000000005,
          6.483,
          6.461,
          6.435,
          6.431,
          6.377000000000001,
          6.372000000000001,
          6.331,
          6.33,
          6.317,
          6.309,
          6.255,
          6.223,
          6.189,
          6.18,
          6.178999999999999,
          6.172000000000001,
          6.166,
          6.152,
          6.14,
          6.106,
          6.077999999999999,
          6.061,
          6.0489999999999995,
          6.032,
          6.0120000000000005,
          5.992000000000001,
          5.985,
          5.972,
          5.94,
          5.928999999999999,
          5.928999999999999,
          5.919,
          5.882000000000001,
          5.88,
          5.845,
          5.84,
          5.813,
          5.766,
          5.763999999999999,
          5.744,
          5.723,
          5.716,
          5.6770000000000005,
          5.653,
          5.581,
          5.545,
          5.5360000000000005,
          5.534,
          5.477,
          5.477,
          5.466,
          5.4110000000000005,
          5.41,
          5.3839999999999995,
          5.345,
          5.3420000000000005,
          5.3389999999999995,
          5.306,
          5.2829999999999995,
          5.269,
          5.266,
          5.1979999999999995,
          5.171,
          5.142,
          5.132000000000001,
          5.117,
          5.101,
          5.088,
          5.074,
          5.066,
          5.051,
          5.045,
          5.03,
          5.025,
          4.984,
          4.956,
          4.948,
          4.934,
          4.918,
          4.8919999999999995,
          4.891,
          4.887,
          4.875,
          4.854,
          4.852,
          4.834,
          4.83,
          4.794,
          4.7589999999999995,
          4.723,
          4.721,
          4.636,
          4.625,
          4.607,
          4.596,
          4.584,
          4.574,
          4.5169999999999995,
          4.426,
          4.395,
          4.355,
          4.325,
          4.308,
          4.289,
          4.283,
          4.275,
          4.227,
          4.208,
          4.107,
          4.073,
          3.8489999999999998,
          3.819,
          3.775,
          3.658,
          3.623,
          3.615,
          3.6,
          3.512,
          3.467,
          3.415,
          3.145,
          2.523
         ],
         "x0": " ",
         "xaxis": "x",
         "y0": " ",
         "yaxis": "y"
        }
       ],
       "layout": {
        "boxmode": "group",
        "height": 300,
        "legend": {
         "tracegroupgap": 0
        },
        "margin": {
         "t": 60
        },
        "template": {
         "data": {
          "bar": [
           {
            "error_x": {
             "color": "#2a3f5f"
            },
            "error_y": {
             "color": "#2a3f5f"
            },
            "marker": {
             "line": {
              "color": "#E5ECF6",
              "width": 0.5
             }
            },
            "type": "bar"
           }
          ],
          "barpolar": [
           {
            "marker": {
             "line": {
              "color": "#E5ECF6",
              "width": 0.5
             }
            },
            "type": "barpolar"
           }
          ],
          "carpet": [
           {
            "aaxis": {
             "endlinecolor": "#2a3f5f",
             "gridcolor": "white",
             "linecolor": "white",
             "minorgridcolor": "white",
             "startlinecolor": "#2a3f5f"
            },
            "baxis": {
             "endlinecolor": "#2a3f5f",
             "gridcolor": "white",
             "linecolor": "white",
             "minorgridcolor": "white",
             "startlinecolor": "#2a3f5f"
            },
            "type": "carpet"
           }
          ],
          "choropleth": [
           {
            "colorbar": {
             "outlinewidth": 0,
             "ticks": ""
            },
            "type": "choropleth"
           }
          ],
          "contour": [
           {
            "colorbar": {
             "outlinewidth": 0,
             "ticks": ""
            },
            "colorscale": [
             [
              0,
              "#0d0887"
             ],
             [
              0.1111111111111111,
              "#46039f"
             ],
             [
              0.2222222222222222,
              "#7201a8"
             ],
             [
              0.3333333333333333,
              "#9c179e"
             ],
             [
              0.4444444444444444,
              "#bd3786"
             ],
             [
              0.5555555555555556,
              "#d8576b"
             ],
             [
              0.6666666666666666,
              "#ed7953"
             ],
             [
              0.7777777777777778,
              "#fb9f3a"
             ],
             [
              0.8888888888888888,
              "#fdca26"
             ],
             [
              1,
              "#f0f921"
             ]
            ],
            "type": "contour"
           }
          ],
          "contourcarpet": [
           {
            "colorbar": {
             "outlinewidth": 0,
             "ticks": ""
            },
            "type": "contourcarpet"
           }
          ],
          "heatmap": [
           {
            "colorbar": {
             "outlinewidth": 0,
             "ticks": ""
            },
            "colorscale": [
             [
              0,
              "#0d0887"
             ],
             [
              0.1111111111111111,
              "#46039f"
             ],
             [
              0.2222222222222222,
              "#7201a8"
             ],
             [
              0.3333333333333333,
              "#9c179e"
             ],
             [
              0.4444444444444444,
              "#bd3786"
             ],
             [
              0.5555555555555556,
              "#d8576b"
             ],
             [
              0.6666666666666666,
              "#ed7953"
             ],
             [
              0.7777777777777778,
              "#fb9f3a"
             ],
             [
              0.8888888888888888,
              "#fdca26"
             ],
             [
              1,
              "#f0f921"
             ]
            ],
            "type": "heatmap"
           }
          ],
          "heatmapgl": [
           {
            "colorbar": {
             "outlinewidth": 0,
             "ticks": ""
            },
            "colorscale": [
             [
              0,
              "#0d0887"
             ],
             [
              0.1111111111111111,
              "#46039f"
             ],
             [
              0.2222222222222222,
              "#7201a8"
             ],
             [
              0.3333333333333333,
              "#9c179e"
             ],
             [
              0.4444444444444444,
              "#bd3786"
             ],
             [
              0.5555555555555556,
              "#d8576b"
             ],
             [
              0.6666666666666666,
              "#ed7953"
             ],
             [
              0.7777777777777778,
              "#fb9f3a"
             ],
             [
              0.8888888888888888,
              "#fdca26"
             ],
             [
              1,
              "#f0f921"
             ]
            ],
            "type": "heatmapgl"
           }
          ],
          "histogram": [
           {
            "marker": {
             "colorbar": {
              "outlinewidth": 0,
              "ticks": ""
             }
            },
            "type": "histogram"
           }
          ],
          "histogram2d": [
           {
            "colorbar": {
             "outlinewidth": 0,
             "ticks": ""
            },
            "colorscale": [
             [
              0,
              "#0d0887"
             ],
             [
              0.1111111111111111,
              "#46039f"
             ],
             [
              0.2222222222222222,
              "#7201a8"
             ],
             [
              0.3333333333333333,
              "#9c179e"
             ],
             [
              0.4444444444444444,
              "#bd3786"
             ],
             [
              0.5555555555555556,
              "#d8576b"
             ],
             [
              0.6666666666666666,
              "#ed7953"
             ],
             [
              0.7777777777777778,
              "#fb9f3a"
             ],
             [
              0.8888888888888888,
              "#fdca26"
             ],
             [
              1,
              "#f0f921"
             ]
            ],
            "type": "histogram2d"
           }
          ],
          "histogram2dcontour": [
           {
            "colorbar": {
             "outlinewidth": 0,
             "ticks": ""
            },
            "colorscale": [
             [
              0,
              "#0d0887"
             ],
             [
              0.1111111111111111,
              "#46039f"
             ],
             [
              0.2222222222222222,
              "#7201a8"
             ],
             [
              0.3333333333333333,
              "#9c179e"
             ],
             [
              0.4444444444444444,
              "#bd3786"
             ],
             [
              0.5555555555555556,
              "#d8576b"
             ],
             [
              0.6666666666666666,
              "#ed7953"
             ],
             [
              0.7777777777777778,
              "#fb9f3a"
             ],
             [
              0.8888888888888888,
              "#fdca26"
             ],
             [
              1,
              "#f0f921"
             ]
            ],
            "type": "histogram2dcontour"
           }
          ],
          "mesh3d": [
           {
            "colorbar": {
             "outlinewidth": 0,
             "ticks": ""
            },
            "type": "mesh3d"
           }
          ],
          "parcoords": [
           {
            "line": {
             "colorbar": {
              "outlinewidth": 0,
              "ticks": ""
             }
            },
            "type": "parcoords"
           }
          ],
          "pie": [
           {
            "automargin": true,
            "type": "pie"
           }
          ],
          "scatter": [
           {
            "marker": {
             "colorbar": {
              "outlinewidth": 0,
              "ticks": ""
             }
            },
            "type": "scatter"
           }
          ],
          "scatter3d": [
           {
            "line": {
             "colorbar": {
              "outlinewidth": 0,
              "ticks": ""
             }
            },
            "marker": {
             "colorbar": {
              "outlinewidth": 0,
              "ticks": ""
             }
            },
            "type": "scatter3d"
           }
          ],
          "scattercarpet": [
           {
            "marker": {
             "colorbar": {
              "outlinewidth": 0,
              "ticks": ""
             }
            },
            "type": "scattercarpet"
           }
          ],
          "scattergeo": [
           {
            "marker": {
             "colorbar": {
              "outlinewidth": 0,
              "ticks": ""
             }
            },
            "type": "scattergeo"
           }
          ],
          "scattergl": [
           {
            "marker": {
             "colorbar": {
              "outlinewidth": 0,
              "ticks": ""
             }
            },
            "type": "scattergl"
           }
          ],
          "scattermapbox": [
           {
            "marker": {
             "colorbar": {
              "outlinewidth": 0,
              "ticks": ""
             }
            },
            "type": "scattermapbox"
           }
          ],
          "scatterpolar": [
           {
            "marker": {
             "colorbar": {
              "outlinewidth": 0,
              "ticks": ""
             }
            },
            "type": "scatterpolar"
           }
          ],
          "scatterpolargl": [
           {
            "marker": {
             "colorbar": {
              "outlinewidth": 0,
              "ticks": ""
             }
            },
            "type": "scatterpolargl"
           }
          ],
          "scatterternary": [
           {
            "marker": {
             "colorbar": {
              "outlinewidth": 0,
              "ticks": ""
             }
            },
            "type": "scatterternary"
           }
          ],
          "surface": [
           {
            "colorbar": {
             "outlinewidth": 0,
             "ticks": ""
            },
            "colorscale": [
             [
              0,
              "#0d0887"
             ],
             [
              0.1111111111111111,
              "#46039f"
             ],
             [
              0.2222222222222222,
              "#7201a8"
             ],
             [
              0.3333333333333333,
              "#9c179e"
             ],
             [
              0.4444444444444444,
              "#bd3786"
             ],
             [
              0.5555555555555556,
              "#d8576b"
             ],
             [
              0.6666666666666666,
              "#ed7953"
             ],
             [
              0.7777777777777778,
              "#fb9f3a"
             ],
             [
              0.8888888888888888,
              "#fdca26"
             ],
             [
              1,
              "#f0f921"
             ]
            ],
            "type": "surface"
           }
          ],
          "table": [
           {
            "cells": {
             "fill": {
              "color": "#EBF0F8"
             },
             "line": {
              "color": "white"
             }
            },
            "header": {
             "fill": {
              "color": "#C8D4E3"
             },
             "line": {
              "color": "white"
             }
            },
            "type": "table"
           }
          ]
         },
         "layout": {
          "annotationdefaults": {
           "arrowcolor": "#2a3f5f",
           "arrowhead": 0,
           "arrowwidth": 1
          },
          "autotypenumbers": "strict",
          "coloraxis": {
           "colorbar": {
            "outlinewidth": 0,
            "ticks": ""
           }
          },
          "colorscale": {
           "diverging": [
            [
             0,
             "#8e0152"
            ],
            [
             0.1,
             "#c51b7d"
            ],
            [
             0.2,
             "#de77ae"
            ],
            [
             0.3,
             "#f1b6da"
            ],
            [
             0.4,
             "#fde0ef"
            ],
            [
             0.5,
             "#f7f7f7"
            ],
            [
             0.6,
             "#e6f5d0"
            ],
            [
             0.7,
             "#b8e186"
            ],
            [
             0.8,
             "#7fbc41"
            ],
            [
             0.9,
             "#4d9221"
            ],
            [
             1,
             "#276419"
            ]
           ],
           "sequential": [
            [
             0,
             "#0d0887"
            ],
            [
             0.1111111111111111,
             "#46039f"
            ],
            [
             0.2222222222222222,
             "#7201a8"
            ],
            [
             0.3333333333333333,
             "#9c179e"
            ],
            [
             0.4444444444444444,
             "#bd3786"
            ],
            [
             0.5555555555555556,
             "#d8576b"
            ],
            [
             0.6666666666666666,
             "#ed7953"
            ],
            [
             0.7777777777777778,
             "#fb9f3a"
            ],
            [
             0.8888888888888888,
             "#fdca26"
            ],
            [
             1,
             "#f0f921"
            ]
           ],
           "sequentialminus": [
            [
             0,
             "#0d0887"
            ],
            [
             0.1111111111111111,
             "#46039f"
            ],
            [
             0.2222222222222222,
             "#7201a8"
            ],
            [
             0.3333333333333333,
             "#9c179e"
            ],
            [
             0.4444444444444444,
             "#bd3786"
            ],
            [
             0.5555555555555556,
             "#d8576b"
            ],
            [
             0.6666666666666666,
             "#ed7953"
            ],
            [
             0.7777777777777778,
             "#fb9f3a"
            ],
            [
             0.8888888888888888,
             "#fdca26"
            ],
            [
             1,
             "#f0f921"
            ]
           ]
          },
          "colorway": [
           "#636efa",
           "#EF553B",
           "#00cc96",
           "#ab63fa",
           "#FFA15A",
           "#19d3f3",
           "#FF6692",
           "#B6E880",
           "#FF97FF",
           "#FECB52"
          ],
          "font": {
           "color": "#2a3f5f"
          },
          "geo": {
           "bgcolor": "white",
           "lakecolor": "white",
           "landcolor": "#E5ECF6",
           "showlakes": true,
           "showland": true,
           "subunitcolor": "white"
          },
          "hoverlabel": {
           "align": "left"
          },
          "hovermode": "closest",
          "mapbox": {
           "style": "light"
          },
          "paper_bgcolor": "white",
          "plot_bgcolor": "#E5ECF6",
          "polar": {
           "angularaxis": {
            "gridcolor": "white",
            "linecolor": "white",
            "ticks": ""
           },
           "bgcolor": "#E5ECF6",
           "radialaxis": {
            "gridcolor": "white",
            "linecolor": "white",
            "ticks": ""
           }
          },
          "scene": {
           "xaxis": {
            "backgroundcolor": "#E5ECF6",
            "gridcolor": "white",
            "gridwidth": 2,
            "linecolor": "white",
            "showbackground": true,
            "ticks": "",
            "zerolinecolor": "white"
           },
           "yaxis": {
            "backgroundcolor": "#E5ECF6",
            "gridcolor": "white",
            "gridwidth": 2,
            "linecolor": "white",
            "showbackground": true,
            "ticks": "",
            "zerolinecolor": "white"
           },
           "zaxis": {
            "backgroundcolor": "#E5ECF6",
            "gridcolor": "white",
            "gridwidth": 2,
            "linecolor": "white",
            "showbackground": true,
            "ticks": "",
            "zerolinecolor": "white"
           }
          },
          "shapedefaults": {
           "line": {
            "color": "#2a3f5f"
           }
          },
          "ternary": {
           "aaxis": {
            "gridcolor": "white",
            "linecolor": "white",
            "ticks": ""
           },
           "baxis": {
            "gridcolor": "white",
            "linecolor": "white",
            "ticks": ""
           },
           "bgcolor": "#E5ECF6",
           "caxis": {
            "gridcolor": "white",
            "linecolor": "white",
            "ticks": ""
           }
          },
          "title": {
           "x": 0.05
          },
          "xaxis": {
           "automargin": true,
           "gridcolor": "white",
           "linecolor": "white",
           "ticks": "",
           "title": {
            "standoff": 15
           },
           "zerolinecolor": "white",
           "zerolinewidth": 2
          },
          "yaxis": {
           "automargin": true,
           "gridcolor": "white",
           "linecolor": "white",
           "ticks": "",
           "title": {
            "standoff": 15
           },
           "zerolinecolor": "white",
           "zerolinewidth": 2
          }
         }
        },
        "title": {
         "font": {
          "size": 24
         },
         "text": "Box Plot of Ladder Score 2021 (All Countries)"
        },
        "width": 800,
        "xaxis": {
         "anchor": "y",
         "domain": [
          0,
          1
         ],
         "title": {
          "text": "Happiness Score"
         }
        },
        "yaxis": {
         "anchor": "x",
         "domain": [
          0,
          1
         ]
        }
       }
      },
      "text/html": [
       "<div>                            <div id=\"29459230-e4fa-428c-8834-19af49af2bd1\" class=\"plotly-graph-div\" style=\"height:300px; width:800px;\"></div>            <script type=\"text/javascript\">                require([\"plotly\"], function(Plotly) {                    window.PLOTLYENV=window.PLOTLYENV || {};                                    if (document.getElementById(\"29459230-e4fa-428c-8834-19af49af2bd1\")) {                    Plotly.newPlot(                        \"29459230-e4fa-428c-8834-19af49af2bd1\",                        [{\"alignmentgroup\": \"True\", \"hovertemplate\": \"Happiness Score=%{x}<extra></extra>\", \"legendgroup\": \"\", \"marker\": {\"color\": \"#636efa\"}, \"name\": \"\", \"notched\": false, \"offsetgroup\": \"\", \"orientation\": \"h\", \"showlegend\": false, \"type\": \"box\", \"x\": [7.8420000000000005, 7.62, 7.571000000000001, 7.553999999999999, 7.4639999999999995, 7.392, 7.3629999999999995, 7.324, 7.277, 7.268, 7.183, 7.157, 7.155, 7.103, 7.085, 7.069, 7.064, 6.965, 6.9510000000000005, 6.834, 6.69, 6.647, 6.602, 6.584, 6.561, 6.494, 6.4910000000000005, 6.483, 6.461, 6.435, 6.431, 6.377000000000001, 6.372000000000001, 6.331, 6.33, 6.317, 6.309, 6.255, 6.223, 6.189, 6.18, 6.178999999999999, 6.172000000000001, 6.166, 6.152, 6.14, 6.106, 6.077999999999999, 6.061, 6.0489999999999995, 6.032, 6.0120000000000005, 5.992000000000001, 5.985, 5.972, 5.94, 5.928999999999999, 5.928999999999999, 5.919, 5.882000000000001, 5.88, 5.845, 5.84, 5.813, 5.766, 5.763999999999999, 5.744, 5.723, 5.716, 5.6770000000000005, 5.653, 5.581, 5.545, 5.5360000000000005, 5.534, 5.477, 5.477, 5.466, 5.4110000000000005, 5.41, 5.3839999999999995, 5.345, 5.3420000000000005, 5.3389999999999995, 5.306, 5.2829999999999995, 5.269, 5.266, 5.1979999999999995, 5.171, 5.142, 5.132000000000001, 5.117, 5.101, 5.088, 5.074, 5.066, 5.051, 5.045, 5.03, 5.025, 4.984, 4.956, 4.948, 4.934, 4.918, 4.8919999999999995, 4.891, 4.887, 4.875, 4.854, 4.852, 4.834, 4.83, 4.794, 4.7589999999999995, 4.723, 4.721, 4.636, 4.625, 4.607, 4.596, 4.584, 4.574, 4.5169999999999995, 4.426, 4.395, 4.355, 4.325, 4.308, 4.289, 4.283, 4.275, 4.227, 4.208, 4.107, 4.073, 3.8489999999999998, 3.819, 3.775, 3.658, 3.623, 3.615, 3.6, 3.512, 3.467, 3.415, 3.145, 2.523], \"x0\": \" \", \"xaxis\": \"x\", \"y0\": \" \", \"yaxis\": \"y\"}],                        {\"boxmode\": \"group\", \"height\": 300, \"legend\": {\"tracegroupgap\": 0}, \"margin\": {\"t\": 60}, \"template\": {\"data\": {\"bar\": [{\"error_x\": {\"color\": \"#2a3f5f\"}, \"error_y\": {\"color\": \"#2a3f5f\"}, \"marker\": {\"line\": {\"color\": \"#E5ECF6\", \"width\": 0.5}}, \"type\": \"bar\"}], \"barpolar\": [{\"marker\": {\"line\": {\"color\": \"#E5ECF6\", \"width\": 0.5}}, \"type\": \"barpolar\"}], \"carpet\": [{\"aaxis\": {\"endlinecolor\": \"#2a3f5f\", \"gridcolor\": \"white\", \"linecolor\": \"white\", \"minorgridcolor\": \"white\", \"startlinecolor\": \"#2a3f5f\"}, \"baxis\": {\"endlinecolor\": \"#2a3f5f\", \"gridcolor\": \"white\", \"linecolor\": \"white\", \"minorgridcolor\": \"white\", \"startlinecolor\": \"#2a3f5f\"}, \"type\": \"carpet\"}], \"choropleth\": [{\"colorbar\": {\"outlinewidth\": 0, \"ticks\": \"\"}, \"type\": \"choropleth\"}], \"contour\": [{\"colorbar\": {\"outlinewidth\": 0, \"ticks\": \"\"}, \"colorscale\": [[0.0, \"#0d0887\"], [0.1111111111111111, \"#46039f\"], [0.2222222222222222, \"#7201a8\"], [0.3333333333333333, \"#9c179e\"], [0.4444444444444444, \"#bd3786\"], [0.5555555555555556, \"#d8576b\"], [0.6666666666666666, \"#ed7953\"], [0.7777777777777778, \"#fb9f3a\"], [0.8888888888888888, \"#fdca26\"], [1.0, \"#f0f921\"]], \"type\": \"contour\"}], \"contourcarpet\": [{\"colorbar\": {\"outlinewidth\": 0, \"ticks\": \"\"}, \"type\": \"contourcarpet\"}], \"heatmap\": [{\"colorbar\": {\"outlinewidth\": 0, \"ticks\": \"\"}, \"colorscale\": [[0.0, \"#0d0887\"], [0.1111111111111111, \"#46039f\"], [0.2222222222222222, \"#7201a8\"], [0.3333333333333333, \"#9c179e\"], [0.4444444444444444, \"#bd3786\"], [0.5555555555555556, \"#d8576b\"], [0.6666666666666666, \"#ed7953\"], [0.7777777777777778, \"#fb9f3a\"], [0.8888888888888888, \"#fdca26\"], [1.0, \"#f0f921\"]], \"type\": \"heatmap\"}], \"heatmapgl\": [{\"colorbar\": {\"outlinewidth\": 0, \"ticks\": \"\"}, \"colorscale\": [[0.0, \"#0d0887\"], [0.1111111111111111, \"#46039f\"], [0.2222222222222222, \"#7201a8\"], [0.3333333333333333, \"#9c179e\"], [0.4444444444444444, \"#bd3786\"], [0.5555555555555556, \"#d8576b\"], [0.6666666666666666, \"#ed7953\"], [0.7777777777777778, \"#fb9f3a\"], [0.8888888888888888, \"#fdca26\"], [1.0, \"#f0f921\"]], \"type\": \"heatmapgl\"}], \"histogram\": [{\"marker\": {\"colorbar\": {\"outlinewidth\": 0, \"ticks\": \"\"}}, \"type\": \"histogram\"}], \"histogram2d\": [{\"colorbar\": {\"outlinewidth\": 0, \"ticks\": \"\"}, \"colorscale\": [[0.0, \"#0d0887\"], [0.1111111111111111, \"#46039f\"], [0.2222222222222222, \"#7201a8\"], [0.3333333333333333, \"#9c179e\"], [0.4444444444444444, \"#bd3786\"], [0.5555555555555556, \"#d8576b\"], [0.6666666666666666, \"#ed7953\"], [0.7777777777777778, \"#fb9f3a\"], [0.8888888888888888, \"#fdca26\"], [1.0, \"#f0f921\"]], \"type\": \"histogram2d\"}], \"histogram2dcontour\": [{\"colorbar\": {\"outlinewidth\": 0, \"ticks\": \"\"}, \"colorscale\": [[0.0, \"#0d0887\"], [0.1111111111111111, \"#46039f\"], [0.2222222222222222, \"#7201a8\"], [0.3333333333333333, \"#9c179e\"], [0.4444444444444444, \"#bd3786\"], [0.5555555555555556, \"#d8576b\"], [0.6666666666666666, \"#ed7953\"], [0.7777777777777778, \"#fb9f3a\"], [0.8888888888888888, \"#fdca26\"], [1.0, \"#f0f921\"]], \"type\": \"histogram2dcontour\"}], \"mesh3d\": [{\"colorbar\": {\"outlinewidth\": 0, \"ticks\": \"\"}, \"type\": \"mesh3d\"}], \"parcoords\": [{\"line\": {\"colorbar\": {\"outlinewidth\": 0, \"ticks\": \"\"}}, \"type\": \"parcoords\"}], \"pie\": [{\"automargin\": true, \"type\": \"pie\"}], \"scatter\": [{\"marker\": {\"colorbar\": {\"outlinewidth\": 0, \"ticks\": \"\"}}, \"type\": \"scatter\"}], \"scatter3d\": [{\"line\": {\"colorbar\": {\"outlinewidth\": 0, \"ticks\": \"\"}}, \"marker\": {\"colorbar\": {\"outlinewidth\": 0, \"ticks\": \"\"}}, \"type\": \"scatter3d\"}], \"scattercarpet\": [{\"marker\": {\"colorbar\": {\"outlinewidth\": 0, \"ticks\": \"\"}}, \"type\": \"scattercarpet\"}], \"scattergeo\": [{\"marker\": {\"colorbar\": {\"outlinewidth\": 0, \"ticks\": \"\"}}, \"type\": \"scattergeo\"}], \"scattergl\": [{\"marker\": {\"colorbar\": {\"outlinewidth\": 0, \"ticks\": \"\"}}, \"type\": \"scattergl\"}], \"scattermapbox\": [{\"marker\": {\"colorbar\": {\"outlinewidth\": 0, \"ticks\": \"\"}}, \"type\": \"scattermapbox\"}], \"scatterpolar\": [{\"marker\": {\"colorbar\": {\"outlinewidth\": 0, \"ticks\": \"\"}}, \"type\": \"scatterpolar\"}], \"scatterpolargl\": [{\"marker\": {\"colorbar\": {\"outlinewidth\": 0, \"ticks\": \"\"}}, \"type\": \"scatterpolargl\"}], \"scatterternary\": [{\"marker\": {\"colorbar\": {\"outlinewidth\": 0, \"ticks\": \"\"}}, \"type\": \"scatterternary\"}], \"surface\": [{\"colorbar\": {\"outlinewidth\": 0, \"ticks\": \"\"}, \"colorscale\": [[0.0, \"#0d0887\"], [0.1111111111111111, \"#46039f\"], [0.2222222222222222, \"#7201a8\"], [0.3333333333333333, \"#9c179e\"], [0.4444444444444444, \"#bd3786\"], [0.5555555555555556, \"#d8576b\"], [0.6666666666666666, \"#ed7953\"], [0.7777777777777778, \"#fb9f3a\"], [0.8888888888888888, \"#fdca26\"], [1.0, \"#f0f921\"]], \"type\": \"surface\"}], \"table\": [{\"cells\": {\"fill\": {\"color\": \"#EBF0F8\"}, \"line\": {\"color\": \"white\"}}, \"header\": {\"fill\": {\"color\": \"#C8D4E3\"}, \"line\": {\"color\": \"white\"}}, \"type\": \"table\"}]}, \"layout\": {\"annotationdefaults\": {\"arrowcolor\": \"#2a3f5f\", \"arrowhead\": 0, \"arrowwidth\": 1}, \"autotypenumbers\": \"strict\", \"coloraxis\": {\"colorbar\": {\"outlinewidth\": 0, \"ticks\": \"\"}}, \"colorscale\": {\"diverging\": [[0, \"#8e0152\"], [0.1, \"#c51b7d\"], [0.2, \"#de77ae\"], [0.3, \"#f1b6da\"], [0.4, \"#fde0ef\"], [0.5, \"#f7f7f7\"], [0.6, \"#e6f5d0\"], [0.7, \"#b8e186\"], [0.8, \"#7fbc41\"], [0.9, \"#4d9221\"], [1, \"#276419\"]], \"sequential\": [[0.0, \"#0d0887\"], [0.1111111111111111, \"#46039f\"], [0.2222222222222222, \"#7201a8\"], [0.3333333333333333, \"#9c179e\"], [0.4444444444444444, \"#bd3786\"], [0.5555555555555556, \"#d8576b\"], [0.6666666666666666, \"#ed7953\"], [0.7777777777777778, \"#fb9f3a\"], [0.8888888888888888, \"#fdca26\"], [1.0, \"#f0f921\"]], \"sequentialminus\": [[0.0, \"#0d0887\"], [0.1111111111111111, \"#46039f\"], [0.2222222222222222, \"#7201a8\"], [0.3333333333333333, \"#9c179e\"], [0.4444444444444444, \"#bd3786\"], [0.5555555555555556, \"#d8576b\"], [0.6666666666666666, \"#ed7953\"], [0.7777777777777778, \"#fb9f3a\"], [0.8888888888888888, \"#fdca26\"], [1.0, \"#f0f921\"]]}, \"colorway\": [\"#636efa\", \"#EF553B\", \"#00cc96\", \"#ab63fa\", \"#FFA15A\", \"#19d3f3\", \"#FF6692\", \"#B6E880\", \"#FF97FF\", \"#FECB52\"], \"font\": {\"color\": \"#2a3f5f\"}, \"geo\": {\"bgcolor\": \"white\", \"lakecolor\": \"white\", \"landcolor\": \"#E5ECF6\", \"showlakes\": true, \"showland\": true, \"subunitcolor\": \"white\"}, \"hoverlabel\": {\"align\": \"left\"}, \"hovermode\": \"closest\", \"mapbox\": {\"style\": \"light\"}, \"paper_bgcolor\": \"white\", \"plot_bgcolor\": \"#E5ECF6\", \"polar\": {\"angularaxis\": {\"gridcolor\": \"white\", \"linecolor\": \"white\", \"ticks\": \"\"}, \"bgcolor\": \"#E5ECF6\", \"radialaxis\": {\"gridcolor\": \"white\", \"linecolor\": \"white\", \"ticks\": \"\"}}, \"scene\": {\"xaxis\": {\"backgroundcolor\": \"#E5ECF6\", \"gridcolor\": \"white\", \"gridwidth\": 2, \"linecolor\": \"white\", \"showbackground\": true, \"ticks\": \"\", \"zerolinecolor\": \"white\"}, \"yaxis\": {\"backgroundcolor\": \"#E5ECF6\", \"gridcolor\": \"white\", \"gridwidth\": 2, \"linecolor\": \"white\", \"showbackground\": true, \"ticks\": \"\", \"zerolinecolor\": \"white\"}, \"zaxis\": {\"backgroundcolor\": \"#E5ECF6\", \"gridcolor\": \"white\", \"gridwidth\": 2, \"linecolor\": \"white\", \"showbackground\": true, \"ticks\": \"\", \"zerolinecolor\": \"white\"}}, \"shapedefaults\": {\"line\": {\"color\": \"#2a3f5f\"}}, \"ternary\": {\"aaxis\": {\"gridcolor\": \"white\", \"linecolor\": \"white\", \"ticks\": \"\"}, \"baxis\": {\"gridcolor\": \"white\", \"linecolor\": \"white\", \"ticks\": \"\"}, \"bgcolor\": \"#E5ECF6\", \"caxis\": {\"gridcolor\": \"white\", \"linecolor\": \"white\", \"ticks\": \"\"}}, \"title\": {\"x\": 0.05}, \"xaxis\": {\"automargin\": true, \"gridcolor\": \"white\", \"linecolor\": \"white\", \"ticks\": \"\", \"title\": {\"standoff\": 15}, \"zerolinecolor\": \"white\", \"zerolinewidth\": 2}, \"yaxis\": {\"automargin\": true, \"gridcolor\": \"white\", \"linecolor\": \"white\", \"ticks\": \"\", \"title\": {\"standoff\": 15}, \"zerolinecolor\": \"white\", \"zerolinewidth\": 2}}}, \"title\": {\"font\": {\"size\": 24}, \"text\": \"Box Plot of Ladder Score 2021 (All Countries)\"}, \"width\": 800, \"xaxis\": {\"anchor\": \"y\", \"domain\": [0.0, 1.0], \"title\": {\"text\": \"Happiness Score\"}}, \"yaxis\": {\"anchor\": \"x\", \"domain\": [0.0, 1.0]}},                        {\"responsive\": true}                    ).then(function(){\n",
       "                            \n",
       "var gd = document.getElementById('29459230-e4fa-428c-8834-19af49af2bd1');\n",
       "var x = new MutationObserver(function (mutations, observer) {{\n",
       "        var display = window.getComputedStyle(gd).display;\n",
       "        if (!display || display === 'none') {{\n",
       "            console.log([gd, 'removed!']);\n",
       "            Plotly.purge(gd);\n",
       "            observer.disconnect();\n",
       "        }}\n",
       "}});\n",
       "\n",
       "// Listen for the removal of the full notebook cells\n",
       "var notebookContainer = gd.closest('#notebook-container');\n",
       "if (notebookContainer) {{\n",
       "    x.observe(notebookContainer, {childList: true});\n",
       "}}\n",
       "\n",
       "// Listen for the clearing of the current output cell\n",
       "var outputEl = gd.closest('.output');\n",
       "if (outputEl) {{\n",
       "    x.observe(outputEl, {childList: true});\n",
       "}}\n",
       "\n",
       "                        })                };                });            </script>        </div>"
      ]
     },
     "metadata": {},
     "output_type": "display_data"
    },
    {
     "name": "stdout",
     "output_type": "stream",
     "text": [
      "World Mean = 5.53 . World Median = 5.534\n",
      "East Asian Mean = 5.81 . East Asian Median = 5.761\n",
      "Hong Kong Mean = 5.48 , which falls into the lower quartile in both of the box plots above\n"
     ]
    }
   ],
   "source": [
    "fig = px.box(data_frame=df_east_asia,\n",
    "            x='Ladder score',orientation='h',width=800,height=300,\n",
    "            labels={'Ladder score': 'Happiness Score'})\n",
    "fig2 = px.box(data_frame=df_data_21,\n",
    "            x='Ladder score',orientation='h',width=800,height=300,\n",
    "            labels={'Ladder score': 'Happiness Score'})\n",
    "\n",
    "fig.update_layout(\n",
    "    title_text='Box Plot of Ladder Score 2021 (East Asian Countries)',\n",
    "    title_font_size=24)\n",
    "fig2.update_layout(\n",
    "    title_text='Box Plot of Ladder Score 2021 (All Countries)',\n",
    "    title_font_size=24)\n",
    "\n",
    "fig.show()\n",
    "fig2.show()\n",
    "\n",
    "\n",
    "print('World Mean =',data_21_mean_score, '. World Median =',data_21_median)\n",
    "print('East Asian Mean =',east_asia_mean_score, '. East Asian Median =',e_a_median)\n",
    "print('Hong Kong Mean =',HK_mean,', which falls into the lower quartile in both of the box plots above')"
   ]
  },
  {
   "cell_type": "code",
   "execution_count": 26,
   "metadata": {},
   "outputs": [],
   "source": [
    "colors_blue = [\"#132C33\", \"#264D58\", '#17869E', '#51C4D3', '#B4DBE9']\n",
    "colors_dark = [\"#1F1F1F\", \"#313131\", '#636363', '#AEAEAE', '#DADADA']\n",
    "colors_red = [\"#331313\", \"#582626\", '#9E1717', '#D35151', '#E9B4B4']\n",
    "colors_mix = [\"#17869E\", '#264D58', '#179E66', '#D35151', '#E9DAB4', '#E9B4B4', '#D3B651', '#6351D3']\n",
    "colors_div = [\"#132C33\", '#17869E', '#DADADA', '#D35151', '#331313']\n",
    "\n",
    "def NonLinCdict(steps, hexcol_array):\n",
    "    cdict = {'red': (), 'green': (), 'blue': ()}\n",
    "    for s, hexcol in zip(steps, hexcol_array):\n",
    "        rgb =mpl.colors.hex2color(hexcol)\n",
    "        cdict['red'] = cdict['red'] + ((s, rgb[0], rgb[0]),)\n",
    "        cdict['green'] = cdict['green'] + ((s, rgb[1], rgb[1]),)\n",
    "        cdict['blue'] = cdict['blue'] + ((s, rgb[2], rgb[2]),)\n",
    "    return cdict\n",
    "\n",
    "th = [0, 0.2, 0.5, 0.8, 1]\n",
    "cdict = NonLinCdict(th, colors_blue )\n",
    "cdiv = NonLinCdict(th, colors_div)\n",
    "\n",
    "cm = LinearSegmentedColormap('blue', cdict)\n",
    "cm_div = LinearSegmentedColormap('div',cdiv)\n",
    "\n",
    "mpl.rcParams['axes.spines.right'] = False\n",
    "mpl.rcParams['axes.spines.top'] = False\n",
    "mpl.rcParams['axes.spines.left'] = False\n",
    "mpl.rcParams['axes.titlecolor'] = colors_dark[0]\n",
    "mpl.rcParams['axes.labelcolor'] = colors_dark[0]\n",
    "\n",
    "# tick\n",
    "mpl.rcParams['xtick.color'] = colors_dark[0]\n",
    "mpl.rcParams['ytick.color'] = colors_dark[0]\n",
    "mpl.rcParams['xtick.labelsize'] = 12\n",
    "mpl.rcParams['ytick.labelsize'] = 12\n",
    "\n",
    "\n",
    "# legend \n",
    "mpl.rcParams['legend.edgecolor'] = \"#1F1F1F\""
   ]
  },
  {
   "cell_type": "code",
   "execution_count": 104,
   "metadata": {},
   "outputs": [
    {
     "data": {
      "image/png": "[encoded data removed]",
      "text/plain": [
       "<Figure size 1008x576 with 1 Axes>"
      ]
     },
     "metadata": {
      "needs_background": "light"
     },
     "output_type": "display_data"
    }
   ],
   "source": [
    "# Pick the index we need for East Asia countries -- +1 because original index starts from 0\n",
    "east_asia_idx = list(df_east_asia.index + 1)\n",
    " \n",
    "# Graph setup -- mathplotlib\n",
    "fig, ax = plt.subplots(figsize=(14, 8)) # Create a frame of the graphs\n",
    "\n",
    "ax.grid(axis='y', alpha=0.3) # Create grid \n",
    "ax.set_axisbelow(True)\n",
    "\n",
    "ax.set_xlabel(\"Countries\", fontsize=14, labelpad=10, fontweight='bold')\n",
    "ax.set_ylabel(\"Ladder Score\", fontsize=14, labelpad=10, fontweight='bold')\n",
    "\n",
    "xmin, xmax = ax.get_xlim()\n",
    "ymin, ymax = ax.get_ylim()\n",
    "\n",
    "\n",
    "# Line for Global Mean \n",
    "data_21_mean_line = ax.text(\n",
    "                                s=\"Global Mean: {:.2f}\".format(data_21_mean_score),\n",
    "                                x=xmax*1.02,\n",
    "                                y=data_21_mean_score,\n",
    "                                backgroundcolor= '#1F1F1F',\n",
    "                                fontsize=12,\n",
    "                                fontweight='bold',\n",
    "                                color='white'\n",
    ")\n",
    "\n",
    "# Line for Mean - East Asian Countries \n",
    "east_asian_mean_line = ax.text(\n",
    "                                s=\"East Asia Mean: {:.2f}\".format(east_asia_mean_score),\n",
    "                                x=xmax*1.02,\n",
    "                                y=east_asia_mean_score,\n",
    "                                backgroundcolor= '#1F1F1F',\n",
    "                                fontsize=12,\n",
    "                                fontweight='bold',\n",
    "                                color='white'\n",
    ")\n",
    "\n",
    "# East Asian Countries Ladder Score Bar\n",
    "bars1 = ax.bar(df_east_asia['Country name'], df_east_asia['Ladder score'], alpha=0.4)\n",
    "\n",
    "line1  = ax.axhline(data_21_mean_score, linestyle='--', color=\"#1F1F1F\")\n",
    "line2  = ax.axhline(east_asia_mean_score, linestyle='--', color=\"#1F1F1F\")\n",
    "\n",
    "# HK Bar\n",
    "bars1[4].set_alpha(1)\n",
    "bars1[4].set_color('#9E1717')\n",
    "bars1[4].set_edgecolor('#636363')\n",
    "\n",
    "for i, bar in enumerate(bars1) : \n",
    "    x=bar.get_x()\n",
    "    y=bar.get_height()\n",
    "    # HK bar will be the one stand out \n",
    "    if i != 4 : \n",
    "        ax.text(\n",
    "            s=f\"{east_asia_idx[i]}th\",\n",
    "            va='center', ha='center', \n",
    "            x=x+0.38, y=y/2,\n",
    "            color= '#9E1717',\n",
    "            fontsize=14,\n",
    "        )\n",
    "    else : \n",
    "        ax.text(\n",
    "        s=f\"{east_asia_idx[i]}th\",\n",
    "        va='center', ha='center', \n",
    "        x=x+0.38, y=y/2,\n",
    "        color='white',\n",
    "        fontsize=14,\n",
    "        fontweight='bold'\n",
    "    )\n",
    "    \n",
    "plt.text(s=\"Hong Kong VS East Asian Countries (Ladder Score)\", ha='right', x='Center', y=ymax*7, fontsize=24, fontweight='bold')\n",
    "#plt.tight_layout()\n",
    "plt.show()\n",
    "\n"
   ]
  },
  {
   "cell_type": "markdown",
   "metadata": {},
   "source": [
    "## Log GDP per cap"
   ]
  },
  {
   "cell_type": "code",
   "execution_count": 108,
   "metadata": {},
   "outputs": [],
   "source": [
    "## Set Data Frame for Log GDP\n",
    "# GDP rank from high to low\n",
    "df_GDP = df_data_21.sort_values('Logged GDP per capita', ascending=False).reset_index(drop = True) # world GDP\n",
    "df_e_a_GDP = df_GDP[df_GDP['Country name'].isin(east_asia)] # East Asia GDP\n",
    "\n",
    "# Rank GDP\n",
    "df_GDP_top = df_GDP.iloc[0:1] # World Rank 1 -- Luxembourg: 11.647\n",
    "df_GDP_bottom = df_GDP.iloc[-1] # World Last --  Sub-Saharan Africa: 6.635\n",
    "\n",
    "df_e_a_GDP_top = df_e_a_GDP.iloc[0:1] # World Rank 1 -- Hong Kong S.A.R. of China: 11.0\n",
    "df_e_a_GDP_bottom = df_e_a_GDP.iloc[-1] # World Last -- Mongolia: 9.4\n",
    "\n",
    "# Means \n",
    "data_21_mean_score = float(round(df_GDP['Logged GDP per capita'].mean(),2))\n",
    "east_asia_mean_score = float(round(df_e_a_GDP['Logged GDP per capita'].mean(),2))"
   ]
  },
  {
   "cell_type": "code",
   "execution_count": 119,
   "metadata": {},
   "outputs": [
    {
     "data": {
      "image/png": "[encoded data removed]",
      "text/plain": [
       "<Figure size 1008x576 with 1 Axes>"
      ]
     },
     "metadata": {
      "needs_background": "light"
     },
     "output_type": "display_data"
    }
   ],
   "source": [
    "## Visualization \n",
    "\n",
    "# Pick the index we need for East Asia countries -- +1 because original index starts from 0\n",
    "east_asia_idx = list(df_e_a_GDP.index + 1)\n",
    " \n",
    "# Graph setup -- mathplotlib\n",
    "fig, ax = plt.subplots(figsize=(14, 8)) # Create a frame of the graphs\n",
    "\n",
    "ax.grid(axis='y', alpha=0.3) # Create grid \n",
    "ax.set_axisbelow(True)\n",
    "\n",
    "ax.set_xlabel(\"Countries\", fontsize=14, labelpad=10, fontweight='bold')\n",
    "ax.set_ylabel(\"Logged GDP per capita\", fontsize=14, labelpad=10, fontweight='bold')\n",
    "\n",
    "xmin, xmax = ax.get_xlim()\n",
    "ymin, ymax = ax.get_ylim()\n",
    "\n",
    "\n",
    "# Line for Global Mean \n",
    "data_21_mean_line = ax.text(\n",
    "                                s=\"Global Mean: {:.2f}\".format(data_21_mean_score),\n",
    "                                x=xmax*1.02,\n",
    "                                y=data_21_mean_score,\n",
    "                                backgroundcolor= '#1F1F1F',\n",
    "                                fontsize=12,\n",
    "                                fontweight='bold',\n",
    "                                color='white'\n",
    ")\n",
    "\n",
    "# Line for Mean - East Asian Countries \n",
    "east_asian_mean_line = ax.text(\n",
    "                                s=\"East Asia Mean: {:.2f}\".format(east_asia_mean_score),\n",
    "                                x=xmax*1.02,\n",
    "                                y=east_asia_mean_score,\n",
    "                                backgroundcolor= '#1F1F1F',\n",
    "                                fontsize=12,\n",
    "                                fontweight='bold',\n",
    "                                color='white'\n",
    ")\n",
    "\n",
    "# East Asian Countries Ladder Score Bar\n",
    "bars1 = ax.bar(df_e_a_GDP['Country name'], df_e_a_GDP['Logged GDP per capita'], alpha=0.4)\n",
    "\n",
    "line1  = ax.axhline(data_21_mean_score, linestyle='--', color=\"#1F1F1F\")\n",
    "line2  = ax.axhline(east_asia_mean_score, linestyle='--', color=\"#1F1F1F\")\n",
    "\n",
    "# HK Bar\n",
    "bars1[0].set_alpha(1)\n",
    "bars1[0].set_color('#9E1717')\n",
    "bars1[0].set_edgecolor('#636363')\n",
    "\n",
    "for i, bar in enumerate(bars1) : \n",
    "    x=bar.get_x()\n",
    "    y=bar.get_height()\n",
    "    # HK bar will be the one stand out \n",
    "    if i != 0 : \n",
    "        ax.text(\n",
    "            s=f\"{east_asia_idx[i]}th\",\n",
    "            va='center', ha='center', \n",
    "            x=x+0.38, y=y/2,\n",
    "            color= '#9E1717',\n",
    "            fontsize=14,\n",
    "        )\n",
    "    else : \n",
    "        ax.text(\n",
    "        s=f\"{east_asia_idx[i]}th\",\n",
    "        va='center', ha='center', \n",
    "        x=x+0.38, y=y/2,\n",
    "        color='white',\n",
    "        fontsize=14,\n",
    "        fontweight='bold'\n",
    "    )\n",
    "    \n",
    "plt.text(s=\"Hong Kong VS East Asian Countries (Logged GDP per capita)\", ha='right', x='Center', y=ymax*12, fontsize=24, fontweight='bold')\n",
    "#plt.tight_layout()\n",
    "plt.show()\n"
   ]
  },
  {
   "cell_type": "markdown",
   "metadata": {},
   "source": [
    "## Social Support Ranks \n",
    "1 is highest and 0 is lowest score"
   ]
  },
  {
   "cell_type": "code",
   "execution_count": 135,
   "metadata": {},
   "outputs": [],
   "source": [
    "## Set Data Frame for Social Support (SS)\n",
    "# SS rank from high to low\n",
    "df_SS = df_data_21.sort_values('Social support', ascending= False).reset_index(drop = True) # world SS\n",
    "df_e_a_SS = df_SS[df_SS['Country name'].isin(east_asia)] # East Asia SS\n",
    "\n",
    "# Rank SS\n",
    "df_SS_top = df_SS.iloc[0:1] # World Rank 1 -- Iceland: 0.983\n",
    "df_SS_bottom = df_SS.iloc[-1] # World Last --  South Asia: 0.463\n",
    "\n",
    "df_e_a_SS_top = df_e_a_SS.iloc[0:1] # World Rank 1 -- Mongolia: 0.935\n",
    "df_e_a_SS_bottom = df_e_a_SS.iloc[-1] # World Last -- South Korea : 0.799\n",
    "\n",
    "# Means \n",
    "data_21_mean_score = float(round(df_SS['Social support'].mean(),2))\n",
    "east_asia_mean_score = float(round(df_e_a_SS['Social support'].mean(),2))\n"
   ]
  },
  {
   "cell_type": "code",
   "execution_count": 149,
   "metadata": {},
   "outputs": [
    {
     "data": {
      "image/png": "[encoded data removed]",
      "text/plain": [
       "<Figure size 1008x576 with 1 Axes>"
      ]
     },
     "metadata": {
      "needs_background": "light"
     },
     "output_type": "display_data"
    }
   ],
   "source": [
    "## Visualization \n",
    "\n",
    "# Pick the index we need for East Asia countries -- +1 because original index starts from 0\n",
    "east_asia_idx = list(df_e_a_SS.index + 1)\n",
    " \n",
    "# Graph setup -- mathplotlib\n",
    "fig, ax = plt.subplots(figsize=(14, 8)) # Create a frame of the graphs\n",
    "\n",
    "ax.grid(axis='y', alpha=0.3) # Create grid \n",
    "ax.set_axisbelow(True)\n",
    "\n",
    "ax.set_xlabel(\"Countries\", fontsize=14, labelpad=10, fontweight='bold')\n",
    "ax.set_ylabel(\"Social support\", fontsize=14, labelpad=10, fontweight='bold')\n",
    "\n",
    "xmin, xmax = ax.get_xlim()\n",
    "ymin, ymax = ax.get_ylim()\n",
    "\n",
    "\n",
    "# Line for Global Mean \n",
    "data_21_mean_line = ax.text(\n",
    "                                s=\"Global Mean: {:.2f}\".format(data_21_mean_score),\n",
    "                                x=xmax*1.02,\n",
    "                                y=data_21_mean_score,\n",
    "                                backgroundcolor= '#1F1F1F',\n",
    "                                fontsize=12,\n",
    "                                fontweight='bold',\n",
    "                                color='white'\n",
    ")\n",
    "\n",
    "# Line for Mean - East Asian Countries \n",
    "east_asian_mean_line = ax.text(\n",
    "                                s=\"East Asia Mean: {:.2f}\".format(east_asia_mean_score),\n",
    "                                x=xmax*1.02,\n",
    "                                y=east_asia_mean_score,\n",
    "                                backgroundcolor= '#1F1F1F',\n",
    "                                fontsize=12,\n",
    "                                fontweight='bold',\n",
    "                                color='white'\n",
    ")\n",
    "\n",
    "# East Asian Countries Ladder Score Bar\n",
    "bars1 = ax.bar(df_e_a_SS['Country name'], df_e_a_SS['Social support'], alpha=0.4)\n",
    "\n",
    "line1  = ax.axhline(data_21_mean_score, linestyle='--', color=\"#1F1F1F\")\n",
    "line2  = ax.axhline(east_asia_mean_score, linestyle='--', color=\"#1F1F1F\")\n",
    "\n",
    "# HK Bar\n",
    "bars1[3].set_alpha(1)\n",
    "bars1[3].set_color('#9E1717')\n",
    "bars1[3].set_edgecolor('#636363')\n",
    "\n",
    "for i, bar in enumerate(bars1) : \n",
    "    x=bar.get_x()\n",
    "    y=bar.get_height()\n",
    "    # HK bar will be the one stand out \n",
    "    if i != 3 : \n",
    "        ax.text(\n",
    "            s=f\"{east_asia_idx[i]}th\",\n",
    "            va='center', ha='center', \n",
    "            x=x+0.38, y=y/2,\n",
    "            color= '#9E1717',\n",
    "            fontsize=14,\n",
    "        )\n",
    "    else : \n",
    "        ax.text(\n",
    "        s=f\"{east_asia_idx[i]}th\",\n",
    "        va='center', ha='center', \n",
    "        x=x+0.38, y=y/2,\n",
    "        color='white',\n",
    "        fontsize=14,\n",
    "        fontweight='bold'\n",
    "    )\n",
    "    \n",
    "plt.text(s=\"Hong Kong VS East Asian Countries (Social support)\", ha='right', x='Center', y=ymax*1, fontsize=24, fontweight='bold')\n",
    "plt.show()"
   ]
  },
  {
   "cell_type": "markdown",
   "metadata": {},
   "source": [
    "## Healthy Life Expectancy at Birth Rank"
   ]
  },
  {
   "cell_type": "code",
   "execution_count": 144,
   "metadata": {},
   "outputs": [],
   "source": [
    "## Set Data Frame for Healthy life expectancy (health)\n",
    "# health rank from high to low\n",
    "df_health = df_data_21.sort_values('Healthy life expectancy', ascending= False).reset_index(drop = True) # world health\n",
    "df_e_a_health = df_health[df_health['Country name'].isin(east_asia)] # East Asia health\n",
    "\n",
    "# Rank health\n",
    "df_health_top = df_health.iloc[0:1] # World Rank 1 \n",
    "df_health_bottom = df_health.iloc[-1] # World Last \n",
    "\n",
    "df_e_a_health_top = df_e_a_health.iloc[0:1] # World Rank 1 \n",
    "df_e_a_health_bottom = df_e_a_health.iloc[-1] # World Last \n",
    "\n",
    "# Means \n",
    "data_21_mean_score = float(round(df_health['Healthy life expectancy'].mean(),2))\n",
    "east_asia_mean_score = float(round(df_e_a_health['Healthy life expectancy'].mean(),2))"
   ]
  },
  {
   "cell_type": "code",
   "execution_count": 146,
   "metadata": {},
   "outputs": [
    {
     "data": {
      "image/png": "[encoded data removed]",
      "text/plain": [
       "<Figure size 1008x576 with 1 Axes>"
      ]
     },
     "metadata": {
      "needs_background": "light"
     },
     "output_type": "display_data"
    }
   ],
   "source": [
    "## Visualization \n",
    "\n",
    "# Pick the index we need for East Asia countries -- +1 because original index starts from 0\n",
    "east_asia_idx = list(df_e_a_health.index + 1)\n",
    " \n",
    "# Graph setup -- mathplotlib\n",
    "fig, ax = plt.subplots(figsize=(14, 8)) # Create a frame of the graphs\n",
    "\n",
    "ax.grid(axis='y', alpha=0.3) # Create grid \n",
    "ax.set_axisbelow(True)\n",
    "\n",
    "ax.set_xlabel(\"Countries\", fontsize=14, labelpad=10, fontweight='bold')\n",
    "ax.set_ylabel(\"Healthy life expectancy\", fontsize=14, labelpad=10, fontweight='bold')\n",
    "\n",
    "xmin, xmax = ax.get_xlim()\n",
    "ymin, ymax = ax.get_ylim()\n",
    "\n",
    "\n",
    "# Line for Global Mean \n",
    "data_21_mean_line = ax.text(\n",
    "                                s=\"Global Mean: {:.2f}\".format(data_21_mean_score),\n",
    "                                x=xmax*1.02,\n",
    "                                y=data_21_mean_score,\n",
    "                                backgroundcolor= '#1F1F1F',\n",
    "                                fontsize=12,\n",
    "                                fontweight='bold',\n",
    "                                color='white'\n",
    ")\n",
    "\n",
    "# Line for Mean - East Asian Countries \n",
    "east_asian_mean_line = ax.text(\n",
    "                                s=\"East Asia Mean: {:.2f}\".format(east_asia_mean_score),\n",
    "                                x=xmax*1.02,\n",
    "                                y=east_asia_mean_score,\n",
    "                                backgroundcolor= '#1F1F1F',\n",
    "                                fontsize=12,\n",
    "                                fontweight='bold',\n",
    "                                color='white'\n",
    ")\n",
    "\n",
    "# East Asian Countries Ladder Score Bar\n",
    "bars1 = ax.bar(df_e_a_health['Country name'], df_e_a_health['Healthy life expectancy'], alpha=0.4)\n",
    "\n",
    "line1  = ax.axhline(data_21_mean_score, linestyle='--', color=\"#1F1F1F\")\n",
    "line2  = ax.axhline(east_asia_mean_score, linestyle='--', color=\"#1F1F1F\")\n",
    "\n",
    "# HK Bar\n",
    "bars1[0].set_alpha(1)\n",
    "bars1[0].set_color('#9E1717')\n",
    "bars1[0].set_edgecolor('#636363')\n",
    "\n",
    "for i, bar in enumerate(bars1) : \n",
    "    x=bar.get_x()\n",
    "    y=bar.get_height()\n",
    "    # HK bar will be the one stand out \n",
    "    if i != 0 : \n",
    "        ax.text(\n",
    "            s=f\"{east_asia_idx[i]}th\",\n",
    "            va='center', ha='center', \n",
    "            x=x+0.38, y=y/2,\n",
    "            color= '#9E1717',\n",
    "            fontsize=14,\n",
    "        )\n",
    "    else : \n",
    "        ax.text(\n",
    "        s=f\"{east_asia_idx[i]}th\",\n",
    "        va='center', ha='center', \n",
    "        x=x+0.38, y=y/2,\n",
    "        color='white',\n",
    "        fontsize=14,\n",
    "        fontweight='bold'\n",
    "    )\n",
    "    \n",
    "plt.text(s=\"Hong Kong VS East Asian Countries (Healthy life expectancy)\", ha='right', x='Center', y=ymax*85, fontsize=24, fontweight='bold')\n",
    "plt.show()"
   ]
  },
  {
   "cell_type": "markdown",
   "metadata": {},
   "source": [
    "## Freedom to make life choices Rank\n",
    "Scale from 0 to 1. 1 is the highest and 0 is the lowest"
   ]
  },
  {
   "cell_type": "code",
   "execution_count": 151,
   "metadata": {},
   "outputs": [
    {
     "data": {
      "image/png": "[encoded data removed]",
      "text/plain": [
       "<Figure size 1008x576 with 1 Axes>"
      ]
     },
     "metadata": {
      "needs_background": "light"
     },
     "output_type": "display_data"
    }
   ],
   "source": [
    "## Set Data Frame for Freedom to make life choices (freedom)\n",
    "# freedom rank from high to low\n",
    "df_freedom = df_data_21.sort_values('Freedom to make life choices', ascending= False).reset_index(drop = True) # world freedom\n",
    "df_e_a_freedom = df_freedom[df_freedom['Country name'].isin(east_asia)] # East Asia freedom\n",
    "\n",
    "# Rank freedom\n",
    "df_freedom_top = df_freedom.iloc[0:1] # World Rank 1 \n",
    "df_freedom_bottom = df_freedom.iloc[-1] # World Last \n",
    "\n",
    "df_e_a_freedom_top = df_e_a_freedom.iloc[0:1] # World Rank 1 \n",
    "df_e_a_freedom_bottom = df_e_a_freedom.iloc[-1] # World Last \n",
    "\n",
    "# Means \n",
    "data_21_mean_score = float(round(df_freedom['Freedom to make life choices'].mean(),2))\n",
    "east_asia_mean_score = float(round(df_e_a_freedom['Freedom to make life choices'].mean(),2))\n",
    "\n",
    "## Visualization \n",
    "\n",
    "# Pick the index we need for East Asia countries -- +1 because original index starts from 0\n",
    "east_asia_idx = list(df_e_a_freedom.index + 1)\n",
    " \n",
    "# Graph setup -- mathplotlib\n",
    "fig, ax = plt.subplots(figsize=(14, 8)) # Create a frame of the graphs\n",
    "\n",
    "ax.grid(axis='y', alpha=0.3) # Create grid \n",
    "ax.set_axisbelow(True)\n",
    "\n",
    "ax.set_xlabel(\"Countries\", fontsize=14, labelpad=10, fontweight='bold')\n",
    "ax.set_ylabel(\"Freedom to make life choices\", fontsize=14, labelpad=10, fontweight='bold')\n",
    "\n",
    "xmin, xmax = ax.get_xlim()\n",
    "ymin, ymax = ax.get_ylim()\n",
    "\n",
    "\n",
    "# Line for Global Mean \n",
    "data_21_mean_line = ax.text(\n",
    "                                s=\"Global Mean: {:.2f}\".format(data_21_mean_score),\n",
    "                                x=xmax*1.02,\n",
    "                                y=data_21_mean_score,\n",
    "                                backgroundcolor= '#1F1F1F',\n",
    "                                fontsize=12,\n",
    "                                fontweight='bold',\n",
    "                                color='white'\n",
    ")\n",
    "\n",
    "# Line for Mean - East Asian Countries \n",
    "east_asian_mean_line = ax.text(\n",
    "                                s=\"East Asia Mean: {:.2f}\".format(east_asia_mean_score),\n",
    "                                x=xmax*1.02,\n",
    "                                y=east_asia_mean_score,\n",
    "                                backgroundcolor= '#1F1F1F',\n",
    "                                fontsize=12,\n",
    "                                fontweight='bold',\n",
    "                                color='white'\n",
    ")\n",
    "\n",
    "# East Asian Countries Ladder Score Bar\n",
    "bars1 = ax.bar(df_e_a_freedom['Country name'], df_e_a_freedom['Freedom to make life choices'], alpha=0.4)\n",
    "\n",
    "line1  = ax.axhline(data_21_mean_score, linestyle='--', color=\"#1F1F1F\")\n",
    "line2  = ax.axhline(east_asia_mean_score, linestyle='--', color=\"#1F1F1F\")\n",
    "\n",
    "# HK Bar\n",
    "bars1[3].set_alpha(1)\n",
    "bars1[3].set_color('#9E1717')\n",
    "bars1[3].set_edgecolor('#636363')\n",
    "\n",
    "for i, bar in enumerate(bars1) : \n",
    "    x=bar.get_x()\n",
    "    y=bar.get_height()\n",
    "    # HK bar will be the one stand out \n",
    "    if i != 3 : \n",
    "        ax.text(\n",
    "            s=f\"{east_asia_idx[i]}th\",\n",
    "            va='center', ha='center', \n",
    "            x=x+0.38, y=y/2,\n",
    "            color= '#9E1717',\n",
    "            fontsize=14,\n",
    "        )\n",
    "    else : \n",
    "        ax.text(\n",
    "        s=f\"{east_asia_idx[i]}th\",\n",
    "        va='center', ha='center', \n",
    "        x=x+0.38, y=y/2,\n",
    "        color='white',\n",
    "        fontsize=14,\n",
    "        fontweight='bold'\n",
    "    )\n",
    "    \n",
    "plt.text(s=\"Hong Kong VS East Asian Countries (Freedom to make life choices)\", ha='right', x='Center', y=ymax*1, fontsize=24, fontweight='bold')\n",
    "plt.show()\n",
    "\n"
   ]
  },
  {
   "cell_type": "markdown",
   "metadata": {},
   "source": [
    "## Overall Components"
   ]
  },
  {
   "cell_type": "code",
   "execution_count": 167,
   "metadata": {},
   "outputs": [
    {
     "data": {
      "image/png": "[encoded data removed]",
      "text/plain": [
       "<Figure size 1050x600 with 1 Axes>"
      ]
     },
     "metadata": {
      "needs_background": "light"
     },
     "output_type": "display_data"
    }
   ],
   "source": [
    "components = list(df_data_21.columns[-7:-1])\n",
    "df_sum = df_data_21[df_data_21['Country name'].isin(east_asia)]\n",
    "df_sum = df_sum[[\"Country name\"] + components].set_index(\"Country name\")\n",
    "\n",
    "fig, ax = plt.subplots(figsize=(14, 8), dpi=75)\n",
    "\n",
    "bars = df_sum.plot(kind='bar', stacked=True, ax=ax, color=colors_mix[0:7], alpha=0.8, edgecolor=\"#1F1F1F\", rot=0)\n",
    "\n",
    "ax.legend(loc='upper center', bbox_to_anchor=(0.5, -0.2), ncol=3, borderpad=1, frameon=False, fontsize=12)\n",
    "ax.grid(axis='y', alpha=0.3)\n",
    "ax.set_axisbelow(True)\n",
    "ax.set_xlabel(\"Countries\", fontsize=14, labelpad=10, fontweight='bold', color=\"#1F1F1F\")\n",
    "ax.set_ylabel(\"Score\", fontsize=14, labelpad=10, fontweight='bold', color=\"#1F1F1F\")\n",
    "xmin, xmax = ax.get_xlim()\n",
    "ymin, ymax = ax.get_ylim()\n",
    "\n",
    "plt.text(s=\"East Asia Score Breakdown\", ha='left', x=xmin, y=ymax*1, fontsize=24, fontweight='bold', color=\"#1F1F1F\")\n",
    "plt.show()"
   ]
  },
  {
   "cell_type": "code",
   "execution_count": 183,
   "metadata": {},
   "outputs": [
    {
     "data": {
      "image/png": "[encoded data removed]",
      "text/plain": [
       "<Figure size 1050x600 with 1 Axes>"
      ]
     },
     "metadata": {
      "needs_background": "light"
     },
     "output_type": "display_data"
    }
   ],
   "source": [
    "## Line Graph\n",
    "\n",
    "df_e_a_data_past = df_data_past[df_data_past['Country name'].isin(east_asia)].set_index('Country name')\n",
    "df_hk = df_e_a_data_past.loc['Hong Kong S.A.R. of China']\n",
    "df_e_a_data_past = df_e_a_data_past.reset_index()\n",
    "df_e_a_data_past = df_e_a_data_past[df_e_a_data_past['Country name'] != \"Hong Kong S.A.R. of China\"]\n",
    "mean_hk = df_hk['Life Ladder'].mean()\n",
    "\n",
    "fig, ax = plt.subplots(figsize=(14, 8), dpi=75)\n",
    "\n",
    "line0 = sns.lineplot(data=df_e_a_data_past , x='year', y='Life Ladder', hue='Country name', alpha=0.2, ax=ax, palette=[\"#17869E\", '#264D58', '#E9DAB4', '#E9B4B4', '#6351D3'])\n",
    "line1 = ax.plot(df_hk.year, df_hk['Life Ladder'], alpha=1, marker='o', color=colors_red[3], linewidth=3, label='Hong Kong')\n",
    "line2 = ax.axhline(mean_hk, linestyle='--', alpha=1, color=colors_dark[1])\n",
    "\n",
    "ax.legend(loc='upper center', bbox_to_anchor=(0.5, -0.2), ncol=5, borderpad=1, frameon=False, fontsize=12)\n",
    "ax.grid(axis='y', alpha=0.3)\n",
    "ax.set_axisbelow(True)\n",
    "ax.set_xlabel(\"Countries\", fontsize=14, labelpad=10, fontweight='bold', color=colors_dark[0])\n",
    "ax.set_ylabel(\"Score\", fontsize=14, labelpad=10, fontweight='bold', color=colors_dark[0])\n",
    "xmin, xmax = ax.get_xlim()\n",
    "ymin, ymax = ax.get_ylim()\n",
    "\n",
    "avgl  = ax.text(\n",
    "    s=\"Hong Kong's\\nAverage\\nScore: {:.2f}\".format(mean_hk),\n",
    "    x=xmax+0.5,\n",
    "    y=mean_hk,\n",
    "    backgroundcolor=colors_dark[2],\n",
    "    fontsize=12,\n",
    "    fontweight='bold',\n",
    "    color='white'\n",
    ")\n",
    "\n",
    "plt.text(s=\"East Asian Countries Ladder Score Since 2006\", ha='left', x=xmin, y=ymax*1.08, fontsize=24, fontweight='bold', color=colors_dark[0])\n",
    "plt.show()"
   ]
  }
 ],
 "metadata": {
  "kernelspec": {
   "display_name": "Python 3",
   "language": "python",
   "name": "python3"
  },
  "language_info": {
   "codemirror_mode": {
    "name": "ipython",
    "version": 3
   },
   "file_extension": ".py",
   "mimetype": "text/x-python",
   "name": "python",
   "nbconvert_exporter": "python",
   "pygments_lexer": "ipython3",
   "version": "3.8.5"
  }
 },
 "nbformat": 4,
 "nbformat_minor": 4
}
