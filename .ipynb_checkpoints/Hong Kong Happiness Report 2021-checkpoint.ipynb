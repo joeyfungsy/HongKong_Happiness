{
 "cells": [
  {
   "cell_type": "code",
   "execution_count": 1,
   "metadata": {},
   "outputs": [],
   "source": [
    "import pandas as pd\n",
    "import numpy as np\n",
    "import matplotlib.pyplot as plt\n",
    "import seaborn as sns\n",
    "import matplotlib as mpl\n",
    "from matplotlib.colors import LinearSegmentedColormap\n",
    "import plotly.express as px\n",
    "import plotly.graph_objects as go\n",
    "from plotly.subplots import make_subplots"
   ]
  },
  {
   "cell_type": "markdown",
   "metadata": {},
   "source": [
    "## Overlook of the Dataset"
   ]
  },
  {
   "cell_type": "code",
   "execution_count": 2,
   "metadata": {},
   "outputs": [
    {
     "data": {
      "text/html": [
       "<div>\n",
       "<style scoped>\n",
       "    .dataframe tbody tr th:only-of-type {\n",
       "        vertical-align: middle;\n",
       "    }\n",
       "\n",
       "    .dataframe tbody tr th {\n",
       "        vertical-align: top;\n",
       "    }\n",
       "\n",
       "    .dataframe thead th {\n",
       "        text-align: right;\n",
       "    }\n",
       "</style>\n",
       "<table border=\"1\" class=\"dataframe\">\n",
       "  <thead>\n",
       "    <tr style=\"text-align: right;\">\n",
       "      <th></th>\n",
       "      <th>Country name</th>\n",
       "      <th>Regional indicator</th>\n",
       "      <th>Ladder score</th>\n",
       "      <th>Standard error of ladder score</th>\n",
       "      <th>upperwhisker</th>\n",
       "      <th>lowerwhisker</th>\n",
       "      <th>Logged GDP per capita</th>\n",
       "      <th>Social support</th>\n",
       "      <th>Healthy life expectancy</th>\n",
       "      <th>Freedom to make life choices</th>\n",
       "      <th>Generosity</th>\n",
       "      <th>Perceptions of corruption</th>\n",
       "      <th>Ladder score in Dystopia</th>\n",
       "      <th>Explained by: Log GDP per capita</th>\n",
       "      <th>Explained by: Social support</th>\n",
       "      <th>Explained by: Healthy life expectancy</th>\n",
       "      <th>Explained by: Freedom to make life choices</th>\n",
       "      <th>Explained by: Generosity</th>\n",
       "      <th>Explained by: Perceptions of corruption</th>\n",
       "      <th>Dystopia + residual</th>\n",
       "    </tr>\n",
       "  </thead>\n",
       "  <tbody>\n",
       "    <tr>\n",
       "      <th>0</th>\n",
       "      <td>Finland</td>\n",
       "      <td>Western Europe</td>\n",
       "      <td>7.842</td>\n",
       "      <td>0.032</td>\n",
       "      <td>7.904</td>\n",
       "      <td>7.780</td>\n",
       "      <td>10.775</td>\n",
       "      <td>0.954</td>\n",
       "      <td>72.000</td>\n",
       "      <td>0.949</td>\n",
       "      <td>-0.098</td>\n",
       "      <td>0.186</td>\n",
       "      <td>2.43</td>\n",
       "      <td>1.446</td>\n",
       "      <td>1.106</td>\n",
       "      <td>0.741</td>\n",
       "      <td>0.691</td>\n",
       "      <td>0.124</td>\n",
       "      <td>0.481</td>\n",
       "      <td>3.253</td>\n",
       "    </tr>\n",
       "    <tr>\n",
       "      <th>1</th>\n",
       "      <td>Denmark</td>\n",
       "      <td>Western Europe</td>\n",
       "      <td>7.620</td>\n",
       "      <td>0.035</td>\n",
       "      <td>7.687</td>\n",
       "      <td>7.552</td>\n",
       "      <td>10.933</td>\n",
       "      <td>0.954</td>\n",
       "      <td>72.700</td>\n",
       "      <td>0.946</td>\n",
       "      <td>0.030</td>\n",
       "      <td>0.179</td>\n",
       "      <td>2.43</td>\n",
       "      <td>1.502</td>\n",
       "      <td>1.108</td>\n",
       "      <td>0.763</td>\n",
       "      <td>0.686</td>\n",
       "      <td>0.208</td>\n",
       "      <td>0.485</td>\n",
       "      <td>2.868</td>\n",
       "    </tr>\n",
       "    <tr>\n",
       "      <th>2</th>\n",
       "      <td>Switzerland</td>\n",
       "      <td>Western Europe</td>\n",
       "      <td>7.571</td>\n",
       "      <td>0.036</td>\n",
       "      <td>7.643</td>\n",
       "      <td>7.500</td>\n",
       "      <td>11.117</td>\n",
       "      <td>0.942</td>\n",
       "      <td>74.400</td>\n",
       "      <td>0.919</td>\n",
       "      <td>0.025</td>\n",
       "      <td>0.292</td>\n",
       "      <td>2.43</td>\n",
       "      <td>1.566</td>\n",
       "      <td>1.079</td>\n",
       "      <td>0.816</td>\n",
       "      <td>0.653</td>\n",
       "      <td>0.204</td>\n",
       "      <td>0.413</td>\n",
       "      <td>2.839</td>\n",
       "    </tr>\n",
       "    <tr>\n",
       "      <th>3</th>\n",
       "      <td>Iceland</td>\n",
       "      <td>Western Europe</td>\n",
       "      <td>7.554</td>\n",
       "      <td>0.059</td>\n",
       "      <td>7.670</td>\n",
       "      <td>7.438</td>\n",
       "      <td>10.878</td>\n",
       "      <td>0.983</td>\n",
       "      <td>73.000</td>\n",
       "      <td>0.955</td>\n",
       "      <td>0.160</td>\n",
       "      <td>0.673</td>\n",
       "      <td>2.43</td>\n",
       "      <td>1.482</td>\n",
       "      <td>1.172</td>\n",
       "      <td>0.772</td>\n",
       "      <td>0.698</td>\n",
       "      <td>0.293</td>\n",
       "      <td>0.170</td>\n",
       "      <td>2.967</td>\n",
       "    </tr>\n",
       "    <tr>\n",
       "      <th>4</th>\n",
       "      <td>Netherlands</td>\n",
       "      <td>Western Europe</td>\n",
       "      <td>7.464</td>\n",
       "      <td>0.027</td>\n",
       "      <td>7.518</td>\n",
       "      <td>7.410</td>\n",
       "      <td>10.932</td>\n",
       "      <td>0.942</td>\n",
       "      <td>72.400</td>\n",
       "      <td>0.913</td>\n",
       "      <td>0.175</td>\n",
       "      <td>0.338</td>\n",
       "      <td>2.43</td>\n",
       "      <td>1.501</td>\n",
       "      <td>1.079</td>\n",
       "      <td>0.753</td>\n",
       "      <td>0.647</td>\n",
       "      <td>0.302</td>\n",
       "      <td>0.384</td>\n",
       "      <td>2.798</td>\n",
       "    </tr>\n",
       "    <tr>\n",
       "      <th>...</th>\n",
       "      <td>...</td>\n",
       "      <td>...</td>\n",
       "      <td>...</td>\n",
       "      <td>...</td>\n",
       "      <td>...</td>\n",
       "      <td>...</td>\n",
       "      <td>...</td>\n",
       "      <td>...</td>\n",
       "      <td>...</td>\n",
       "      <td>...</td>\n",
       "      <td>...</td>\n",
       "      <td>...</td>\n",
       "      <td>...</td>\n",
       "      <td>...</td>\n",
       "      <td>...</td>\n",
       "      <td>...</td>\n",
       "      <td>...</td>\n",
       "      <td>...</td>\n",
       "      <td>...</td>\n",
       "      <td>...</td>\n",
       "    </tr>\n",
       "    <tr>\n",
       "      <th>144</th>\n",
       "      <td>Lesotho</td>\n",
       "      <td>Sub-Saharan Africa</td>\n",
       "      <td>3.512</td>\n",
       "      <td>0.120</td>\n",
       "      <td>3.748</td>\n",
       "      <td>3.276</td>\n",
       "      <td>7.926</td>\n",
       "      <td>0.787</td>\n",
       "      <td>48.700</td>\n",
       "      <td>0.715</td>\n",
       "      <td>-0.131</td>\n",
       "      <td>0.915</td>\n",
       "      <td>2.43</td>\n",
       "      <td>0.451</td>\n",
       "      <td>0.731</td>\n",
       "      <td>0.007</td>\n",
       "      <td>0.405</td>\n",
       "      <td>0.103</td>\n",
       "      <td>0.015</td>\n",
       "      <td>1.800</td>\n",
       "    </tr>\n",
       "    <tr>\n",
       "      <th>145</th>\n",
       "      <td>Botswana</td>\n",
       "      <td>Sub-Saharan Africa</td>\n",
       "      <td>3.467</td>\n",
       "      <td>0.074</td>\n",
       "      <td>3.611</td>\n",
       "      <td>3.322</td>\n",
       "      <td>9.782</td>\n",
       "      <td>0.784</td>\n",
       "      <td>59.269</td>\n",
       "      <td>0.824</td>\n",
       "      <td>-0.246</td>\n",
       "      <td>0.801</td>\n",
       "      <td>2.43</td>\n",
       "      <td>1.099</td>\n",
       "      <td>0.724</td>\n",
       "      <td>0.340</td>\n",
       "      <td>0.539</td>\n",
       "      <td>0.027</td>\n",
       "      <td>0.088</td>\n",
       "      <td>0.648</td>\n",
       "    </tr>\n",
       "    <tr>\n",
       "      <th>146</th>\n",
       "      <td>Rwanda</td>\n",
       "      <td>Sub-Saharan Africa</td>\n",
       "      <td>3.415</td>\n",
       "      <td>0.068</td>\n",
       "      <td>3.548</td>\n",
       "      <td>3.282</td>\n",
       "      <td>7.676</td>\n",
       "      <td>0.552</td>\n",
       "      <td>61.400</td>\n",
       "      <td>0.897</td>\n",
       "      <td>0.061</td>\n",
       "      <td>0.167</td>\n",
       "      <td>2.43</td>\n",
       "      <td>0.364</td>\n",
       "      <td>0.202</td>\n",
       "      <td>0.407</td>\n",
       "      <td>0.627</td>\n",
       "      <td>0.227</td>\n",
       "      <td>0.493</td>\n",
       "      <td>1.095</td>\n",
       "    </tr>\n",
       "    <tr>\n",
       "      <th>147</th>\n",
       "      <td>Zimbabwe</td>\n",
       "      <td>Sub-Saharan Africa</td>\n",
       "      <td>3.145</td>\n",
       "      <td>0.058</td>\n",
       "      <td>3.259</td>\n",
       "      <td>3.030</td>\n",
       "      <td>7.943</td>\n",
       "      <td>0.750</td>\n",
       "      <td>56.201</td>\n",
       "      <td>0.677</td>\n",
       "      <td>-0.047</td>\n",
       "      <td>0.821</td>\n",
       "      <td>2.43</td>\n",
       "      <td>0.457</td>\n",
       "      <td>0.649</td>\n",
       "      <td>0.243</td>\n",
       "      <td>0.359</td>\n",
       "      <td>0.157</td>\n",
       "      <td>0.075</td>\n",
       "      <td>1.205</td>\n",
       "    </tr>\n",
       "    <tr>\n",
       "      <th>148</th>\n",
       "      <td>Afghanistan</td>\n",
       "      <td>South Asia</td>\n",
       "      <td>2.523</td>\n",
       "      <td>0.038</td>\n",
       "      <td>2.596</td>\n",
       "      <td>2.449</td>\n",
       "      <td>7.695</td>\n",
       "      <td>0.463</td>\n",
       "      <td>52.493</td>\n",
       "      <td>0.382</td>\n",
       "      <td>-0.102</td>\n",
       "      <td>0.924</td>\n",
       "      <td>2.43</td>\n",
       "      <td>0.370</td>\n",
       "      <td>0.000</td>\n",
       "      <td>0.126</td>\n",
       "      <td>0.000</td>\n",
       "      <td>0.122</td>\n",
       "      <td>0.010</td>\n",
       "      <td>1.895</td>\n",
       "    </tr>\n",
       "  </tbody>\n",
       "</table>\n",
       "<p>149 rows × 20 columns</p>\n",
       "</div>"
      ],
      "text/plain": [
       "    Country name  Regional indicator  Ladder score  \\\n",
       "0        Finland      Western Europe         7.842   \n",
       "1        Denmark      Western Europe         7.620   \n",
       "2    Switzerland      Western Europe         7.571   \n",
       "3        Iceland      Western Europe         7.554   \n",
       "4    Netherlands      Western Europe         7.464   \n",
       "..           ...                 ...           ...   \n",
       "144      Lesotho  Sub-Saharan Africa         3.512   \n",
       "145     Botswana  Sub-Saharan Africa         3.467   \n",
       "146       Rwanda  Sub-Saharan Africa         3.415   \n",
       "147     Zimbabwe  Sub-Saharan Africa         3.145   \n",
       "148  Afghanistan          South Asia         2.523   \n",
       "\n",
       "     Standard error of ladder score  upperwhisker  lowerwhisker  \\\n",
       "0                             0.032         7.904         7.780   \n",
       "1                             0.035         7.687         7.552   \n",
       "2                             0.036         7.643         7.500   \n",
       "3                             0.059         7.670         7.438   \n",
       "4                             0.027         7.518         7.410   \n",
       "..                              ...           ...           ...   \n",
       "144                           0.120         3.748         3.276   \n",
       "145                           0.074         3.611         3.322   \n",
       "146                           0.068         3.548         3.282   \n",
       "147                           0.058         3.259         3.030   \n",
       "148                           0.038         2.596         2.449   \n",
       "\n",
       "     Logged GDP per capita  Social support  Healthy life expectancy  \\\n",
       "0                   10.775           0.954                   72.000   \n",
       "1                   10.933           0.954                   72.700   \n",
       "2                   11.117           0.942                   74.400   \n",
       "3                   10.878           0.983                   73.000   \n",
       "4                   10.932           0.942                   72.400   \n",
       "..                     ...             ...                      ...   \n",
       "144                  7.926           0.787                   48.700   \n",
       "145                  9.782           0.784                   59.269   \n",
       "146                  7.676           0.552                   61.400   \n",
       "147                  7.943           0.750                   56.201   \n",
       "148                  7.695           0.463                   52.493   \n",
       "\n",
       "     Freedom to make life choices  Generosity  Perceptions of corruption  \\\n",
       "0                           0.949      -0.098                      0.186   \n",
       "1                           0.946       0.030                      0.179   \n",
       "2                           0.919       0.025                      0.292   \n",
       "3                           0.955       0.160                      0.673   \n",
       "4                           0.913       0.175                      0.338   \n",
       "..                            ...         ...                        ...   \n",
       "144                         0.715      -0.131                      0.915   \n",
       "145                         0.824      -0.246                      0.801   \n",
       "146                         0.897       0.061                      0.167   \n",
       "147                         0.677      -0.047                      0.821   \n",
       "148                         0.382      -0.102                      0.924   \n",
       "\n",
       "     Ladder score in Dystopia  Explained by: Log GDP per capita  \\\n",
       "0                        2.43                             1.446   \n",
       "1                        2.43                             1.502   \n",
       "2                        2.43                             1.566   \n",
       "3                        2.43                             1.482   \n",
       "4                        2.43                             1.501   \n",
       "..                        ...                               ...   \n",
       "144                      2.43                             0.451   \n",
       "145                      2.43                             1.099   \n",
       "146                      2.43                             0.364   \n",
       "147                      2.43                             0.457   \n",
       "148                      2.43                             0.370   \n",
       "\n",
       "     Explained by: Social support  Explained by: Healthy life expectancy  \\\n",
       "0                           1.106                                  0.741   \n",
       "1                           1.108                                  0.763   \n",
       "2                           1.079                                  0.816   \n",
       "3                           1.172                                  0.772   \n",
       "4                           1.079                                  0.753   \n",
       "..                            ...                                    ...   \n",
       "144                         0.731                                  0.007   \n",
       "145                         0.724                                  0.340   \n",
       "146                         0.202                                  0.407   \n",
       "147                         0.649                                  0.243   \n",
       "148                         0.000                                  0.126   \n",
       "\n",
       "     Explained by: Freedom to make life choices  Explained by: Generosity  \\\n",
       "0                                         0.691                     0.124   \n",
       "1                                         0.686                     0.208   \n",
       "2                                         0.653                     0.204   \n",
       "3                                         0.698                     0.293   \n",
       "4                                         0.647                     0.302   \n",
       "..                                          ...                       ...   \n",
       "144                                       0.405                     0.103   \n",
       "145                                       0.539                     0.027   \n",
       "146                                       0.627                     0.227   \n",
       "147                                       0.359                     0.157   \n",
       "148                                       0.000                     0.122   \n",
       "\n",
       "     Explained by: Perceptions of corruption  Dystopia + residual  \n",
       "0                                      0.481                3.253  \n",
       "1                                      0.485                2.868  \n",
       "2                                      0.413                2.839  \n",
       "3                                      0.170                2.967  \n",
       "4                                      0.384                2.798  \n",
       "..                                       ...                  ...  \n",
       "144                                    0.015                1.800  \n",
       "145                                    0.088                0.648  \n",
       "146                                    0.493                1.095  \n",
       "147                                    0.075                1.205  \n",
       "148                                    0.010                1.895  \n",
       "\n",
       "[149 rows x 20 columns]"
      ]
     },
     "execution_count": 2,
     "metadata": {},
     "output_type": "execute_result"
    }
   ],
   "source": [
    "df_data_21 = pd.read_csv('world-happiness-report-2021.csv')\n",
    "df_data_21"
   ]
  },
  {
   "cell_type": "code",
   "execution_count": 3,
   "metadata": {},
   "outputs": [
    {
     "data": {
      "text/html": [
       "<div>\n",
       "<style scoped>\n",
       "    .dataframe tbody tr th:only-of-type {\n",
       "        vertical-align: middle;\n",
       "    }\n",
       "\n",
       "    .dataframe tbody tr th {\n",
       "        vertical-align: top;\n",
       "    }\n",
       "\n",
       "    .dataframe thead th {\n",
       "        text-align: right;\n",
       "    }\n",
       "</style>\n",
       "<table border=\"1\" class=\"dataframe\">\n",
       "  <thead>\n",
       "    <tr style=\"text-align: right;\">\n",
       "      <th></th>\n",
       "      <th>Country name</th>\n",
       "      <th>year</th>\n",
       "      <th>Life Ladder</th>\n",
       "      <th>Log GDP per capita</th>\n",
       "      <th>Social support</th>\n",
       "      <th>Healthy life expectancy at birth</th>\n",
       "      <th>Freedom to make life choices</th>\n",
       "      <th>Generosity</th>\n",
       "      <th>Perceptions of corruption</th>\n",
       "      <th>Positive affect</th>\n",
       "      <th>Negative affect</th>\n",
       "    </tr>\n",
       "  </thead>\n",
       "  <tbody>\n",
       "    <tr>\n",
       "      <th>0</th>\n",
       "      <td>Afghanistan</td>\n",
       "      <td>2008</td>\n",
       "      <td>3.724</td>\n",
       "      <td>7.370</td>\n",
       "      <td>0.451</td>\n",
       "      <td>50.80</td>\n",
       "      <td>0.718</td>\n",
       "      <td>0.168</td>\n",
       "      <td>0.882</td>\n",
       "      <td>0.518</td>\n",
       "      <td>0.258</td>\n",
       "    </tr>\n",
       "    <tr>\n",
       "      <th>1</th>\n",
       "      <td>Afghanistan</td>\n",
       "      <td>2009</td>\n",
       "      <td>4.402</td>\n",
       "      <td>7.540</td>\n",
       "      <td>0.552</td>\n",
       "      <td>51.20</td>\n",
       "      <td>0.679</td>\n",
       "      <td>0.190</td>\n",
       "      <td>0.850</td>\n",
       "      <td>0.584</td>\n",
       "      <td>0.237</td>\n",
       "    </tr>\n",
       "    <tr>\n",
       "      <th>2</th>\n",
       "      <td>Afghanistan</td>\n",
       "      <td>2010</td>\n",
       "      <td>4.758</td>\n",
       "      <td>7.647</td>\n",
       "      <td>0.539</td>\n",
       "      <td>51.60</td>\n",
       "      <td>0.600</td>\n",
       "      <td>0.121</td>\n",
       "      <td>0.707</td>\n",
       "      <td>0.618</td>\n",
       "      <td>0.275</td>\n",
       "    </tr>\n",
       "    <tr>\n",
       "      <th>3</th>\n",
       "      <td>Afghanistan</td>\n",
       "      <td>2011</td>\n",
       "      <td>3.832</td>\n",
       "      <td>7.620</td>\n",
       "      <td>0.521</td>\n",
       "      <td>51.92</td>\n",
       "      <td>0.496</td>\n",
       "      <td>0.162</td>\n",
       "      <td>0.731</td>\n",
       "      <td>0.611</td>\n",
       "      <td>0.267</td>\n",
       "    </tr>\n",
       "    <tr>\n",
       "      <th>4</th>\n",
       "      <td>Afghanistan</td>\n",
       "      <td>2012</td>\n",
       "      <td>3.783</td>\n",
       "      <td>7.705</td>\n",
       "      <td>0.521</td>\n",
       "      <td>52.24</td>\n",
       "      <td>0.531</td>\n",
       "      <td>0.236</td>\n",
       "      <td>0.776</td>\n",
       "      <td>0.710</td>\n",
       "      <td>0.268</td>\n",
       "    </tr>\n",
       "    <tr>\n",
       "      <th>...</th>\n",
       "      <td>...</td>\n",
       "      <td>...</td>\n",
       "      <td>...</td>\n",
       "      <td>...</td>\n",
       "      <td>...</td>\n",
       "      <td>...</td>\n",
       "      <td>...</td>\n",
       "      <td>...</td>\n",
       "      <td>...</td>\n",
       "      <td>...</td>\n",
       "      <td>...</td>\n",
       "    </tr>\n",
       "    <tr>\n",
       "      <th>1944</th>\n",
       "      <td>Zimbabwe</td>\n",
       "      <td>2016</td>\n",
       "      <td>3.735</td>\n",
       "      <td>7.984</td>\n",
       "      <td>0.768</td>\n",
       "      <td>54.40</td>\n",
       "      <td>0.733</td>\n",
       "      <td>-0.095</td>\n",
       "      <td>0.724</td>\n",
       "      <td>0.738</td>\n",
       "      <td>0.209</td>\n",
       "    </tr>\n",
       "    <tr>\n",
       "      <th>1945</th>\n",
       "      <td>Zimbabwe</td>\n",
       "      <td>2017</td>\n",
       "      <td>3.638</td>\n",
       "      <td>8.016</td>\n",
       "      <td>0.754</td>\n",
       "      <td>55.00</td>\n",
       "      <td>0.753</td>\n",
       "      <td>-0.098</td>\n",
       "      <td>0.751</td>\n",
       "      <td>0.806</td>\n",
       "      <td>0.224</td>\n",
       "    </tr>\n",
       "    <tr>\n",
       "      <th>1946</th>\n",
       "      <td>Zimbabwe</td>\n",
       "      <td>2018</td>\n",
       "      <td>3.616</td>\n",
       "      <td>8.049</td>\n",
       "      <td>0.775</td>\n",
       "      <td>55.60</td>\n",
       "      <td>0.763</td>\n",
       "      <td>-0.068</td>\n",
       "      <td>0.844</td>\n",
       "      <td>0.710</td>\n",
       "      <td>0.212</td>\n",
       "    </tr>\n",
       "    <tr>\n",
       "      <th>1947</th>\n",
       "      <td>Zimbabwe</td>\n",
       "      <td>2019</td>\n",
       "      <td>2.694</td>\n",
       "      <td>7.950</td>\n",
       "      <td>0.759</td>\n",
       "      <td>56.20</td>\n",
       "      <td>0.632</td>\n",
       "      <td>-0.064</td>\n",
       "      <td>0.831</td>\n",
       "      <td>0.716</td>\n",
       "      <td>0.235</td>\n",
       "    </tr>\n",
       "    <tr>\n",
       "      <th>1948</th>\n",
       "      <td>Zimbabwe</td>\n",
       "      <td>2020</td>\n",
       "      <td>3.160</td>\n",
       "      <td>7.829</td>\n",
       "      <td>0.717</td>\n",
       "      <td>56.80</td>\n",
       "      <td>0.643</td>\n",
       "      <td>-0.009</td>\n",
       "      <td>0.789</td>\n",
       "      <td>0.703</td>\n",
       "      <td>0.346</td>\n",
       "    </tr>\n",
       "  </tbody>\n",
       "</table>\n",
       "<p>1949 rows × 11 columns</p>\n",
       "</div>"
      ],
      "text/plain": [
       "     Country name  year  Life Ladder  Log GDP per capita  Social support  \\\n",
       "0     Afghanistan  2008        3.724               7.370           0.451   \n",
       "1     Afghanistan  2009        4.402               7.540           0.552   \n",
       "2     Afghanistan  2010        4.758               7.647           0.539   \n",
       "3     Afghanistan  2011        3.832               7.620           0.521   \n",
       "4     Afghanistan  2012        3.783               7.705           0.521   \n",
       "...           ...   ...          ...                 ...             ...   \n",
       "1944     Zimbabwe  2016        3.735               7.984           0.768   \n",
       "1945     Zimbabwe  2017        3.638               8.016           0.754   \n",
       "1946     Zimbabwe  2018        3.616               8.049           0.775   \n",
       "1947     Zimbabwe  2019        2.694               7.950           0.759   \n",
       "1948     Zimbabwe  2020        3.160               7.829           0.717   \n",
       "\n",
       "      Healthy life expectancy at birth  Freedom to make life choices  \\\n",
       "0                                50.80                         0.718   \n",
       "1                                51.20                         0.679   \n",
       "2                                51.60                         0.600   \n",
       "3                                51.92                         0.496   \n",
       "4                                52.24                         0.531   \n",
       "...                                ...                           ...   \n",
       "1944                             54.40                         0.733   \n",
       "1945                             55.00                         0.753   \n",
       "1946                             55.60                         0.763   \n",
       "1947                             56.20                         0.632   \n",
       "1948                             56.80                         0.643   \n",
       "\n",
       "      Generosity  Perceptions of corruption  Positive affect  Negative affect  \n",
       "0          0.168                      0.882            0.518            0.258  \n",
       "1          0.190                      0.850            0.584            0.237  \n",
       "2          0.121                      0.707            0.618            0.275  \n",
       "3          0.162                      0.731            0.611            0.267  \n",
       "4          0.236                      0.776            0.710            0.268  \n",
       "...          ...                        ...              ...              ...  \n",
       "1944      -0.095                      0.724            0.738            0.209  \n",
       "1945      -0.098                      0.751            0.806            0.224  \n",
       "1946      -0.068                      0.844            0.710            0.212  \n",
       "1947      -0.064                      0.831            0.716            0.235  \n",
       "1948      -0.009                      0.789            0.703            0.346  \n",
       "\n",
       "[1949 rows x 11 columns]"
      ]
     },
     "execution_count": 3,
     "metadata": {},
     "output_type": "execute_result"
    }
   ],
   "source": [
    "df_data_past = pd.read_csv('world-happiness-report.csv')\n",
    "df_data_past"
   ]
  },
  {
   "cell_type": "code",
   "execution_count": 4,
   "metadata": {},
   "outputs": [],
   "source": [
    "## List of Hong Kong's neightbor countries/provinces (East Asia)\n",
    "east_asia = df_data_21[df_data_21['Regional indicator'] == \"East Asia\"]['Country name'].to_list()"
   ]
  },
  {
   "cell_type": "code",
   "execution_count": 6,
   "metadata": {},
   "outputs": [],
   "source": [
    "## Dataset of Hong Kong's neightbor countries/provinces (East Asia)\n",
    "df_east_asia = pd.DataFrame(df_data_21[df_data_21['Country name'].isin(east_asia)])"
   ]
  },
  {
   "cell_type": "markdown",
   "metadata": {},
   "source": [
    "## Happiness Index  \n",
    "Comparing the Ladder score (Happiness Index) of some significant countries, the East Asian Country and Hong Kong with their means and median"
   ]
  },
  {
   "cell_type": "code",
   "execution_count": 9,
   "metadata": {},
   "outputs": [],
   "source": [
    "# The country in the world that has the highest ladder score: Finland\n",
    "data_21_top = df_data_21.iloc[0:1]\n",
    "# The country in the world that has the lowest ladder score: Afghanistan \n",
    "data_21_bottom = (df_data_21.iloc[-1])\n",
    "# The country (province) in East Asia that has the highest ladder score: Taiwan \n",
    "east_asia_top = df_east_asia.iloc[0:1]\n",
    "# The country (province) in East Asia that has the lowest ladder score: China\n",
    "east_asia_bottom = (df_east_asia.iloc[-1])\n",
    "# Hong Kong\n",
    "east_asia_HK = (df_east_asia.iloc[-2])"
   ]
  },
  {
   "cell_type": "code",
   "execution_count": 10,
   "metadata": {},
   "outputs": [],
   "source": [
    "# Means \n",
    "data_21_mean_score = float(round(df_data_21['Ladder score'].mean(),2))\n",
    "east_asia_mean_score = float(round(df_east_asia['Ladder score'].mean(),2))\n",
    "\n",
    "e_a_meanVStop = abs(east_asia_mean_score - float(round(east_asia_top['Ladder score'].mean(),2)))\n",
    "e_a_meanVSbottom = abs(east_asia_mean_score - float(round(east_asia_bottom['Ladder score'].mean(),2)))\n",
    "e_a_meanVSHK = abs(east_asia_mean_score - float(round(east_asia_HK['Ladder score'].mean(),2)))\n",
    "\n",
    "data_21_meanVStop = abs(data_21_mean_score - float(round(data_21_top['Ladder score'].mean(),2)))\n",
    "data_21_meanVSbottom = abs(data_21_mean_score - float(round(data_21_bottom['Ladder score'].mean(),2)))\n"
   ]
  },
  {
   "cell_type": "markdown",
   "metadata": {},
   "source": [
    "### Summary\n",
    "\n",
    "The mean of ladder score of the world: 5.53 and the mean of the East Asia Country: 5.81\n",
    "\n",
    "Hong Kong has a 5.48/10 ladder score, which comes in the 77th place in the world and 5th place among the 6 East-Asian Country. The difference between the mean and its ladder score (East Asia only) is: 0.33\n",
    "\n",
    "The country in the world that has the highest ladder score (index): Finland. The difference between the mean and its ladder score is: 2.31.\n",
    "\n",
    "The country in the world that has the lowest ladder score (index): Afghanistan. The difference between the mean and its ladder score is: 3.01.\n",
    "\n",
    "The country in the East Asia that has the highest ladder score (index): Taiwan Province of China. The difference between the mean and its ladder score (East Asia only) is: 0.77.\n",
    "\n",
    "The country in the East Asia that has the lowest ladder score (index): China. The difference between the mean and its ladder score (East Asia only) is: 0.47\n",
    "\n"
   ]
  },
  {
   "cell_type": "code",
   "execution_count": 21,
   "metadata": {},
   "outputs": [
    {
     "data": {
      "application/vnd.plotly.v1+json": {
       "config": {
        "plotlyServerURL": "https://plot.ly"
       },
       "data": [
        {
         "alignmentgroup": "True",
         "hovertemplate": "Happiness Score=%{x}<extra></extra>",
         "legendgroup": "",
         "marker": {
          "color": "#636efa"
         },
         "name": "",
         "notched": false,
         "offsetgroup": "",
         "orientation": "h",
         "showlegend": false,
         "type": "box",
         "x": [
          6.584,
          5.94,
          5.845,
          5.6770000000000005,
          5.477,
          5.3389999999999995
         ],
         "x0": " ",
         "xaxis": "x",
         "y0": " ",
         "yaxis": "y"
        }
       ],
       "layout": {
        "boxmode": "group",
        "height": 300,
        "legend": {
         "tracegroupgap": 0
        },
        "margin": {
         "t": 60
        },
        "template": {
         "data": {
          "bar": [
           {
            "error_x": {
             "color": "#2a3f5f"
            },
            "error_y": {
             "color": "#2a3f5f"
            },
            "marker": {
             "line": {
              "color": "#E5ECF6",
              "width": 0.5
             }
            },
            "type": "bar"
           }
          ],
          "barpolar": [
           {
            "marker": {
             "line": {
              "color": "#E5ECF6",
              "width": 0.5
             }
            },
            "type": "barpolar"
           }
          ],
          "carpet": [
           {
            "aaxis": {
             "endlinecolor": "#2a3f5f",
             "gridcolor": "white",
             "linecolor": "white",
             "minorgridcolor": "white",
             "startlinecolor": "#2a3f5f"
            },
            "baxis": {
             "endlinecolor": "#2a3f5f",
             "gridcolor": "white",
             "linecolor": "white",
             "minorgridcolor": "white",
             "startlinecolor": "#2a3f5f"
            },
            "type": "carpet"
           }
          ],
          "choropleth": [
           {
            "colorbar": {
             "outlinewidth": 0,
             "ticks": ""
            },
            "type": "choropleth"
           }
          ],
          "contour": [
           {
            "colorbar": {
             "outlinewidth": 0,
             "ticks": ""
            },
            "colorscale": [
             [
              0,
              "#0d0887"
             ],
             [
              0.1111111111111111,
              "#46039f"
             ],
             [
              0.2222222222222222,
              "#7201a8"
             ],
             [
              0.3333333333333333,
              "#9c179e"
             ],
             [
              0.4444444444444444,
              "#bd3786"
             ],
             [
              0.5555555555555556,
              "#d8576b"
             ],
             [
              0.6666666666666666,
              "#ed7953"
             ],
             [
              0.7777777777777778,
              "#fb9f3a"
             ],
             [
              0.8888888888888888,
              "#fdca26"
             ],
             [
              1,
              "#f0f921"
             ]
            ],
            "type": "contour"
           }
          ],
          "contourcarpet": [
           {
            "colorbar": {
             "outlinewidth": 0,
             "ticks": ""
            },
            "type": "contourcarpet"
           }
          ],
          "heatmap": [
           {
            "colorbar": {
             "outlinewidth": 0,
             "ticks": ""
            },
            "colorscale": [
             [
              0,
              "#0d0887"
             ],
             [
              0.1111111111111111,
              "#46039f"
             ],
             [
              0.2222222222222222,
              "#7201a8"
             ],
             [
              0.3333333333333333,
              "#9c179e"
             ],
             [
              0.4444444444444444,
              "#bd3786"
             ],
             [
              0.5555555555555556,
              "#d8576b"
             ],
             [
              0.6666666666666666,
              "#ed7953"
             ],
             [
              0.7777777777777778,
              "#fb9f3a"
             ],
             [
              0.8888888888888888,
              "#fdca26"
             ],
             [
              1,
              "#f0f921"
             ]
            ],
            "type": "heatmap"
           }
          ],
          "heatmapgl": [
           {
            "colorbar": {
             "outlinewidth": 0,
             "ticks": ""
            },
            "colorscale": [
             [
              0,
              "#0d0887"
             ],
             [
              0.1111111111111111,
              "#46039f"
             ],
             [
              0.2222222222222222,
              "#7201a8"
             ],
             [
              0.3333333333333333,
              "#9c179e"
             ],
             [
              0.4444444444444444,
              "#bd3786"
             ],
             [
              0.5555555555555556,
              "#d8576b"
             ],
             [
              0.6666666666666666,
              "#ed7953"
             ],
             [
              0.7777777777777778,
              "#fb9f3a"
             ],
             [
              0.8888888888888888,
              "#fdca26"
             ],
             [
              1,
              "#f0f921"
             ]
            ],
            "type": "heatmapgl"
           }
          ],
          "histogram": [
           {
            "marker": {
             "colorbar": {
              "outlinewidth": 0,
              "ticks": ""
             }
            },
            "type": "histogram"
           }
          ],
          "histogram2d": [
           {
            "colorbar": {
             "outlinewidth": 0,
             "ticks": ""
            },
            "colorscale": [
             [
              0,
              "#0d0887"
             ],
             [
              0.1111111111111111,
              "#46039f"
             ],
             [
              0.2222222222222222,
              "#7201a8"
             ],
             [
              0.3333333333333333,
              "#9c179e"
             ],
             [
              0.4444444444444444,
              "#bd3786"
             ],
             [
              0.5555555555555556,
              "#d8576b"
             ],
             [
              0.6666666666666666,
              "#ed7953"
             ],
             [
              0.7777777777777778,
              "#fb9f3a"
             ],
             [
              0.8888888888888888,
              "#fdca26"
             ],
             [
              1,
              "#f0f921"
             ]
            ],
            "type": "histogram2d"
           }
          ],
          "histogram2dcontour": [
           {
            "colorbar": {
             "outlinewidth": 0,
             "ticks": ""
            },
            "colorscale": [
             [
              0,
              "#0d0887"
             ],
             [
              0.1111111111111111,
              "#46039f"
             ],
             [
              0.2222222222222222,
              "#7201a8"
             ],
             [
              0.3333333333333333,
              "#9c179e"
             ],
             [
              0.4444444444444444,
              "#bd3786"
             ],
             [
              0.5555555555555556,
              "#d8576b"
             ],
             [
              0.6666666666666666,
              "#ed7953"
             ],
             [
              0.7777777777777778,
              "#fb9f3a"
             ],
             [
              0.8888888888888888,
              "#fdca26"
             ],
             [
              1,
              "#f0f921"
             ]
            ],
            "type": "histogram2dcontour"
           }
          ],
          "mesh3d": [
           {
            "colorbar": {
             "outlinewidth": 0,
             "ticks": ""
            },
            "type": "mesh3d"
           }
          ],
          "parcoords": [
           {
            "line": {
             "colorbar": {
              "outlinewidth": 0,
              "ticks": ""
             }
            },
            "type": "parcoords"
           }
          ],
          "pie": [
           {
            "automargin": true,
            "type": "pie"
           }
          ],
          "scatter": [
           {
            "marker": {
             "colorbar": {
              "outlinewidth": 0,
              "ticks": ""
             }
            },
            "type": "scatter"
           }
          ],
          "scatter3d": [
           {
            "line": {
             "colorbar": {
              "outlinewidth": 0,
              "ticks": ""
             }
            },
            "marker": {
             "colorbar": {
              "outlinewidth": 0,
              "ticks": ""
             }
            },
            "type": "scatter3d"
           }
          ],
          "scattercarpet": [
           {
            "marker": {
             "colorbar": {
              "outlinewidth": 0,
              "ticks": ""
             }
            },
            "type": "scattercarpet"
           }
          ],
          "scattergeo": [
           {
            "marker": {
             "colorbar": {
              "outlinewidth": 0,
              "ticks": ""
             }
            },
            "type": "scattergeo"
           }
          ],
          "scattergl": [
           {
            "marker": {
             "colorbar": {
              "outlinewidth": 0,
              "ticks": ""
             }
            },
            "type": "scattergl"
           }
          ],
          "scattermapbox": [
           {
            "marker": {
             "colorbar": {
              "outlinewidth": 0,
              "ticks": ""
             }
            },
            "type": "scattermapbox"
           }
          ],
          "scatterpolar": [
           {
            "marker": {
             "colorbar": {
              "outlinewidth": 0,
              "ticks": ""
             }
            },
            "type": "scatterpolar"
           }
          ],
          "scatterpolargl": [
           {
            "marker": {
             "colorbar": {
              "outlinewidth": 0,
              "ticks": ""
             }
            },
            "type": "scatterpolargl"
           }
          ],
          "scatterternary": [
           {
            "marker": {
             "colorbar": {
              "outlinewidth": 0,
              "ticks": ""
             }
            },
            "type": "scatterternary"
           }
          ],
          "surface": [
           {
            "colorbar": {
             "outlinewidth": 0,
             "ticks": ""
            },
            "colorscale": [
             [
              0,
              "#0d0887"
             ],
             [
              0.1111111111111111,
              "#46039f"
             ],
             [
              0.2222222222222222,
              "#7201a8"
             ],
             [
              0.3333333333333333,
              "#9c179e"
             ],
             [
              0.4444444444444444,
              "#bd3786"
             ],
             [
              0.5555555555555556,
              "#d8576b"
             ],
             [
              0.6666666666666666,
              "#ed7953"
             ],
             [
              0.7777777777777778,
              "#fb9f3a"
             ],
             [
              0.8888888888888888,
              "#fdca26"
             ],
             [
              1,
              "#f0f921"
             ]
            ],
            "type": "surface"
           }
          ],
          "table": [
           {
            "cells": {
             "fill": {
              "color": "#EBF0F8"
             },
             "line": {
              "color": "white"
             }
            },
            "header": {
             "fill": {
              "color": "#C8D4E3"
             },
             "line": {
              "color": "white"
             }
            },
            "type": "table"
           }
          ]
         },
         "layout": {
          "annotationdefaults": {
           "arrowcolor": "#2a3f5f",
           "arrowhead": 0,
           "arrowwidth": 1
          },
          "autotypenumbers": "strict",
          "coloraxis": {
           "colorbar": {
            "outlinewidth": 0,
            "ticks": ""
           }
          },
          "colorscale": {
           "diverging": [
            [
             0,
             "#8e0152"
            ],
            [
             0.1,
             "#c51b7d"
            ],
            [
             0.2,
             "#de77ae"
            ],
            [
             0.3,
             "#f1b6da"
            ],
            [
             0.4,
             "#fde0ef"
            ],
            [
             0.5,
             "#f7f7f7"
            ],
            [
             0.6,
             "#e6f5d0"
            ],
            [
             0.7,
             "#b8e186"
            ],
            [
             0.8,
             "#7fbc41"
            ],
            [
             0.9,
             "#4d9221"
            ],
            [
             1,
             "#276419"
            ]
           ],
           "sequential": [
            [
             0,
             "#0d0887"
            ],
            [
             0.1111111111111111,
             "#46039f"
            ],
            [
             0.2222222222222222,
             "#7201a8"
            ],
            [
             0.3333333333333333,
             "#9c179e"
            ],
            [
             0.4444444444444444,
             "#bd3786"
            ],
            [
             0.5555555555555556,
             "#d8576b"
            ],
            [
             0.6666666666666666,
             "#ed7953"
            ],
            [
             0.7777777777777778,
             "#fb9f3a"
            ],
            [
             0.8888888888888888,
             "#fdca26"
            ],
            [
             1,
             "#f0f921"
            ]
           ],
           "sequentialminus": [
            [
             0,
             "#0d0887"
            ],
            [
             0.1111111111111111,
             "#46039f"
            ],
            [
             0.2222222222222222,
             "#7201a8"
            ],
            [
             0.3333333333333333,
             "#9c179e"
            ],
            [
             0.4444444444444444,
             "#bd3786"
            ],
            [
             0.5555555555555556,
             "#d8576b"
            ],
            [
             0.6666666666666666,
             "#ed7953"
            ],
            [
             0.7777777777777778,
             "#fb9f3a"
            ],
            [
             0.8888888888888888,
             "#fdca26"
            ],
            [
             1,
             "#f0f921"
            ]
           ]
          },
          "colorway": [
           "#636efa",
           "#EF553B",
           "#00cc96",
           "#ab63fa",
           "#FFA15A",
           "#19d3f3",
           "#FF6692",
           "#B6E880",
           "#FF97FF",
           "#FECB52"
          ],
          "font": {
           "color": "#2a3f5f"
          },
          "geo": {
           "bgcolor": "white",
           "lakecolor": "white",
           "landcolor": "#E5ECF6",
           "showlakes": true,
           "showland": true,
           "subunitcolor": "white"
          },
          "hoverlabel": {
           "align": "left"
          },
          "hovermode": "closest",
          "mapbox": {
           "style": "light"
          },
          "paper_bgcolor": "white",
          "plot_bgcolor": "#E5ECF6",
          "polar": {
           "angularaxis": {
            "gridcolor": "white",
            "linecolor": "white",
            "ticks": ""
           },
           "bgcolor": "#E5ECF6",
           "radialaxis": {
            "gridcolor": "white",
            "linecolor": "white",
            "ticks": ""
           }
          },
          "scene": {
           "xaxis": {
            "backgroundcolor": "#E5ECF6",
            "gridcolor": "white",
            "gridwidth": 2,
            "linecolor": "white",
            "showbackground": true,
            "ticks": "",
            "zerolinecolor": "white"
           },
           "yaxis": {
            "backgroundcolor": "#E5ECF6",
            "gridcolor": "white",
            "gridwidth": 2,
            "linecolor": "white",
            "showbackground": true,
            "ticks": "",
            "zerolinecolor": "white"
           },
           "zaxis": {
            "backgroundcolor": "#E5ECF6",
            "gridcolor": "white",
            "gridwidth": 2,
            "linecolor": "white",
            "showbackground": true,
            "ticks": "",
            "zerolinecolor": "white"
           }
          },
          "shapedefaults": {
           "line": {
            "color": "#2a3f5f"
           }
          },
          "ternary": {
           "aaxis": {
            "gridcolor": "white",
            "linecolor": "white",
            "ticks": ""
           },
           "baxis": {
            "gridcolor": "white",
            "linecolor": "white",
            "ticks": ""
           },
           "bgcolor": "#E5ECF6",
           "caxis": {
            "gridcolor": "white",
            "linecolor": "white",
            "ticks": ""
           }
          },
          "title": {
           "x": 0.05
          },
          "xaxis": {
           "automargin": true,
           "gridcolor": "white",
           "linecolor": "white",
           "ticks": "",
           "title": {
            "standoff": 15
           },
           "zerolinecolor": "white",
           "zerolinewidth": 2
          },
          "yaxis": {
           "automargin": true,
           "gridcolor": "white",
           "linecolor": "white",
           "ticks": "",
           "title": {
            "standoff": 15
           },
           "zerolinecolor": "white",
           "zerolinewidth": 2
          }
         }
        },
        "title": {
         "font": {
          "size": 24
         },
         "text": "Box Plot of Ladder Score (East Asian Countries)"
        },
        "width": 800,
        "xaxis": {
         "anchor": "y",
         "domain": [
          0,
          1
         ],
         "title": {
          "text": "Happiness Score"
         }
        },
        "yaxis": {
         "anchor": "x",
         "domain": [
          0,
          1
         ]
        }
       }
      },
      "text/html": [
       "<div>                            <div id=\"97754a4b-b794-47ae-93f1-f8b36515e5df\" class=\"plotly-graph-div\" style=\"height:300px; width:800px;\"></div>            <script type=\"text/javascript\">                require([\"plotly\"], function(Plotly) {                    window.PLOTLYENV=window.PLOTLYENV || {};                                    if (document.getElementById(\"97754a4b-b794-47ae-93f1-f8b36515e5df\")) {                    Plotly.newPlot(                        \"97754a4b-b794-47ae-93f1-f8b36515e5df\",                        [{\"alignmentgroup\": \"True\", \"hovertemplate\": \"Happiness Score=%{x}<extra></extra>\", \"legendgroup\": \"\", \"marker\": {\"color\": \"#636efa\"}, \"name\": \"\", \"notched\": false, \"offsetgroup\": \"\", \"orientation\": \"h\", \"showlegend\": false, \"type\": \"box\", \"x\": [6.584, 5.94, 5.845, 5.6770000000000005, 5.477, 5.3389999999999995], \"x0\": \" \", \"xaxis\": \"x\", \"y0\": \" \", \"yaxis\": \"y\"}],                        {\"boxmode\": \"group\", \"height\": 300, \"legend\": {\"tracegroupgap\": 0}, \"margin\": {\"t\": 60}, \"template\": {\"data\": {\"bar\": [{\"error_x\": {\"color\": \"#2a3f5f\"}, \"error_y\": {\"color\": \"#2a3f5f\"}, \"marker\": {\"line\": {\"color\": \"#E5ECF6\", \"width\": 0.5}}, \"type\": \"bar\"}], \"barpolar\": [{\"marker\": {\"line\": {\"color\": \"#E5ECF6\", \"width\": 0.5}}, \"type\": \"barpolar\"}], \"carpet\": [{\"aaxis\": {\"endlinecolor\": \"#2a3f5f\", \"gridcolor\": \"white\", \"linecolor\": \"white\", \"minorgridcolor\": \"white\", \"startlinecolor\": \"#2a3f5f\"}, \"baxis\": {\"endlinecolor\": \"#2a3f5f\", \"gridcolor\": \"white\", \"linecolor\": \"white\", \"minorgridcolor\": \"white\", \"startlinecolor\": \"#2a3f5f\"}, \"type\": \"carpet\"}], \"choropleth\": [{\"colorbar\": {\"outlinewidth\": 0, \"ticks\": \"\"}, \"type\": \"choropleth\"}], \"contour\": [{\"colorbar\": {\"outlinewidth\": 0, \"ticks\": \"\"}, \"colorscale\": [[0.0, \"#0d0887\"], [0.1111111111111111, \"#46039f\"], [0.2222222222222222, \"#7201a8\"], [0.3333333333333333, \"#9c179e\"], [0.4444444444444444, \"#bd3786\"], [0.5555555555555556, \"#d8576b\"], [0.6666666666666666, \"#ed7953\"], [0.7777777777777778, \"#fb9f3a\"], [0.8888888888888888, \"#fdca26\"], [1.0, \"#f0f921\"]], \"type\": \"contour\"}], \"contourcarpet\": [{\"colorbar\": {\"outlinewidth\": 0, \"ticks\": \"\"}, \"type\": \"contourcarpet\"}], \"heatmap\": [{\"colorbar\": {\"outlinewidth\": 0, \"ticks\": \"\"}, \"colorscale\": [[0.0, \"#0d0887\"], [0.1111111111111111, \"#46039f\"], [0.2222222222222222, \"#7201a8\"], [0.3333333333333333, \"#9c179e\"], [0.4444444444444444, \"#bd3786\"], [0.5555555555555556, \"#d8576b\"], [0.6666666666666666, \"#ed7953\"], [0.7777777777777778, \"#fb9f3a\"], [0.8888888888888888, \"#fdca26\"], [1.0, \"#f0f921\"]], \"type\": \"heatmap\"}], \"heatmapgl\": [{\"colorbar\": {\"outlinewidth\": 0, \"ticks\": \"\"}, \"colorscale\": [[0.0, \"#0d0887\"], [0.1111111111111111, \"#46039f\"], [0.2222222222222222, \"#7201a8\"], [0.3333333333333333, \"#9c179e\"], [0.4444444444444444, \"#bd3786\"], [0.5555555555555556, \"#d8576b\"], [0.6666666666666666, \"#ed7953\"], [0.7777777777777778, \"#fb9f3a\"], [0.8888888888888888, \"#fdca26\"], [1.0, \"#f0f921\"]], \"type\": \"heatmapgl\"}], \"histogram\": [{\"marker\": {\"colorbar\": {\"outlinewidth\": 0, \"ticks\": \"\"}}, \"type\": \"histogram\"}], \"histogram2d\": [{\"colorbar\": {\"outlinewidth\": 0, \"ticks\": \"\"}, \"colorscale\": [[0.0, \"#0d0887\"], [0.1111111111111111, \"#46039f\"], [0.2222222222222222, \"#7201a8\"], [0.3333333333333333, \"#9c179e\"], [0.4444444444444444, \"#bd3786\"], [0.5555555555555556, \"#d8576b\"], [0.6666666666666666, \"#ed7953\"], [0.7777777777777778, \"#fb9f3a\"], [0.8888888888888888, \"#fdca26\"], [1.0, \"#f0f921\"]], \"type\": \"histogram2d\"}], \"histogram2dcontour\": [{\"colorbar\": {\"outlinewidth\": 0, \"ticks\": \"\"}, \"colorscale\": [[0.0, \"#0d0887\"], [0.1111111111111111, \"#46039f\"], [0.2222222222222222, \"#7201a8\"], [0.3333333333333333, \"#9c179e\"], [0.4444444444444444, \"#bd3786\"], [0.5555555555555556, \"#d8576b\"], [0.6666666666666666, \"#ed7953\"], [0.7777777777777778, \"#fb9f3a\"], [0.8888888888888888, \"#fdca26\"], [1.0, \"#f0f921\"]], \"type\": \"histogram2dcontour\"}], \"mesh3d\": [{\"colorbar\": {\"outlinewidth\": 0, \"ticks\": \"\"}, \"type\": \"mesh3d\"}], \"parcoords\": [{\"line\": {\"colorbar\": {\"outlinewidth\": 0, \"ticks\": \"\"}}, \"type\": \"parcoords\"}], \"pie\": [{\"automargin\": true, \"type\": \"pie\"}], \"scatter\": [{\"marker\": {\"colorbar\": {\"outlinewidth\": 0, \"ticks\": \"\"}}, \"type\": \"scatter\"}], \"scatter3d\": [{\"line\": {\"colorbar\": {\"outlinewidth\": 0, \"ticks\": \"\"}}, \"marker\": {\"colorbar\": {\"outlinewidth\": 0, \"ticks\": \"\"}}, \"type\": \"scatter3d\"}], \"scattercarpet\": [{\"marker\": {\"colorbar\": {\"outlinewidth\": 0, \"ticks\": \"\"}}, \"type\": \"scattercarpet\"}], \"scattergeo\": [{\"marker\": {\"colorbar\": {\"outlinewidth\": 0, \"ticks\": \"\"}}, \"type\": \"scattergeo\"}], \"scattergl\": [{\"marker\": {\"colorbar\": {\"outlinewidth\": 0, \"ticks\": \"\"}}, \"type\": \"scattergl\"}], \"scattermapbox\": [{\"marker\": {\"colorbar\": {\"outlinewidth\": 0, \"ticks\": \"\"}}, \"type\": \"scattermapbox\"}], \"scatterpolar\": [{\"marker\": {\"colorbar\": {\"outlinewidth\": 0, \"ticks\": \"\"}}, \"type\": \"scatterpolar\"}], \"scatterpolargl\": [{\"marker\": {\"colorbar\": {\"outlinewidth\": 0, \"ticks\": \"\"}}, \"type\": \"scatterpolargl\"}], \"scatterternary\": [{\"marker\": {\"colorbar\": {\"outlinewidth\": 0, \"ticks\": \"\"}}, \"type\": \"scatterternary\"}], \"surface\": [{\"colorbar\": {\"outlinewidth\": 0, \"ticks\": \"\"}, \"colorscale\": [[0.0, \"#0d0887\"], [0.1111111111111111, \"#46039f\"], [0.2222222222222222, \"#7201a8\"], [0.3333333333333333, \"#9c179e\"], [0.4444444444444444, \"#bd3786\"], [0.5555555555555556, \"#d8576b\"], [0.6666666666666666, \"#ed7953\"], [0.7777777777777778, \"#fb9f3a\"], [0.8888888888888888, \"#fdca26\"], [1.0, \"#f0f921\"]], \"type\": \"surface\"}], \"table\": [{\"cells\": {\"fill\": {\"color\": \"#EBF0F8\"}, \"line\": {\"color\": \"white\"}}, \"header\": {\"fill\": {\"color\": \"#C8D4E3\"}, \"line\": {\"color\": \"white\"}}, \"type\": \"table\"}]}, \"layout\": {\"annotationdefaults\": {\"arrowcolor\": \"#2a3f5f\", \"arrowhead\": 0, \"arrowwidth\": 1}, \"autotypenumbers\": \"strict\", \"coloraxis\": {\"colorbar\": {\"outlinewidth\": 0, \"ticks\": \"\"}}, \"colorscale\": {\"diverging\": [[0, \"#8e0152\"], [0.1, \"#c51b7d\"], [0.2, \"#de77ae\"], [0.3, \"#f1b6da\"], [0.4, \"#fde0ef\"], [0.5, \"#f7f7f7\"], [0.6, \"#e6f5d0\"], [0.7, \"#b8e186\"], [0.8, \"#7fbc41\"], [0.9, \"#4d9221\"], [1, \"#276419\"]], \"sequential\": [[0.0, \"#0d0887\"], [0.1111111111111111, \"#46039f\"], [0.2222222222222222, \"#7201a8\"], [0.3333333333333333, \"#9c179e\"], [0.4444444444444444, \"#bd3786\"], [0.5555555555555556, \"#d8576b\"], [0.6666666666666666, \"#ed7953\"], [0.7777777777777778, \"#fb9f3a\"], [0.8888888888888888, \"#fdca26\"], [1.0, \"#f0f921\"]], \"sequentialminus\": [[0.0, \"#0d0887\"], [0.1111111111111111, \"#46039f\"], [0.2222222222222222, \"#7201a8\"], [0.3333333333333333, \"#9c179e\"], [0.4444444444444444, \"#bd3786\"], [0.5555555555555556, \"#d8576b\"], [0.6666666666666666, \"#ed7953\"], [0.7777777777777778, \"#fb9f3a\"], [0.8888888888888888, \"#fdca26\"], [1.0, \"#f0f921\"]]}, \"colorway\": [\"#636efa\", \"#EF553B\", \"#00cc96\", \"#ab63fa\", \"#FFA15A\", \"#19d3f3\", \"#FF6692\", \"#B6E880\", \"#FF97FF\", \"#FECB52\"], \"font\": {\"color\": \"#2a3f5f\"}, \"geo\": {\"bgcolor\": \"white\", \"lakecolor\": \"white\", \"landcolor\": \"#E5ECF6\", \"showlakes\": true, \"showland\": true, \"subunitcolor\": \"white\"}, \"hoverlabel\": {\"align\": \"left\"}, \"hovermode\": \"closest\", \"mapbox\": {\"style\": \"light\"}, \"paper_bgcolor\": \"white\", \"plot_bgcolor\": \"#E5ECF6\", \"polar\": {\"angularaxis\": {\"gridcolor\": \"white\", \"linecolor\": \"white\", \"ticks\": \"\"}, \"bgcolor\": \"#E5ECF6\", \"radialaxis\": {\"gridcolor\": \"white\", \"linecolor\": \"white\", \"ticks\": \"\"}}, \"scene\": {\"xaxis\": {\"backgroundcolor\": \"#E5ECF6\", \"gridcolor\": \"white\", \"gridwidth\": 2, \"linecolor\": \"white\", \"showbackground\": true, \"ticks\": \"\", \"zerolinecolor\": \"white\"}, \"yaxis\": {\"backgroundcolor\": \"#E5ECF6\", \"gridcolor\": \"white\", \"gridwidth\": 2, \"linecolor\": \"white\", \"showbackground\": true, \"ticks\": \"\", \"zerolinecolor\": \"white\"}, \"zaxis\": {\"backgroundcolor\": \"#E5ECF6\", \"gridcolor\": \"white\", \"gridwidth\": 2, \"linecolor\": \"white\", \"showbackground\": true, \"ticks\": \"\", \"zerolinecolor\": \"white\"}}, \"shapedefaults\": {\"line\": {\"color\": \"#2a3f5f\"}}, \"ternary\": {\"aaxis\": {\"gridcolor\": \"white\", \"linecolor\": \"white\", \"ticks\": \"\"}, \"baxis\": {\"gridcolor\": \"white\", \"linecolor\": \"white\", \"ticks\": \"\"}, \"bgcolor\": \"#E5ECF6\", \"caxis\": {\"gridcolor\": \"white\", \"linecolor\": \"white\", \"ticks\": \"\"}}, \"title\": {\"x\": 0.05}, \"xaxis\": {\"automargin\": true, \"gridcolor\": \"white\", \"linecolor\": \"white\", \"ticks\": \"\", \"title\": {\"standoff\": 15}, \"zerolinecolor\": \"white\", \"zerolinewidth\": 2}, \"yaxis\": {\"automargin\": true, \"gridcolor\": \"white\", \"linecolor\": \"white\", \"ticks\": \"\", \"title\": {\"standoff\": 15}, \"zerolinecolor\": \"white\", \"zerolinewidth\": 2}}}, \"title\": {\"font\": {\"size\": 24}, \"text\": \"Box Plot of Ladder Score (East Asian Countries)\"}, \"width\": 800, \"xaxis\": {\"anchor\": \"y\", \"domain\": [0.0, 1.0], \"title\": {\"text\": \"Happiness Score\"}}, \"yaxis\": {\"anchor\": \"x\", \"domain\": [0.0, 1.0]}},                        {\"responsive\": true}                    ).then(function(){\n",
       "                            \n",
       "var gd = document.getElementById('97754a4b-b794-47ae-93f1-f8b36515e5df');\n",
       "var x = new MutationObserver(function (mutations, observer) {{\n",
       "        var display = window.getComputedStyle(gd).display;\n",
       "        if (!display || display === 'none') {{\n",
       "            console.log([gd, 'removed!']);\n",
       "            Plotly.purge(gd);\n",
       "            observer.disconnect();\n",
       "        }}\n",
       "}});\n",
       "\n",
       "// Listen for the removal of the full notebook cells\n",
       "var notebookContainer = gd.closest('#notebook-container');\n",
       "if (notebookContainer) {{\n",
       "    x.observe(notebookContainer, {childList: true});\n",
       "}}\n",
       "\n",
       "// Listen for the clearing of the current output cell\n",
       "var outputEl = gd.closest('.output');\n",
       "if (outputEl) {{\n",
       "    x.observe(outputEl, {childList: true});\n",
       "}}\n",
       "\n",
       "                        })                };                });            </script>        </div>"
      ]
     },
     "metadata": {},
     "output_type": "display_data"
    },
    {
     "name": "stdout",
     "output_type": "stream",
     "text": [
      "mean= 5.810333333333333\n",
      "median= 5.761\n"
     ]
    }
   ],
   "source": [
    "fig = px.box(data_frame=df_east_asia,\n",
    "            x='Ladder score',orientation='h',width=800,height=300,\n",
    "            labels={'Ladder score': 'Happiness Score'})\n",
    "fig.update_layout(\n",
    "    title_text='Box Plot of Ladder Score (East Asian Countries)',\n",
    "    title_font_size=24)\n",
    "fig.show()\n",
    "mean_lad=df_east_asia['Ladder score'].mean()\n",
    "median_lad=df_east_asia['Ladder score'].median()\n",
    "print('mean=',mean_lad)\n",
    "print('median=',median_lad)"
   ]
  },
  {
   "cell_type": "code",
   "execution_count": 26,
   "metadata": {},
   "outputs": [],
   "source": [
    "colors_blue = [\"#132C33\", \"#264D58\", '#17869E', '#51C4D3', '#B4DBE9']\n",
    "colors_dark = [\"#1F1F1F\", \"#313131\", '#636363', '#AEAEAE', '#DADADA']\n",
    "colors_red = [\"#331313\", \"#582626\", '#9E1717', '#D35151', '#E9B4B4']\n",
    "colors_mix = [\"#17869E\", '#264D58', '#179E66', '#D35151', '#E9DAB4', '#E9B4B4', '#D3B651', '#6351D3']\n",
    "colors_div = [\"#132C33\", '#17869E', '#DADADA', '#D35151', '#331313']\n",
    "\n",
    "def NonLinCdict(steps, hexcol_array):\n",
    "    cdict = {'red': (), 'green': (), 'blue': ()}\n",
    "    for s, hexcol in zip(steps, hexcol_array):\n",
    "        rgb =mpl.colors.hex2color(hexcol)\n",
    "        cdict['red'] = cdict['red'] + ((s, rgb[0], rgb[0]),)\n",
    "        cdict['green'] = cdict['green'] + ((s, rgb[1], rgb[1]),)\n",
    "        cdict['blue'] = cdict['blue'] + ((s, rgb[2], rgb[2]),)\n",
    "    return cdict\n",
    "\n",
    "th = [0, 0.2, 0.5, 0.8, 1]\n",
    "cdict = NonLinCdict(th, colors_blue )\n",
    "cdiv = NonLinCdict(th, colors_div)\n",
    "\n",
    "cm = LinearSegmentedColormap('blue', cdict)\n",
    "cm_div = LinearSegmentedColormap('div',cdiv)\n",
    "\n",
    "mpl.rcParams['axes.spines.right'] = False\n",
    "mpl.rcParams['axes.spines.top'] = False\n",
    "mpl.rcParams['axes.spines.left'] = False\n",
    "mpl.rcParams['axes.titlecolor'] = colors_dark[0]\n",
    "mpl.rcParams['axes.labelcolor'] = colors_dark[0]\n",
    "\n",
    "# tick\n",
    "mpl.rcParams['xtick.color'] = colors_dark[0]\n",
    "mpl.rcParams['ytick.color'] = colors_dark[0]\n",
    "mpl.rcParams['xtick.labelsize'] = 12\n",
    "mpl.rcParams['ytick.labelsize'] = 12\n",
    "\n",
    "\n",
    "# legend \n",
    "mpl.rcParams['legend.edgecolor'] = \"#1F1F1F\""
   ]
  },
  {
   "cell_type": "code",
   "execution_count": 27,
   "metadata": {},
   "outputs": [
    {
     "data": {
      "image/png": "[encoded data removed]",
      "text/plain": [
       "<Figure size 1008x576 with 1 Axes>"
      ]
     },
     "metadata": {
      "needs_background": "light"
     },
     "output_type": "display_data"
    }
   ],
   "source": [
    "# Pick the index we need for East Asia countries -- +1 because original index starts from 0\n",
    "east_asia_idx = list(df_east_asia.index + 1)\n",
    " \n",
    "# Graph setup -- mathplotlib\n",
    "fig, ax = plt.subplots(figsize=(14, 8)) # Create a frame of the graphs\n",
    "\n",
    "ax.grid(axis='y', alpha=0.3) # Create grid \n",
    "ax.set_axisbelow(True)\n",
    "\n",
    "ax.set_xlabel(\"Countries\", fontsize=14, labelpad=10, fontweight='bold')\n",
    "ax.set_ylabel(\"Ladder Score\", fontsize=14, labelpad=10, fontweight='bold')\n",
    "\n",
    "xmin, xmax = ax.get_xlim()\n",
    "ymin, ymax = ax.get_ylim()\n",
    "\n",
    "\n",
    "# Line for Global Mean \n",
    "data_21_mean_line = ax.text(\n",
    "                                s=\"Global\\nMean: {:.2f}\".format(data_21_mean_score),\n",
    "                                x=xmax*1.02,\n",
    "                                y=data_21_mean_score,\n",
    "                                backgroundcolor= '#1F1F1F',\n",
    "                                fontsize=12,\n",
    "                                fontweight='bold',\n",
    "                                color='white'\n",
    ")\n",
    "\n",
    "# Line for Mean - East Asian Countries \n",
    "east_asian_mean_line = ax.text(\n",
    "                                s=\"East Asia\\nMean: {:.2f}\".format(east_asia_mean_score),\n",
    "                                x=xmax*1.02,\n",
    "                                y=east_asia_mean_score,\n",
    "                                backgroundcolor= '#1F1F1F',\n",
    "                                fontsize=12,\n",
    "                                fontweight='bold',\n",
    "                                color='white'\n",
    ")\n",
    "\n",
    "# East Asian Countries Ladder Score Bar\n",
    "bars1 = ax.bar(df_east_asia['Country name'], df_east_asia['Ladder score'], alpha=0.4)\n",
    "\n",
    "line  = ax.axhline(data_21_mean_score, linestyle='--', color=\"#1F1F1F\")\n",
    "\n",
    "# HK Ladder Score Bar\n",
    "bars1[4].set_alpha(1)\n",
    "bars1[4].set_color('#9E1717')\n",
    "bars1[4].set_edgecolor('#636363')\n",
    "\n",
    "for i, bar in enumerate(bars1) : \n",
    "    x=bar.get_x()\n",
    "    y=bar.get_height()\n",
    "    # HK bar will be the one stand out \n",
    "    if i != 4 : \n",
    "        ax.text(\n",
    "            s=f\"{east_asia_idx[i]}th\",\n",
    "            va='center', ha='center', \n",
    "            x=x+0.38, y=y/2,\n",
    "            color= '#9E1717',\n",
    "            fontsize=14,\n",
    "        )\n",
    "    else : \n",
    "        ax.text(\n",
    "        s=f\"{east_asia_idx[i]}th\",\n",
    "        va='center', ha='center', \n",
    "        x=x+0.38, y=y/2,\n",
    "        color='white',\n",
    "        fontsize=14,\n",
    "        fontweight='bold'\n",
    "    )\n",
    "    \n",
    "plt.text(s=\"Hong Kong VS East Asian Countries (Ladder Score)\", ha='right', x='Center', y=ymax*7, fontsize=24, fontweight='bold')\n",
    "#plt.tight_layout()\n",
    "plt.show()\n",
    "\n"
   ]
  },
  {
   "cell_type": "code",
   "execution_count": null,
   "metadata": {},
   "outputs": [],
   "source": []
  },
  {
   "cell_type": "code",
   "execution_count": null,
   "metadata": {},
   "outputs": [],
   "source": []
  }
 ],
 "metadata": {
  "kernelspec": {
   "display_name": "Python 3",
   "language": "python",
   "name": "python3"
  },
  "language_info": {
   "codemirror_mode": {
    "name": "ipython",
    "version": 3
   },
   "file_extension": ".py",
   "mimetype": "text/x-python",
   "name": "python",
   "nbconvert_exporter": "python",
   "pygments_lexer": "ipython3",
   "version": "3.8.5"
  }
 },
 "nbformat": 4,
 "nbformat_minor": 4
}
