{
 "cells": [
  {
   "cell_type": "code",
   "execution_count": 1,
   "metadata": {
    "_cell_guid": "b1076dfc-b9ad-4769-8c92-a6c4dae69d19",
    "_uuid": "8f2839f25d086af736a60e9eeb907d3b93b6e0e5",
    "execution": {
     "iopub.execute_input": "2021-05-24T22:11:14.224886Z",
     "iopub.status.busy": "2021-05-24T22:11:14.224036Z",
     "iopub.status.idle": "2021-05-24T22:11:14.246323Z",
     "shell.execute_reply": "2021-05-24T22:11:14.245239Z",
     "shell.execute_reply.started": "2021-05-24T22:11:14.224710Z"
    }
   },
   "outputs": [],
   "source": [
    "# This Python 3 environment comes with many helpful analytics libraries installed\n",
    "# It is defined by the kaggle/python Docker image: https://github.com/kaggle/docker-python\n",
    "# For example, here's several helpful packages to load\n",
    "\n",
    "import numpy as np # linear algebra\n",
    "import pandas as pd # data processing, CSV file I/O (e.g. pd.read_csv)\n",
    "\n",
    "# Input data files are available in the read-only \"../input/\" directory\n",
    "# For example, running this (by clicking run or pressing Shift+Enter) will list all files under the input directory\n",
    "\n",
    "import os\n",
    "for dirname, _, filenames in os.walk('/kaggle/input'):\n",
    "    for filename in filenames:\n",
    "        print(os.path.join(dirname, filename))\n",
    "\n",
    "# You can write up to 20GB to the current directory (/kaggle/working/) that gets preserved as output when you create a version using \"Save & Run All\" \n",
    "# You can also write temporary files to /kaggle/temp/, but they won't be saved outside of the current session"
   ]
  },
  {
   "cell_type": "code",
   "execution_count": 2,
   "metadata": {
    "execution": {
     "iopub.execute_input": "2021-05-24T22:11:14.248987Z",
     "iopub.status.busy": "2021-05-24T22:11:14.248466Z",
     "iopub.status.idle": "2021-05-24T22:11:16.677513Z",
     "shell.execute_reply": "2021-05-24T22:11:16.675762Z",
     "shell.execute_reply.started": "2021-05-24T22:11:14.248945Z"
    }
   },
   "outputs": [],
   "source": [
    "import pandas as pd\n",
    "import numpy as np\n",
    "import matplotlib.pyplot as plt\n",
    "import seaborn as sns\n",
    "import matplotlib as mpl\n",
    "from matplotlib.colors import LinearSegmentedColormap\n",
    "import plotly.express as px\n",
    "import plotly.graph_objects as go\n",
    "from plotly.subplots import make_subplots"
   ]
  },
  {
   "cell_type": "code",
   "execution_count": 5,
   "metadata": {
    "execution": {
     "iopub.execute_input": "2021-05-24T22:12:27.743880Z",
     "iopub.status.busy": "2021-05-24T22:12:27.743233Z",
     "iopub.status.idle": "2021-05-24T22:12:27.813658Z",
     "shell.execute_reply": "2021-05-24T22:12:27.812722Z",
     "shell.execute_reply.started": "2021-05-24T22:12:27.743825Z"
    }
   },
   "outputs": [],
   "source": [
    "df_data_21 = pd.read_csv('world-happiness-report-2021.csv')\n",
    "df_data_21\n",
    "df_data_past = pd.read_csv('world-happiness-report.csv')\n",
    "df_data_past\n",
    "## List of Hong Kong's neightbor countries/provinces (East Asia)\n",
    "east_asia = df_data_21[df_data_21['Regional indicator'] == \"East Asia\"]['Country name'].to_list()\n",
    "## Dataset of Hong Kong's neightbor countries/provinces (East Asia)\n",
    "df_east_asia = pd.DataFrame(df_data_21[df_data_21['Country name'].isin(east_asia)])\n",
    "# The country in the world that has the highest ladder score: Finland\n",
    "data_21_top = df_data_21.iloc[0:1]\n",
    "# The country in the world that has the lowest ladder score: Afghanistan \n",
    "data_21_bottom = (df_data_21.iloc[-1])\n",
    "# The country (province) in East Asia that has the highest ladder score: Taiwan \n",
    "east_asia_top = df_east_asia.iloc[0:1]\n",
    "# The country (province) in East Asia that has the lowest ladder score: China\n",
    "east_asia_bottom = (df_east_asia.iloc[-1])\n",
    "# Hong Kong\n",
    "east_asia_HK = (df_east_asia.iloc[-2])\n",
    "# Means \n",
    "data_21_mean_score = float(round(df_data_21['Ladder score'].mean(),2))\n",
    "east_asia_mean_score = float(round(df_east_asia['Ladder score'].mean(),2))\n",
    "\n",
    "e_a_meanVStop = abs(east_asia_mean_score - float(round(east_asia_top['Ladder score'].mean(),2)))\n",
    "e_a_meanVSbottom = abs(east_asia_mean_score - float(round(east_asia_bottom['Ladder score'].mean(),2)))\n",
    "e_a_meanVSHK = abs(east_asia_mean_score - float(round(east_asia_HK['Ladder score'].mean(),2)))\n",
    "\n",
    "data_21_meanVStop = abs(data_21_mean_score - float(round(data_21_top['Ladder score'].mean(),2)))\n",
    "data_21_meanVSbottom = abs(data_21_mean_score - float(round(data_21_bottom['Ladder score'].mean(),2)))\n",
    "\n"
   ]
  },
  {
   "cell_type": "code",
   "execution_count": 6,
   "metadata": {
    "execution": {
     "iopub.execute_input": "2021-05-24T22:13:18.856613Z",
     "iopub.status.busy": "2021-05-24T22:13:18.855967Z",
     "iopub.status.idle": "2021-05-24T22:13:19.284313Z",
     "shell.execute_reply": "2021-05-24T22:13:19.283291Z",
     "shell.execute_reply.started": "2021-05-24T22:13:18.856555Z"
    }
   },
   "outputs": [
    {
     "data": {
      "image/png": "[encoded data removed]",
      "text/plain": [
       "<Figure size 360x72 with 1 Axes>"
      ]
     },
     "metadata": {
      "needs_background": "light"
     },
     "output_type": "display_data"
    },
    {
     "data": {
      "image/png": "[encoded data removed]",
      "text/plain": [
       "<Figure size 360x72 with 1 Axes>"
      ]
     },
     "metadata": {
      "needs_background": "light"
     },
     "output_type": "display_data"
    },
    {
     "data": {
      "image/png": "[encoded data removed]",
      "text/plain": [
       "<Figure size 360x72 with 1 Axes>"
      ]
     },
     "metadata": {
      "needs_background": "light"
     },
     "output_type": "display_data"
    },
    {
     "data": {
      "image/png": "[encoded data removed]",
      "text/plain": [
       "<Figure size 576x72 with 1 Axes>"
      ]
     },
     "metadata": {
      "needs_background": "light"
     },
     "output_type": "display_data"
    },
    {
     "data": {
      "image/png": "[encoded data removed]",
      "text/plain": [
       "<Figure size 360x72 with 1 Axes>"
      ]
     },
     "metadata": {
      "needs_background": "light"
     },
     "output_type": "display_data"
    }
   ],
   "source": [
    "colors_blue = [\"#132C33\", \"#264D58\", '#17869E', '#51C4D3', '#B4DBE9']\n",
    "colors_dark = [\"#1F1F1F\", \"#313131\", '#636363', '#AEAEAE', '#DADADA']\n",
    "colors_red = [\"#331313\", \"#582626\", '#9E1717', '#D35151', '#E9B4B4']\n",
    "colors_mix = [\"#17869E\", '#264D58', '#179E66', '#D35151', '#E9DAB4', '#E9B4B4', '#D3B651', '#6351D3']\n",
    "colors_div = [\"#132C33\", '#17869E', '#DADADA', '#D35151', '#331313']\n",
    "\n",
    "sns.palplot(colors_blue)\n",
    "sns.palplot(colors_dark)\n",
    "sns.palplot(colors_red)\n",
    "sns.palplot(colors_mix)\n",
    "sns.palplot(colors_div)\n",
    "\n",
    "def NonLinCdict(steps, hexcol_array):\n",
    "    cdict = {'red': (), 'green': (), 'blue': ()}\n",
    "    for s, hexcol in zip(steps, hexcol_array):\n",
    "        rgb =mpl.colors.hex2color(hexcol)\n",
    "        cdict['red'] = cdict['red'] + ((s, rgb[0], rgb[0]),)\n",
    "        cdict['green'] = cdict['green'] + ((s, rgb[1], rgb[1]),)\n",
    "        cdict['blue'] = cdict['blue'] + ((s, rgb[2], rgb[2]),)\n",
    "    return cdict\n",
    "\n",
    "th = [0, 0.2, 0.5, 0.8, 1]\n",
    "cdict = NonLinCdict(th, colors_blue )\n",
    "cdiv = NonLinCdict(th, colors_div)\n",
    "\n",
    "cm = LinearSegmentedColormap('blue', cdict)\n",
    "cm_div = LinearSegmentedColormap('div',cdiv)\n",
    "\n",
    "mpl.rcParams['axes.spines.right'] = False\n",
    "mpl.rcParams['axes.spines.top'] = False\n",
    "mpl.rcParams['axes.spines.left'] = False\n",
    "mpl.rcParams['axes.titlecolor'] = colors_dark[0]\n",
    "mpl.rcParams['axes.labelcolor'] = colors_dark[0]\n",
    "\n",
    "# tick\n",
    "mpl.rcParams['xtick.color'] = colors_dark[0]\n",
    "mpl.rcParams['ytick.color'] = colors_dark[0]\n",
    "mpl.rcParams['xtick.labelsize'] = 12\n",
    "mpl.rcParams['ytick.labelsize'] = 12\n",
    "\n",
    "\n",
    "# legend \n",
    "mpl.rcParams['legend.edgecolor'] = \"#1F1F1F\""
   ]
  },
  {
   "cell_type": "code",
   "execution_count": 18,
   "metadata": {
    "execution": {
     "iopub.execute_input": "2021-05-24T22:14:09.064692Z",
     "iopub.status.busy": "2021-05-24T22:14:09.063906Z",
     "iopub.status.idle": "2021-05-24T22:14:09.506691Z",
     "shell.execute_reply": "2021-05-24T22:14:09.505547Z",
     "shell.execute_reply.started": "2021-05-24T22:14:09.064643Z"
    }
   },
   "outputs": [
    {
     "data": {
      "image/png": "[encoded data removed]",
      "text/plain": [
       "<Figure size 1008x576 with 1 Axes>"
      ]
     },
     "metadata": {
      "needs_background": "light"
     },
     "output_type": "display_data"
    }
   ],
   "source": [
    "# Pick the index we need for East Asia countries -- +1 because original index starts from 0\n",
    "east_asia_idx = list(df_east_asia.index + 1)\n",
    " \n",
    "# Graph setup -- mathplotlib\n",
    "fig, ax = plt.subplots(figsize=(14, 8)) # Create a frame of the graphs\n",
    "\n",
    "ax.grid(axis='y', alpha=0.3) # Create grid \n",
    "ax.set_axisbelow(True)\n",
    "\n",
    "ax.set_xlabel(\"Countries\", fontsize=14, labelpad=10, fontweight='bold')\n",
    "ax.set_ylabel(\"Ladder Score\", fontsize=14, labelpad=10, fontweight='bold')\n",
    "\n",
    "xmin, xmax = ax.get_xlim()\n",
    "ymin, ymax = ax.get_ylim()\n",
    "\n",
    "\n",
    "# Line for Global Mean \n",
    "data_21_mean_line = ax.text(\n",
    "                                s=\"Global\\nMean: {:.2f}\".format(data_21_mean_score),\n",
    "                                x=xmax*1.02,\n",
    "                                y=data_21_mean_score,\n",
    "                                backgroundcolor= '#1F1F1F',\n",
    "                                fontsize=12,\n",
    "                                fontweight='bold',\n",
    "                                color='white'\n",
    ")\n",
    "\n",
    "# Line for Mean - East Asian Countries \n",
    "east_asian_mean_line = ax.text(\n",
    "                                s=\"East Asia\\nMean: {:.2f}\".format(east_asia_mean_score),\n",
    "                                x=xmax*1.02,\n",
    "                                y=east_asia_mean_score,\n",
    "                                backgroundcolor= '#1F1F1F',\n",
    "                                fontsize=12,\n",
    "                                fontweight='bold',\n",
    "                                color='white'\n",
    ")\n",
    "\n",
    "\n",
    "\n",
    "# East Asian Countries Ladder Score Bar\n",
    "bars1 = ax.bar(df_east_asia['Country name'], df_east_asia['Ladder score'], alpha=0.4)\n",
    "\n",
    "line  = ax.axhline(data_21_mean_score, linestyle='--', color=\"#1F1F1F\")\n",
    "\n",
    "# HK Ladder Score Bar\n",
    "bars1[5].set_alpha(1)\n",
    "bars1[5].set_color('#9E1717')\n",
    "bars1[5].set_edgecolor('#636363')\n",
    "\n",
    "for i, bar in enumerate(bars1) : \n",
    "    x=bar.get_x()\n",
    "    y=bar.get_height()\n",
    "    if i != 5 : \n",
    "        ax.text(\n",
    "            s=f\"{east_asia_idx[i]}th\",\n",
    "            va='center', ha='center', \n",
    "            x=x+0.38, y=y/2,\n",
    "            color= '#9E1717',\n",
    "            fontsize=14,\n",
    "        )\n",
    "    else : \n",
    "        ax.text(\n",
    "        s=f\"{east_asia_idx[i]}th\",\n",
    "        va='center', ha='center', \n",
    "        x=x+0.38, y=y/2,\n",
    "        color='white',\n",
    "        fontsize=14,\n",
    "        fontweight='bold'\n",
    "    )\n",
    "    \n",
    "plt.text(s=\"Hong Kong VS East Asian Countries (Ladder Score)\", ha='right', x='Center', y=ymax*7, fontsize=24, fontweight='bold')\n",
    "#plt.tight_layout()\n",
    "plt.show()\n"
   ]
  },
  {
   "cell_type": "code",
   "execution_count": 9,
   "metadata": {},
   "outputs": [
    {
     "data": {
      "text/plain": [
       "(-0.69, 5.6899999999999995)"
      ]
     },
     "execution_count": 9,
     "metadata": {},
     "output_type": "execute_result"
    }
   ],
   "source": [
    "\n",
    "xmin, xmax"
   ]
  },
  {
   "cell_type": "code",
   "execution_count": null,
   "metadata": {},
   "outputs": [],
   "source": [
    "df_e_a_data_past = df_data_past[df_data_past['Country name'].isin(east_asia)].set_index('Country name')\n",
    "df_hk = df_e_a_data_past.loc['Hong Kong S.A.R. of China'].reset_index()\n",
    "df_e_a_nonHK = df_e_a_data_past[df_e_a_data_past['Country name'] != \"Hong Kong S.A.R. of China\"]\n",
    "mean_hk = df_hk['Life Ladder'].mean()\n",
    "\n",
    "fig, ax = plt.subplots(figsize=(14, 8), dpi=75)\n",
    "\n",
    "line0 = sns.lineplot(data=df, x='year', y='Life Ladder', hue='Country name', alpha=0.2, ax=ax, palette=colors_mix[:9])\n",
    "line1 = ax.plot(df_idn.year, df_idn['Life Ladder'], alpha=1, marker='o', color=colors_red[3], linewidth=3, label='Indonesia')\n",
    "line2 = ax.axhline(mean_idn, linestyle='--', alpha=1, color=colors_dark[1])\n",
    "\n",
    "\n",
    "ax.legend(loc='upper center', bbox_to_anchor=(0.5, -0.2), ncol=5, borderpad=1, frameon=False, fontsize=12)\n",
    "ax.grid(axis='y', alpha=0.3)\n",
    "ax.set_axisbelow(True)\n",
    "ax.set_xlabel(\"Countries\", fontsize=14, labelpad=10, fontweight='bold', color=colors_dark[0])\n",
    "ax.set_ylabel(\"Score\", fontsize=14, labelpad=10, fontweight='bold', color=colors_dark[0])\n",
    "xmin, xmax = ax.get_xlim()\n",
    "ymin, ymax = ax.get_ylim()\n",
    "\n",
    "avgl  = ax.text(\n",
    "    s=\"Hong Kong's\\nAverage\\nScore: {:.2f}\".format(mean_hk),\n",
    "    x=xmax+0.5,\n",
    "    y=mean_hk,\n",
    "    backgroundcolor=colors_dark[2],\n",
    "    fontsize=12,\n",
    "    fontweight='bold',\n",
    "    color='white'\n",
    ")\n",
    "\n",
    "plt.text(s=\"Indonesia's Ladder Score Since 2006\", ha='left', x=xmin, y=ymax*1.08, fontsize=24, fontweight='bold', color=colors_dark[0])\n",
    "plt.show()"
   ]
  }
 ],
 "metadata": {
  "kernelspec": {
   "display_name": "Python 3",
   "language": "python",
   "name": "python3"
  },
  "language_info": {
   "codemirror_mode": {
    "name": "ipython",
    "version": 3
   },
   "file_extension": ".py",
   "mimetype": "text/x-python",
   "name": "python",
   "nbconvert_exporter": "python",
   "pygments_lexer": "ipython3",
   "version": "3.8.5"
  }
 },
 "nbformat": 4,
 "nbformat_minor": 4
}
